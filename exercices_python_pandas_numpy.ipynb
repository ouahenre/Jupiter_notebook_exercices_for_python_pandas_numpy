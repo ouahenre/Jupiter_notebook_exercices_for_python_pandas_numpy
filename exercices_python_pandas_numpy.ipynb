{
 "cells": [
  {
   "cell_type": "code",
   "execution_count": 1,
   "id": "11ac24a0-d835-4bf1-822a-c6dc8c6788eb",
   "metadata": {},
   "outputs": [
    {
     "name": "stdout",
     "output_type": "stream",
     "text": [
      "hello world\n"
     ]
    }
   ],
   "source": [
    "print (\"hello world\")"
   ]
  },
  {
   "cell_type": "code",
   "execution_count": 4,
   "id": "3af2f797-fbac-4192-ac9c-032f9feea3a7",
   "metadata": {},
   "outputs": [
    {
     "name": "stdout",
     "output_type": "stream",
     "text": [
      "est-ce que Z est équivalent y?: True\n",
      "est-ce que 'Parakou' est 'superieur' à Librevilles?: True\n"
     ]
    }
   ],
   "source": [
    "z=5\n",
    "y=5.0\n",
    "b=1000\n",
    "print(\"est-ce que Z est équivalent y?:\",z==y)\n",
    "print(\"est-ce que 'Parakou' est 'superieur' à Librevilles?:\",'parakou' > 'Libreville')\n"
   ]
  },
  {
   "cell_type": "code",
   "execution_count": null,
   "id": "b6f2fc86-9ab6-4d9c-89c3-aa2ef6f3a564",
   "metadata": {},
   "outputs": [],
   "source": []
  },
  {
   "cell_type": "markdown",
   "id": "29431cf0-c259-4d4e-b0a7-93a7f5c15f26",
   "metadata": {},
   "source": [
    "Exercice d'application2"
   ]
  },
  {
   "cell_type": "code",
   "execution_count": 25,
   "id": "d4b2bc93-c1cf-4a6f-ae1c-1dd301ff73cd",
   "metadata": {},
   "outputs": [
    {
     "name": "stdin",
     "output_type": "stream",
     "text": [
      "Quel est votre âge 25\n"
     ]
    },
    {
     "name": "stdout",
     "output_type": "stream",
     "text": [
      "vous piuvez voter\n",
      "vous pouvez voter et aussi jouer au jeu de hasard\n"
     ]
    }
   ],
   "source": [
    "age=int(input(\"Quel est votre âge\"))\n",
    "if age >=18:\n",
    "     print('vous piuvez voter')\n",
    "     if age>=25:\n",
    "           print('vous pouvez voter et aussi jouer au jeu de hasard')\n",
    "else:\n",
    "    print('patientez vous êtes encore trop jeune')"
   ]
  },
  {
   "cell_type": "code",
   "execution_count": 28,
   "id": "5b355f77-2c85-4594-8279-86a3f5fc15a5",
   "metadata": {},
   "outputs": [
    {
     "name": "stdout",
     "output_type": "stream",
     "text": [
      "1\n",
      "2\n",
      "3\n",
      "4\n",
      "5\n"
     ]
    }
   ],
   "source": [
    "#boucle for avec range()\n",
    "for i in range(1,6):\n",
    "    print (i)"
   ]
  },
  {
   "cell_type": "code",
   "execution_count": null,
   "id": "452e0281-f62f-4e45-a985-e6e8dee0246b",
   "metadata": {},
   "outputs": [],
   "source": []
  },
  {
   "cell_type": "code",
   "execution_count": 30,
   "id": "f4f6c264-e941-43e2-bfa2-293127656f8d",
   "metadata": {},
   "outputs": [
    {
     "name": "stdout",
     "output_type": "stream",
     "text": [
      "0\n",
      "1\n",
      "2\n",
      "3\n",
      "4\n",
      "5\n"
     ]
    }
   ],
   "source": [
    "for i in range(6):\n",
    "    print (i)"
   ]
  },
  {
   "cell_type": "code",
   "execution_count": 29,
   "id": "7dc5067a-8306-401c-8b56-93228799a947",
   "metadata": {},
   "outputs": [
    {
     "name": "stdout",
     "output_type": "stream",
     "text": [
      "3\n",
      "4\n",
      "5\n",
      "6\n",
      "7\n"
     ]
    }
   ],
   "source": [
    "#changer le pas d'incrémentation\n",
    "#boucle for avec range()\n",
    "for i in range(1,6):\n",
    "    print (i+2)\n",
    "    "
   ]
  },
  {
   "cell_type": "code",
   "execution_count": 34,
   "id": "b28f2d05-5fa1-48e8-b30b-bfdaa70d0940",
   "metadata": {},
   "outputs": [
    {
     "name": "stdout",
     "output_type": "stream",
     "text": [
      "p\n",
      "y\n",
      "t\n",
      "h\n",
      "o\n",
      "n\n"
     ]
    }
   ],
   "source": [
    "for i in 'python':\n",
    "    print (i)"
   ]
  },
  {
   "cell_type": "code",
   "execution_count": 33,
   "id": "4eb41bf1-1437-4620-a6eb-be3cc167b9ab",
   "metadata": {},
   "outputs": [
    {
     "name": "stdout",
     "output_type": "stream",
     "text": [
      "1\n",
      "3\n",
      "5\n",
      "7\n",
      "9\n"
     ]
    }
   ],
   "source": [
    "#changer le pas d'incrementation\n",
    "for i in range(1,11,2):\n",
    "    print (i)"
   ]
  },
  {
   "cell_type": "code",
   "execution_count": 36,
   "id": "491b3f35-14f4-4585-8124-19892183128c",
   "metadata": {},
   "outputs": [
    {
     "name": "stdout",
     "output_type": "stream",
     "text": [
      "b\n",
      "u\n",
      "s\n",
      "b\n",
      "u\n",
      "s\n",
      "b\n",
      "u\n",
      "s\n"
     ]
    }
   ],
   "source": [
    "#for imbriqué\n",
    "for i in range(3):\n",
    "    for i in 'bus':\n",
    "        print (i)"
   ]
  },
  {
   "cell_type": "code",
   "execution_count": null,
   "id": "4d465126-482a-4bf5-9a9e-26a332bc5dbc",
   "metadata": {},
   "outputs": [],
   "source": []
  },
  {
   "cell_type": "code",
   "execution_count": 38,
   "id": "a74106ea-a076-4a97-b902-4cf1191516ed",
   "metadata": {},
   "outputs": [
    {
     "name": "stdout",
     "output_type": "stream",
     "text": [
      "1 au carré est égal à:  1\n",
      "1 au carré est égal à:  4\n",
      "1 au carré est égal à:  9\n",
      "1 au carré est égal à:  16\n",
      "1 au carré est égal à:  25\n",
      "1 au carré est égal à:  36\n",
      "1 au carré est égal à:  49\n",
      "1 au carré est égal à:  64\n",
      "1 au carré est égal à:  81\n",
      "1 au carré est égal à:  100\n"
     ]
    }
   ],
   "source": [
    "#carré\n",
    "for i in range(1,11):\n",
    "    print(1,\"au carré est égal à: \",i**2)"
   ]
  },
  {
   "cell_type": "code",
   "execution_count": null,
   "id": "fd797c6d-768b-471f-b673-1b39fd7d9531",
   "metadata": {},
   "outputs": [],
   "source": []
  },
  {
   "cell_type": "code",
   "execution_count": 39,
   "id": "5b50829b-464e-4b01-8962-f5ba1604517d",
   "metadata": {},
   "outputs": [
    {
     "name": "stdout",
     "output_type": "stream",
     "text": [
      "0\n",
      "1\n",
      "2\n",
      "3\n",
      "4\n",
      "5\n",
      "6\n",
      "7\n",
      "8\n"
     ]
    }
   ],
   "source": [
    "#affichage des 1à premiers naturels (0,1,2...9)\n",
    "i=0 #initialisation de l'itératuer\n",
    "while i<9:\n",
    "    print(i)#instruction\n",
    "    i=i+1#incrémenteur"
   ]
  },
  {
   "cell_type": "code",
   "execution_count": 40,
   "id": "2cbde1fa-c1a9-4e8c-8cce-86f9af318aec",
   "metadata": {},
   "outputs": [
    {
     "name": "stdout",
     "output_type": "stream",
     "text": [
      "1\n",
      "2\n",
      "3\n",
      "4\n",
      "5\n",
      "6\n"
     ]
    }
   ],
   "source": [
    "#while avec break\n",
    "i=1\n",
    "while 1<=10:\n",
    "    print(i)\n",
    "    if i==6:\n",
    "        break\n",
    "    i=i+1"
   ]
  },
  {
   "cell_type": "code",
   "execution_count": null,
   "id": "47054fb4-651d-4b19-9b37-6ddc273fcab1",
   "metadata": {},
   "outputs": [],
   "source": []
  },
  {
   "cell_type": "code",
   "execution_count": 43,
   "id": "aec7f696-dd7b-4b27-8312-007c9963542e",
   "metadata": {},
   "outputs": [
    {
     "name": "stdout",
     "output_type": "stream",
     "text": [
      "0\n",
      "5\n",
      "10\n",
      "15\n",
      "20\n",
      "25\n",
      "30\n",
      "35\n",
      "40\n",
      "45\n",
      "50\n",
      "55 nest pas inférieur à 50\n"
     ]
    }
   ],
   "source": [
    "i=0\n",
    "while i<=50:\n",
    "    print(i)\n",
    "    i=i+5\n",
    "else:\n",
    "  print(i,\"nest pas inférieur à 50\")"
   ]
  },
  {
   "cell_type": "code",
   "execution_count": null,
   "id": "05227646-929b-4c42-94d1-bb25a1eb1a18",
   "metadata": {},
   "outputs": [],
   "source": []
  },
  {
   "cell_type": "code",
   "execution_count": 46,
   "id": "6d769cbb-98ba-4173-89f6-0d29e3a09434",
   "metadata": {},
   "outputs": [
    {
     "name": "stdout",
     "output_type": "stream",
     "text": [
      "entre un nombre\n"
     ]
    },
    {
     "name": "stdin",
     "output_type": "stream",
     "text": [
      " 10\n"
     ]
    },
    {
     "name": "stdout",
     "output_type": "stream",
     "text": [
      "10 est un nombre pair\n"
     ]
    }
   ],
   "source": [
    "#ecrire un code qui determine si un nombre est pair ou impair\n",
    "print(\"entre un nombre\")\n",
    "nombre=int(input())\n",
    "if nombre % 2==0:\n",
    "    print(nombre,'est un nombre pair')\n",
    "\n",
    "else:\n",
    "    print(nombre,'est un nombre imapir')"
   ]
  },
  {
   "cell_type": "code",
   "execution_count": 48,
   "id": "d06fb508-5c24-48ce-8c48-31290c4c16f7",
   "metadata": {},
   "outputs": [
    {
     "data": {
      "text/plain": [
       "['farine de blé', 'pâtes', 'lait', 'légumes']"
      ]
     },
     "execution_count": 48,
     "metadata": {},
     "output_type": "execute_result"
    }
   ],
   "source": [
    "#Création d'une liste avec []\n",
    "courses=['farine de blé','pâtes','lait','légumes']\n",
    "courses"
   ]
  },
  {
   "cell_type": "code",
   "execution_count": 49,
   "id": "397efc41-956f-41cd-95dc-a73b005b2e81",
   "metadata": {},
   "outputs": [
    {
     "data": {
      "text/plain": [
       "list"
      ]
     },
     "execution_count": 49,
     "metadata": {},
     "output_type": "execute_result"
    }
   ],
   "source": [
    "type(courses)\n"
   ]
  },
  {
   "cell_type": "code",
   "execution_count": 51,
   "id": "8deb886e-11c9-4200-95ea-0bf2b01123b4",
   "metadata": {},
   "outputs": [
    {
     "data": {
      "text/plain": [
       "'farine de blé'"
      ]
     },
     "execution_count": 51,
     "metadata": {},
     "output_type": "execute_result"
    }
   ],
   "source": [
    "#retrouver un ou plusieurs éléments d'une liste grâce à l'indexation\n",
    "courses[0]\n"
   ]
  },
  {
   "cell_type": "code",
   "execution_count": 52,
   "id": "def0505a-4f2b-4225-be1b-48ed7bca1fa5",
   "metadata": {},
   "outputs": [
    {
     "data": {
      "text/plain": [
       "['farine de blé', 'pâtes', 'lait']"
      ]
     },
     "execution_count": 52,
     "metadata": {},
     "output_type": "execute_result"
    }
   ],
   "source": [
    "courses[0:3]"
   ]
  },
  {
   "cell_type": "code",
   "execution_count": 54,
   "id": "8be9c1ea-e31b-4c9a-aaac-3885ec79b5dd",
   "metadata": {},
   "outputs": [
    {
     "data": {
      "text/plain": [
       "['farine de blé', 'pâtes', 'lait', 'légumes', 'viande', 'sucre']"
      ]
     },
     "execution_count": 54,
     "metadata": {},
     "output_type": "execute_result"
    }
   ],
   "source": [
    "#combiner les listes\n",
    "l=courses+['viande','sucre']\n",
    "l"
   ]
  },
  {
   "cell_type": "code",
   "execution_count": 55,
   "id": "bee60424-e9b8-40ae-99fd-c8eca2b4190a",
   "metadata": {},
   "outputs": [
    {
     "data": {
      "text/plain": [
       "[1, 10.5, 365, ['Michale Jackson', 1982, 'Pop'], True, False]"
      ]
     },
     "execution_count": 55,
     "metadata": {},
     "output_type": "execute_result"
    }
   ],
   "source": [
    "#on peut avoir une liste mixte\n",
    "liste_mixte=[1,10.5,365,['Michale Jackson',1982,'Pop'],True,False]\n",
    "liste_mixte"
   ]
  },
  {
   "cell_type": "code",
   "execution_count": 56,
   "id": "b22604ac-313d-4f8d-ad0b-154e531707a8",
   "metadata": {},
   "outputs": [
    {
     "data": {
      "text/plain": [
       "list"
      ]
     },
     "execution_count": 56,
     "metadata": {},
     "output_type": "execute_result"
    }
   ],
   "source": [
    "type(liste_mixte)\n"
   ]
  },
  {
   "cell_type": "code",
   "execution_count": 57,
   "id": "3dd12809-f888-4e31-8b2a-4b13cc129a65",
   "metadata": {},
   "outputs": [
    {
     "data": {
      "text/plain": [
       "['farine de blé',\n",
       " 'pâtes',\n",
       " 'lait',\n",
       " 'légumes',\n",
       " 'chocolat',\n",
       " 'crèmes glacées',\n",
       " 'biscuit']"
      ]
     },
     "execution_count": 57,
     "metadata": {},
     "output_type": "execute_result"
    }
   ],
   "source": [
    "#méthodes applicables aux listes\n",
    "#.extend()\n",
    "courses.extend(['chocolat','crèmes glacées','biscuit'])\n",
    "courses"
   ]
  },
  {
   "cell_type": "code",
   "execution_count": 58,
   "id": "85d74b9f-8c39-4fec-8083-07bc9bbe0dbe",
   "metadata": {},
   "outputs": [
    {
     "data": {
      "text/plain": [
       "2"
      ]
     },
     "execution_count": 58,
     "metadata": {},
     "output_type": "execute_result"
    }
   ],
   "source": [
    "#position d'un élément dans une liste avec la méthode .index()\n",
    "position_lait=courses.index('lait')\n",
    "position_lait"
   ]
  },
  {
   "cell_type": "code",
   "execution_count": 61,
   "id": "e8f2c42d-69d9-4e5b-9086-b9a788aedff8",
   "metadata": {},
   "outputs": [
    {
     "data": {
      "text/plain": [
       "'lait'"
      ]
     },
     "execution_count": 61,
     "metadata": {},
     "output_type": "execute_result"
    }
   ],
   "source": [
    "#supprimer un élément d'une liste avec la méthode pop\n",
    "courses.pop(2)"
   ]
  },
  {
   "cell_type": "code",
   "execution_count": 62,
   "id": "ca0e3bf8-36e1-43b9-8bf0-60aa0c36403c",
   "metadata": {},
   "outputs": [
    {
     "data": {
      "text/plain": [
       "['farine de blé', 'pâtes', 'légumes', 'chocolat', 'crèmes glacées', 'biscuit']"
      ]
     },
     "execution_count": 62,
     "metadata": {},
     "output_type": "execute_result"
    }
   ],
   "source": [
    "courses"
   ]
  },
  {
   "cell_type": "code",
   "execution_count": 69,
   "id": "60a7ab10-e22c-4ec6-9871-90918a5da38c",
   "metadata": {},
   "outputs": [
    {
     "name": "stdout",
     "output_type": "stream",
     "text": [
      "quel est votre âge\n"
     ]
    },
    {
     "name": "stdin",
     "output_type": "stream",
     "text": [
      " 30\n"
     ]
    },
    {
     "name": "stdout",
     "output_type": "stream",
     "text": [
      "quel est votre âge\n"
     ]
    },
    {
     "name": "stdin",
     "output_type": "stream",
     "text": [
      " 22\n"
     ]
    },
    {
     "name": "stdout",
     "output_type": "stream",
     "text": [
      "quel est votre âge\n"
     ]
    },
    {
     "name": "stdin",
     "output_type": "stream",
     "text": [
      " 19\n"
     ]
    },
    {
     "name": "stdout",
     "output_type": "stream",
     "text": [
      "quel est votre âge\n"
     ]
    },
    {
     "name": "stdin",
     "output_type": "stream",
     "text": [
      " 25\n"
     ]
    },
    {
     "name": "stdout",
     "output_type": "stream",
     "text": [
      "quel est votre âge\n"
     ]
    },
    {
     "name": "stdin",
     "output_type": "stream",
     "text": [
      " 28\n"
     ]
    },
    {
     "data": {
      "text/plain": [
       "[30, 22, 19, 25, 28]"
      ]
     },
     "execution_count": 69,
     "metadata": {},
     "output_type": "execute_result"
    }
   ],
   "source": [
    "#age moyen median minimum maximum de 5 éleves \n",
    "n=5 #effectif de la classe\n",
    "age_list=[]\n",
    "for i in range(5):\n",
    "    print ('quel est votre âge')\n",
    "    age=int(input())\n",
    "    age_list.append(age)\n",
    "age_list\n",
    "    \n",
    "    "
   ]
  },
  {
   "cell_type": "code",
   "execution_count": null,
   "id": "b8f58150-c32e-4de8-a06d-bcea621a0c42",
   "metadata": {},
   "outputs": [],
   "source": []
  },
  {
   "cell_type": "code",
   "execution_count": 71,
   "id": "a65ee2b3-acbf-4e79-a695-e4d8291631bd",
   "metadata": {},
   "outputs": [
    {
     "name": "stdout",
     "output_type": "stream",
     "text": [
      "Age moyen: 25\n",
      "Age médian 25\n",
      "Age maximum 30\n",
      "Age minium 19\n"
     ]
    }
   ],
   "source": [
    "#importation de la librairie statistics\n",
    "import statistics as st\n",
    "#âge moyen\n",
    "print('Age moyen:',round(st.mean(age_list)))\n",
    "#age médian\n",
    "print('Age médian',st.median(age_list))\n",
    "#age maximum\n",
    "print('Age maximum',max(age_list))\n",
    "#age minimum\n",
    "print('Age minium',min(age_list))"
   ]
  },
  {
   "cell_type": "markdown",
   "id": "69229cf7-3581-4adb-aff8-3f40f3a46e43",
   "metadata": {},
   "source": [
    "Exercice d'application\n",
    "Ajoutez 3 éléments de votre choix à la liste courses\n",
    "appliquez la méthode.sort() à la liste courses\n",
    "affichez la liste courses. Que constatez-vous?\n"
   ]
  },
  {
   "cell_type": "code",
   "execution_count": 72,
   "id": "6307a05d-2104-4a95-9e17-59aaf00fd6a2",
   "metadata": {},
   "outputs": [
    {
     "data": {
      "text/plain": [
       "['farine de blé',\n",
       " 'pâtes',\n",
       " 'légumes',\n",
       " 'chocolat',\n",
       " 'crèmes glacées',\n",
       " 'biscuit',\n",
       " 'concombres',\n",
       " 'sardines',\n",
       " 'eau']"
      ]
     },
     "execution_count": 72,
     "metadata": {},
     "output_type": "execute_result"
    }
   ],
   "source": [
    "courses=courses+['concombres','sardines','eau']\n",
    "courses\n"
   ]
  },
  {
   "cell_type": "code",
   "execution_count": 75,
   "id": "341bbead-b34d-4079-9119-ee2a81414885",
   "metadata": {},
   "outputs": [
    {
     "data": {
      "text/plain": [
       "['biscuit',\n",
       " 'chocolat',\n",
       " 'concombres',\n",
       " 'crèmes glacées',\n",
       " 'eau',\n",
       " 'farine de blé',\n",
       " 'légumes',\n",
       " 'pâtes',\n",
       " 'sardines']"
      ]
     },
     "execution_count": 75,
     "metadata": {},
     "output_type": "execute_result"
    }
   ],
   "source": [
    "courses.sort()\n",
    "courses\n"
   ]
  },
  {
   "cell_type": "code",
   "execution_count": 2,
   "id": "47069b25-c827-4f5e-b799-5b186e81d6e1",
   "metadata": {},
   "outputs": [
    {
     "data": {
      "text/plain": [
       "{'nom': 'Jakie chnag', 'age': 66, 'pays': 'Hong Kong'}"
      ]
     },
     "execution_count": 2,
     "metadata": {},
     "output_type": "execute_result"
    }
   ],
   "source": [
    "#création d'un dctionnaire avec {}\n",
    "acteur={'nom':'Jakie chnag','age':66,'pays':'Hong Kong'}\n",
    "acteur"
   ]
  },
  {
   "cell_type": "code",
   "execution_count": 77,
   "id": "4e6b1ac1-1b88-49d6-ac62-553a69e45369",
   "metadata": {},
   "outputs": [
    {
     "data": {
      "text/plain": [
       "dict"
      ]
     },
     "execution_count": 77,
     "metadata": {},
     "output_type": "execute_result"
    }
   ],
   "source": [
    "type(acteur)"
   ]
  },
  {
   "cell_type": "code",
   "execution_count": 78,
   "id": "a15f9dbc-5c1d-44e0-a1b7-9aa52763f731",
   "metadata": {},
   "outputs": [
    {
     "data": {
      "text/plain": [
       "'Jakie chnag'"
      ]
     },
     "execution_count": 78,
     "metadata": {},
     "output_type": "execute_result"
    }
   ],
   "source": [
    "#valeur d'une clé\n",
    "acteur['nom']\n"
   ]
  },
  {
   "cell_type": "code",
   "execution_count": 79,
   "id": "654132f2-95b9-412c-9c7d-61f324e767ef",
   "metadata": {},
   "outputs": [
    {
     "data": {
      "text/plain": [
       "<function dict.values>"
      ]
     },
     "execution_count": 79,
     "metadata": {},
     "output_type": "execute_result"
    }
   ],
   "source": [
    "acteur.values"
   ]
  },
  {
   "cell_type": "code",
   "execution_count": 80,
   "id": "3b10b4d9-beff-4fe8-a8b3-a2476623ba09",
   "metadata": {},
   "outputs": [
    {
     "data": {
      "text/plain": [
       "dict_values(['Jakie chnag', 66, 'Hong Kong'])"
      ]
     },
     "execution_count": 80,
     "metadata": {},
     "output_type": "execute_result"
    }
   ],
   "source": [
    "acteur.values()\n"
   ]
  },
  {
   "cell_type": "code",
   "execution_count": 81,
   "id": "99638248-1c35-41ce-87ed-c52777e13203",
   "metadata": {},
   "outputs": [
    {
     "data": {
      "text/plain": [
       "dict_keys(['nom', 'age', 'pays'])"
      ]
     },
     "execution_count": 81,
     "metadata": {},
     "output_type": "execute_result"
    }
   ],
   "source": [
    "acteur.keys()"
   ]
  },
  {
   "cell_type": "code",
   "execution_count": 2,
   "id": "bb0bcfb6-1921-4d19-8d4e-18499cc0ff8c",
   "metadata": {},
   "outputs": [
    {
     "ename": "NameError",
     "evalue": "name 'acteur' is not defined",
     "output_type": "error",
     "traceback": [
      "\u001b[1;31m---------------------------------------------------------------------------\u001b[0m",
      "\u001b[1;31mNameError\u001b[0m                                 Traceback (most recent call last)",
      "Cell \u001b[1;32mIn[2], line 2\u001b[0m\n\u001b[0;32m      1\u001b[0m \u001b[38;5;66;03m#changer la valeur d'une clé\u001b[39;00m\n\u001b[1;32m----> 2\u001b[0m \u001b[43macteur\u001b[49m[\u001b[38;5;124m'\u001b[39m\u001b[38;5;124mage\u001b[39m\u001b[38;5;124m'\u001b[39m]\u001b[38;5;241m=\u001b[39m\u001b[38;5;241m68\u001b[39m\n\u001b[0;32m      3\u001b[0m acteur\n",
      "\u001b[1;31mNameError\u001b[0m: name 'acteur' is not defined"
     ]
    }
   ],
   "source": [
    "#changer la valeur d'une clé\n",
    "acteur['age']=68\n",
    "acteur"
   ]
  },
  {
   "cell_type": "code",
   "execution_count": 83,
   "id": "5f4fcce5-5bbd-48e3-946d-58dbc7e879cc",
   "metadata": {},
   "outputs": [
    {
     "data": {
      "text/plain": [
       "{'nom': 'Jakie chnag',\n",
       " 'age': 68,\n",
       " 'pays': 'Hong Kong',\n",
       " 'films': ['le maître chinois', 'karate kids', 'police story']}"
      ]
     },
     "execution_count": 83,
     "metadata": {},
     "output_type": "execute_result"
    }
   ],
   "source": [
    "#ajout d'une paire clé-valeur dans un dictionnaire\n",
    "acteur['films']=['le maître chinois','karate kids','police story']\n",
    "acteur"
   ]
  },
  {
   "cell_type": "code",
   "execution_count": 1,
   "id": "0057bc1a-35f8-46a2-86a9-1d2819020212",
   "metadata": {},
   "outputs": [
    {
     "ename": "NameError",
     "evalue": "name 'acteur' is not defined",
     "output_type": "error",
     "traceback": [
      "\u001b[1;31m---------------------------------------------------------------------------\u001b[0m",
      "\u001b[1;31mNameError\u001b[0m                                 Traceback (most recent call last)",
      "Cell \u001b[1;32mIn[1], line 1\u001b[0m\n\u001b[1;32m----> 1\u001b[0m \u001b[43macteur\u001b[49m\n",
      "\u001b[1;31mNameError\u001b[0m: name 'acteur' is not defined"
     ]
    }
   ],
   "source": [
    "acteur"
   ]
  },
  {
   "cell_type": "code",
   "execution_count": 3,
   "id": "ef915c11-ba84-4585-a939-2b0f75defe34",
   "metadata": {},
   "outputs": [
    {
     "data": {
      "text/plain": [
       "{'nom': 'Jakie chnag', 'age': 66, 'pays': 'Hong Kong'}"
      ]
     },
     "execution_count": 3,
     "metadata": {},
     "output_type": "execute_result"
    }
   ],
   "source": [
    "#création d'un dctionnaire avec {}\n",
    "acteur={'nom':'Jakie chnag','age':66,'pays':'Hong Kong'}\n",
    "acteur\n"
   ]
  },
  {
   "cell_type": "code",
   "execution_count": 5,
   "id": "1bff9f9b-1ff7-4093-8176-fd14d74d80bf",
   "metadata": {},
   "outputs": [
    {
     "data": {
      "text/plain": [
       "'Jakie chnag'"
      ]
     },
     "execution_count": 5,
     "metadata": {},
     "output_type": "execute_result"
    }
   ],
   "source": [
    "#valeur d'une clef\n",
    "acteur['nom']"
   ]
  },
  {
   "cell_type": "code",
   "execution_count": 6,
   "id": "42a66dd6-da2f-4160-b50b-ffd85f0e206d",
   "metadata": {},
   "outputs": [
    {
     "data": {
      "text/plain": [
       "<function dict.keys>"
      ]
     },
     "execution_count": 6,
     "metadata": {},
     "output_type": "execute_result"
    }
   ],
   "source": [
    "acteur.keys\n"
   ]
  },
  {
   "cell_type": "code",
   "execution_count": 7,
   "id": "79101572-6200-4f7e-b3c0-9c356c6aa272",
   "metadata": {},
   "outputs": [
    {
     "data": {
      "text/plain": [
       "dict_keys(['nom', 'age', 'pays'])"
      ]
     },
     "execution_count": 7,
     "metadata": {},
     "output_type": "execute_result"
    }
   ],
   "source": [
    "acteur.keys()\n"
   ]
  },
  {
   "cell_type": "code",
   "execution_count": 8,
   "id": "6979c773-9f7c-4361-bd3c-fe497246f00c",
   "metadata": {},
   "outputs": [],
   "source": [
    "acteur['age']=68\n"
   ]
  },
  {
   "cell_type": "code",
   "execution_count": 9,
   "id": "e798b11b-7837-4e54-8a34-54ea048652f3",
   "metadata": {},
   "outputs": [
    {
     "data": {
      "text/plain": [
       "{'nom': 'Jakie chnag', 'age': 68, 'pays': 'Hong Kong'}"
      ]
     },
     "execution_count": 9,
     "metadata": {},
     "output_type": "execute_result"
    }
   ],
   "source": [
    "acteur"
   ]
  },
  {
   "cell_type": "code",
   "execution_count": 12,
   "id": "cf2aa378-8148-4788-a284-ad803e0fd4af",
   "metadata": {},
   "outputs": [
    {
     "data": {
      "text/plain": [
       "{'nom': 'Jakie chnag',\n",
       " 'age': 68,\n",
       " 'pays': 'Hong Kong',\n",
       " 'films': ['le maître chinois', 'karate kids', 'police story']}"
      ]
     },
     "execution_count": 12,
     "metadata": {},
     "output_type": "execute_result"
    }
   ],
   "source": [
    "#ajout d'yne paire clef-valeur dans un dictionnaire\n",
    "acteur['films']=['le maître chinois','karate kids','police story']\n",
    "acteur"
   ]
  },
  {
   "cell_type": "code",
   "execution_count": 29,
   "id": "9e8f6a16-8bb0-4e73-81f6-fa7ee168c874",
   "metadata": {},
   "outputs": [
    {
     "data": {
      "text/plain": [
       "[{'acteur': 'Dwayne Johnson',\n",
       "  'revenu': 89.4,\n",
       "  'films': ['San Andreas', 'Iron']},\n",
       " {'acteur': 'Chris Hemsworth',\n",
       "  'revenu': 76.4,\n",
       "  'films': ['Vacation', 'kesari']},\n",
       " {'acteur': 'Askay Kumari', 'revenu': 65, 'films': ['Karate kids', 'Police']},\n",
       " {'acteur': 'Ankra', 'revenu': 100, 'films': ['africa', 'Or']}]"
      ]
     },
     "execution_count": 29,
     "metadata": {},
     "output_type": "execute_result"
    }
   ],
   "source": [
    "#liste de dictionnaires\n",
    "acteurs=[\n",
    "{'acteur':'Dwayne Johnson','revenu':89.4, 'films':['San Andreas','Iron']},\n",
    "{'acteur':'Chris Hemsworth','revenu':76.4, 'films':['Vacation','kesari']},   \n",
    "{'acteur':'Askay Kumari','revenu':65, 'films':['Karate kids','Police']} ,\n",
    "{'acteur':'Ankra','revenu':100, 'films':['africa','Or']}\n",
    "]\n",
    "acteurs"
   ]
  },
  {
   "cell_type": "markdown",
   "id": "dae2e823-f829-4c5f-b5e2-5566615459c2",
   "metadata": {},
   "source": [
    "Soit la liste de dictionnaires donnant des infos sur certains grands acteurs de Hllywood ci-dessous\n",
    "Calculez le revenu moyen des acteurs (le revenu est en millions de dollars).\n",
    "Affichez les infos des acteurs dont le salaire est supérieur au salaire moyen\n"
   ]
  },
  {
   "cell_type": "code",
   "execution_count": 31,
   "id": "78ee2333-8060-474d-b930-0917b4b764b3",
   "metadata": {},
   "outputs": [
    {
     "name": "stdout",
     "output_type": "stream",
     "text": [
      "[89.4, 76.4, 65, 100]\n"
     ]
    }
   ],
   "source": [
    "liste_revenu_acteurs=[]\n",
    "for acteur in acteurs:\n",
    "    #print(acteur['revenu'])\n",
    "    liste_revenu_acteurs.append(acteur['revenu'])\n",
    "print( liste_revenu_acteurs)\n",
    "\n",
    "\n",
    "    "
   ]
  },
  {
   "cell_type": "code",
   "execution_count": 32,
   "id": "97c01508-1f1c-4f4e-9087-afedf9f92121",
   "metadata": {},
   "outputs": [
    {
     "name": "stdout",
     "output_type": "stream",
     "text": [
      "revenu moyen  82.7\n"
     ]
    }
   ],
   "source": [
    "#revenu moyen\n",
    "import statistics as st\n",
    "print(\"revenu moyen \", round(st.mean(liste_revenu_acteurs),2))"
   ]
  },
  {
   "cell_type": "code",
   "execution_count": 35,
   "id": "7fc76eaf-3fe4-48db-9b1e-0aaaa1401ff7",
   "metadata": {},
   "outputs": [
    {
     "name": "stdout",
     "output_type": "stream",
     "text": [
      "{'acteur': 'Dwayne Johnson', 'revenu': 89.4, 'films': ['San Andreas', 'Iron']}\n",
      "{'acteur': 'Ankra', 'revenu': 100, 'films': ['africa', 'Or']}\n"
     ]
    }
   ],
   "source": [
    "revenu_moyen=round(st.mean(liste_revenu_acteurs),2)\n",
    "liste_acteurs_revenu_superieur_au_revmoyen=[]\n",
    "for acteur in acteurs:\n",
    "    if acteur['revenu']>revenu_moyen:\n",
    "       #liste_acteurs_revenu_superieur_au_revmoyen.append(acteur['acteur'])\n",
    "        print(acteur)\n",
    "        "
   ]
  },
  {
   "cell_type": "code",
   "execution_count": 6,
   "id": "5d2cbafa-2bb0-4a11-8127-10d204503d21",
   "metadata": {},
   "outputs": [
    {
     "data": {
      "text/html": [
       "<div>\n",
       "<style scoped>\n",
       "    .dataframe tbody tr th:only-of-type {\n",
       "        vertical-align: middle;\n",
       "    }\n",
       "\n",
       "    .dataframe tbody tr th {\n",
       "        vertical-align: top;\n",
       "    }\n",
       "\n",
       "    .dataframe thead th {\n",
       "        text-align: right;\n",
       "    }\n",
       "</style>\n",
       "<table border=\"1\" class=\"dataframe\">\n",
       "  <thead>\n",
       "    <tr style=\"text-align: right;\">\n",
       "      <th></th>\n",
       "      <th>Ryan</th>\n",
       "      <th>Elisa</th>\n",
       "      <th>Robert</th>\n",
       "      <th>Martine</th>\n",
       "    </tr>\n",
       "  </thead>\n",
       "  <tbody>\n",
       "    <tr>\n",
       "      <th>0</th>\n",
       "      <td>18</td>\n",
       "      <td>20</td>\n",
       "      <td>14</td>\n",
       "      <td>20</td>\n",
       "    </tr>\n",
       "    <tr>\n",
       "      <th>1</th>\n",
       "      <td>16</td>\n",
       "      <td>12</td>\n",
       "      <td>15</td>\n",
       "      <td>20</td>\n",
       "    </tr>\n",
       "  </tbody>\n",
       "</table>\n",
       "</div>"
      ],
      "text/plain": [
       "   Ryan  Elisa  Robert  Martine\n",
       "0    18     20      14       20\n",
       "1    16     12      15       20"
      ]
     },
     "execution_count": 6,
     "metadata": {},
     "output_type": "execute_result"
    }
   ],
   "source": [
    "\n",
    "#création d'un dictionnaire\n",
    "notes={'Ryan':[18,16],'Elisa':[20,12],'Robert':[14,15],'Martine':[20,20]}\n",
    "import pandas as pd\n",
    "# transformation dictionnaire en dataframe\n",
    "df=pd.DataFrame(notes)\n",
    "df"
   ]
  },
  {
   "cell_type": "code",
   "execution_count": 13,
   "id": "d2bd31bb-98b6-4c0e-8725-a03b4805f2e5",
   "metadata": {},
   "outputs": [
    {
     "data": {
      "text/html": [
       "<div>\n",
       "<style scoped>\n",
       "    .dataframe tbody tr th:only-of-type {\n",
       "        vertical-align: middle;\n",
       "    }\n",
       "\n",
       "    .dataframe tbody tr th {\n",
       "        vertical-align: top;\n",
       "    }\n",
       "\n",
       "    .dataframe thead th {\n",
       "        text-align: right;\n",
       "    }\n",
       "</style>\n",
       "<table border=\"1\" class=\"dataframe\">\n",
       "  <thead>\n",
       "    <tr style=\"text-align: right;\">\n",
       "      <th></th>\n",
       "      <th>0</th>\n",
       "      <th>1</th>\n",
       "    </tr>\n",
       "  </thead>\n",
       "  <tbody>\n",
       "    <tr>\n",
       "      <th>Ryan</th>\n",
       "      <td>18</td>\n",
       "      <td>16</td>\n",
       "    </tr>\n",
       "    <tr>\n",
       "      <th>Elisa</th>\n",
       "      <td>20</td>\n",
       "      <td>12</td>\n",
       "    </tr>\n",
       "    <tr>\n",
       "      <th>Robert</th>\n",
       "      <td>14</td>\n",
       "      <td>15</td>\n",
       "    </tr>\n",
       "    <tr>\n",
       "      <th>Martine</th>\n",
       "      <td>20</td>\n",
       "      <td>20</td>\n",
       "    </tr>\n",
       "  </tbody>\n",
       "</table>\n",
       "</div>"
      ],
      "text/plain": [
       "          0   1\n",
       "Ryan     18  16\n",
       "Elisa    20  12\n",
       "Robert   14  15\n",
       "Martine  20  20"
      ]
     },
     "execution_count": 13,
     "metadata": {},
     "output_type": "execute_result"
    }
   ],
   "source": [
    "#transposition de la dataframe df\n",
    "df=df.T\n",
    "df"
   ]
  },
  {
   "cell_type": "code",
   "execution_count": 15,
   "id": "8dbd8e1f-d210-4951-b6bd-8ec53404dc77",
   "metadata": {},
   "outputs": [
    {
     "data": {
      "text/html": [
       "<div>\n",
       "<style scoped>\n",
       "    .dataframe tbody tr th:only-of-type {\n",
       "        vertical-align: middle;\n",
       "    }\n",
       "\n",
       "    .dataframe tbody tr th {\n",
       "        vertical-align: top;\n",
       "    }\n",
       "\n",
       "    .dataframe thead th {\n",
       "        text-align: right;\n",
       "    }\n",
       "</style>\n",
       "<table border=\"1\" class=\"dataframe\">\n",
       "  <thead>\n",
       "    <tr style=\"text-align: right;\">\n",
       "      <th></th>\n",
       "      <th>Maths</th>\n",
       "      <th>Français</th>\n",
       "    </tr>\n",
       "  </thead>\n",
       "  <tbody>\n",
       "    <tr>\n",
       "      <th>Ryan</th>\n",
       "      <td>18</td>\n",
       "      <td>16</td>\n",
       "    </tr>\n",
       "    <tr>\n",
       "      <th>Elisa</th>\n",
       "      <td>20</td>\n",
       "      <td>12</td>\n",
       "    </tr>\n",
       "    <tr>\n",
       "      <th>Robert</th>\n",
       "      <td>14</td>\n",
       "      <td>15</td>\n",
       "    </tr>\n",
       "    <tr>\n",
       "      <th>Martine</th>\n",
       "      <td>20</td>\n",
       "      <td>20</td>\n",
       "    </tr>\n",
       "  </tbody>\n",
       "</table>\n",
       "</div>"
      ],
      "text/plain": [
       "         Maths  Français\n",
       "Ryan        18        16\n",
       "Elisa       20        12\n",
       "Robert      14        15\n",
       "Martine     20        20"
      ]
     },
     "execution_count": 15,
     "metadata": {},
     "output_type": "execute_result"
    }
   ],
   "source": [
    "#renommer colonnes\n",
    "df.columns=['Maths','Français']\n",
    "df"
   ]
  },
  {
   "cell_type": "code",
   "execution_count": 16,
   "id": "cb5dc08b-8425-436f-851b-5c7cf5b077d4",
   "metadata": {},
   "outputs": [
    {
     "data": {
      "text/html": [
       "<div>\n",
       "<style scoped>\n",
       "    .dataframe tbody tr th:only-of-type {\n",
       "        vertical-align: middle;\n",
       "    }\n",
       "\n",
       "    .dataframe tbody tr th {\n",
       "        vertical-align: top;\n",
       "    }\n",
       "\n",
       "    .dataframe thead th {\n",
       "        text-align: right;\n",
       "    }\n",
       "</style>\n",
       "<table border=\"1\" class=\"dataframe\">\n",
       "  <thead>\n",
       "    <tr style=\"text-align: right;\">\n",
       "      <th></th>\n",
       "      <th>Maths</th>\n",
       "      <th>Français</th>\n",
       "    </tr>\n",
       "  </thead>\n",
       "  <tbody>\n",
       "    <tr>\n",
       "      <th>Ryan</th>\n",
       "      <td>18</td>\n",
       "      <td>16</td>\n",
       "    </tr>\n",
       "    <tr>\n",
       "      <th>Elisa</th>\n",
       "      <td>20</td>\n",
       "      <td>12</td>\n",
       "    </tr>\n",
       "    <tr>\n",
       "      <th>Robert</th>\n",
       "      <td>14</td>\n",
       "      <td>15</td>\n",
       "    </tr>\n",
       "    <tr>\n",
       "      <th>Martine</th>\n",
       "      <td>20</td>\n",
       "      <td>20</td>\n",
       "    </tr>\n",
       "  </tbody>\n",
       "</table>\n",
       "</div>"
      ],
      "text/plain": [
       "         Maths  Français\n",
       "Ryan        18        16\n",
       "Elisa       20        12\n",
       "Robert      14        15\n",
       "Martine     20        20"
      ]
     },
     "execution_count": 16,
     "metadata": {},
     "output_type": "execute_result"
    }
   ],
   "source": [
    "#index de df\n",
    "df.index\n",
    "df"
   ]
  },
  {
   "cell_type": "code",
   "execution_count": 7,
   "id": "816443bf-d989-4a11-9a9d-bb4c05ebf392",
   "metadata": {},
   "outputs": [
    {
     "data": {
      "text/plain": [
       "RangeIndex(start=0, stop=2, step=1)"
      ]
     },
     "execution_count": 7,
     "metadata": {},
     "output_type": "execute_result"
    }
   ],
   "source": [
    "df.index\n"
   ]
  },
  {
   "cell_type": "code",
   "execution_count": 17,
   "id": "b91b711c-ec2a-4ba6-82e4-db1f83517c77",
   "metadata": {},
   "outputs": [
    {
     "data": {
      "text/html": [
       "<div>\n",
       "<style scoped>\n",
       "    .dataframe tbody tr th:only-of-type {\n",
       "        vertical-align: middle;\n",
       "    }\n",
       "\n",
       "    .dataframe tbody tr th {\n",
       "        vertical-align: top;\n",
       "    }\n",
       "\n",
       "    .dataframe thead th {\n",
       "        text-align: right;\n",
       "    }\n",
       "</style>\n",
       "<table border=\"1\" class=\"dataframe\">\n",
       "  <thead>\n",
       "    <tr style=\"text-align: right;\">\n",
       "      <th></th>\n",
       "      <th>Maths</th>\n",
       "      <th>Français</th>\n",
       "    </tr>\n",
       "  </thead>\n",
       "  <tbody>\n",
       "    <tr>\n",
       "      <th>Ryan</th>\n",
       "      <td>18</td>\n",
       "      <td>16</td>\n",
       "    </tr>\n",
       "    <tr>\n",
       "      <th>Elisa</th>\n",
       "      <td>20</td>\n",
       "      <td>12</td>\n",
       "    </tr>\n",
       "    <tr>\n",
       "      <th>Robert</th>\n",
       "      <td>14</td>\n",
       "      <td>15</td>\n",
       "    </tr>\n",
       "    <tr>\n",
       "      <th>Martine</th>\n",
       "      <td>20</td>\n",
       "      <td>20</td>\n",
       "    </tr>\n",
       "  </tbody>\n",
       "</table>\n",
       "</div>"
      ],
      "text/plain": [
       "         Maths  Français\n",
       "Ryan        18        16\n",
       "Elisa       20        12\n",
       "Robert      14        15\n",
       "Martine     20        20"
      ]
     },
     "execution_count": 17,
     "metadata": {},
     "output_type": "execute_result"
    }
   ],
   "source": [
    "df"
   ]
  },
  {
   "cell_type": "markdown",
   "id": "2a550ad6-ba65-48ef-be03-0acff75afe19",
   "metadata": {},
   "source": [
    "ecrivez un programme qui attribue une remise aux clients d'une boutique en ligne en fonction de la valeur\n",
    "de leur coupon de reduction. verifiez votre code en affichant le montant de la remise de chacun des clients de la liste. L'affichage\n",
    "doit resembler à ceci\n",
    "1 200 F20 20\n",
    "2 150 P30 45.0\n",
    "3 100 P50 50.0\n",
    "4 110 F15 15\n",
    "\n",
    "\n"
   ]
  },
  {
   "cell_type": "code",
   "execution_count": 18,
   "id": "255af312-c8e3-40c8-a7c5-7b70c64b1819",
   "metadata": {},
   "outputs": [],
   "source": [
    "#liste des clients\n",
    "clients=[\n",
    "{'id':1,'total_panier':200,'coupon_code':'F20' },#F20remise fixe de 20\n",
    "{'id':2,'total_panier':150,'coupon_code':'P30' },#P30 remise de 30%\n",
    "{'id':3,'total_panier':100,'coupon_code':'P50' },#P50 remise fixe de 50%\n",
    "{'id':4,'total_panier':110,'coupon_code':'F15' },#F15 remise fixe de 15    \n",
    "]\n",
    "\n"
   ]
  },
  {
   "cell_type": "code",
   "execution_count": 19,
   "id": "367bb9b7-b840-4de6-8a46-42bd54eb819c",
   "metadata": {},
   "outputs": [
    {
     "data": {
      "text/plain": [
       "[{'id': 1, 'total_panier': 200, 'coupon_code': 'F20'},\n",
       " {'id': 2, 'total_panier': 150, 'coupon_code': 'P30'},\n",
       " {'id': 3, 'total_panier': 100, 'coupon_code': 'P50'},\n",
       " {'id': 4, 'total_panier': 110, 'coupon_code': 'F15'}]"
      ]
     },
     "execution_count": 19,
     "metadata": {},
     "output_type": "execute_result"
    }
   ],
   "source": [
    "clients"
   ]
  },
  {
   "cell_type": "code",
   "execution_count": 39,
   "id": "c1f6f2ef-5715-46ad-93db-5cf7a464b096",
   "metadata": {},
   "outputs": [],
   "source": [
    "#résolution\n",
    "for client in clients:\n",
    "    if client['coupon_code']=='F20':\n",
    "        client['remise']=20\n",
    "    elif client['coupon_code']=='P30':\n",
    "        client['remise']=0.3*client['total_panier']\n",
    "    elif client['coupon_code']=='P50':\n",
    "        client['remise']=0.5*client['total_panier']\n",
    "    else:\n",
    "        client['remise']=15\n",
    "\n"
   ]
  },
  {
   "cell_type": "code",
   "execution_count": 37,
   "id": "8305b5eb-9d5d-4607-a433-d2815f7d2001",
   "metadata": {},
   "outputs": [
    {
     "data": {
      "text/plain": [
       "[{'id': 1, 'total_panier': 200, 'coupon_code': 'F20', 'remise': 20},\n",
       " {'id': 2, 'total_panier': 150, 'coupon_code': 'P30', 'remise': 45.0},\n",
       " {'id': 3, 'total_panier': 100, 'coupon_code': 'P50', 'remise': 50.0},\n",
       " {'id': 4, 'total_panier': 110, 'coupon_code': 'F15', 'remise': 15}]"
      ]
     },
     "execution_count": 37,
     "metadata": {},
     "output_type": "execute_result"
    }
   ],
   "source": [
    "clients"
   ]
  },
  {
   "cell_type": "code",
   "execution_count": 27,
   "id": "11e61327-c808-4bd2-af51-aadd8b375a3a",
   "metadata": {},
   "outputs": [
    {
     "data": {
      "text/plain": [
       "{'id': 4, 'total_panier': 110, 'coupon_code': 'F15', 'remise': 15}"
      ]
     },
     "execution_count": 27,
     "metadata": {},
     "output_type": "execute_result"
    }
   ],
   "source": [
    "client"
   ]
  },
  {
   "cell_type": "code",
   "execution_count": 41,
   "id": "471be03e-cd32-4138-b1bf-4c7fba567da0",
   "metadata": {},
   "outputs": [
    {
     "name": "stdout",
     "output_type": "stream",
     "text": [
      "1 200 F20 20\n",
      "2 150 P30 45.0\n",
      "3 100 P50 50.0\n",
      "4 110 F15 15\n"
     ]
    }
   ],
   "source": [
    "for client in clients:\n",
    "    print(client['id'],client['total_panier'],client['coupon_code'],client['remise'])\n",
    "    "
   ]
  },
  {
   "cell_type": "code",
   "execution_count": 42,
   "id": "ef9fd4bf-f60d-4ba2-a4b8-f7208c1f6cc9",
   "metadata": {},
   "outputs": [],
   "source": [
    "#fonctions\n",
    "#fonction sans argument\n",
    "def bonjour():\n",
    "    print(\"Bonjour Mr/Mme\\nComment allez-vous?\")\n",
    "    "
   ]
  },
  {
   "cell_type": "code",
   "execution_count": 43,
   "id": "d4aa1796-01c5-4c54-a9be-03939855e289",
   "metadata": {},
   "outputs": [
    {
     "name": "stdout",
     "output_type": "stream",
     "text": [
      "Bonjour Mr/Mme\n",
      "Comment allez-vous?\n"
     ]
    }
   ],
   "source": [
    "#appelation de la fonction\n",
    "bonjour()"
   ]
  },
  {
   "cell_type": "code",
   "execution_count": 44,
   "id": "ec6bc9da-759c-4c9c-ac02-2ba458db8e21",
   "metadata": {},
   "outputs": [],
   "source": [
    "#fonction avec un argument\n",
    "def Bonjour(nom):\n",
    "    print(\"Bonjour\",nom,\"\\nComment allez-vous?\")"
   ]
  },
  {
   "cell_type": "code",
   "execution_count": 45,
   "id": "0fb09493-e147-47cc-bc80-886415711c6c",
   "metadata": {},
   "outputs": [
    {
     "name": "stdout",
     "output_type": "stream",
     "text": [
      "Bonjour Seph \n",
      "Comment allez-vous?\n"
     ]
    }
   ],
   "source": [
    "Bonjour(\"Seph\")"
   ]
  },
  {
   "cell_type": "code",
   "execution_count": 46,
   "id": "6cdb3890-6677-463c-981f-f5c1aec09ef2",
   "metadata": {},
   "outputs": [
    {
     "name": "stdout",
     "output_type": "stream",
     "text": [
      "Bonjour Hervé \n",
      "Comment allez-vous?\n"
     ]
    }
   ],
   "source": [
    "Bonjour(nom=\"Hervé\")"
   ]
  },
  {
   "cell_type": "markdown",
   "id": "2a4ff433-86ae-4892-a526-0a6c68ac4264",
   "metadata": {},
   "source": [
    "comment faire si on ne veut pas afficher directement le résultat d'une fonction mais plutôt assigner ce résultat à une variable?\n",
    "Il faudra utiliser le mot clé return"
   ]
  },
  {
   "cell_type": "code",
   "execution_count": 47,
   "id": "9b3c35e3-55b3-4231-9814-79bd037a9390",
   "metadata": {},
   "outputs": [],
   "source": [
    "#utilisation avec return\n",
    "def square(a):\n",
    "    return a**2\n",
    "    "
   ]
  },
  {
   "cell_type": "code",
   "execution_count": 48,
   "id": "3e9933c3-55c2-4b70-a0fe-ee8584ed78fa",
   "metadata": {},
   "outputs": [],
   "source": [
    "z=square(100)\n",
    "#la fonction square donne le carré d'un nombre. En utilisant le mot clé return, on a pu stocker le résultat de square(100) dans la variable z"
   ]
  },
  {
   "cell_type": "code",
   "execution_count": 49,
   "id": "1371fbcf-c3a9-45b7-b2e3-56c9452b13b3",
   "metadata": {},
   "outputs": [
    {
     "data": {
      "text/plain": [
       "10000"
      ]
     },
     "execution_count": 49,
     "metadata": {},
     "output_type": "execute_result"
    }
   ],
   "source": [
    "z"
   ]
  },
  {
   "cell_type": "code",
   "execution_count": 51,
   "id": "ce229bcb-cd02-484f-a386-ed74660469a3",
   "metadata": {},
   "outputs": [],
   "source": [
    "\n",
    "\n"
   ]
  },
  {
   "cell_type": "code",
   "execution_count": 52,
   "id": "1396124d-4848-4d88-826b-4f1f4e97b21d",
   "metadata": {},
   "outputs": [],
   "source": [
    "\n",
    "    "
   ]
  },
  {
   "cell_type": "code",
   "execution_count": 55,
   "id": "99dbd365-9c32-4310-8dc4-e13bf3b17c67",
   "metadata": {},
   "outputs": [
    {
     "name": "stdout",
     "output_type": "stream",
     "text": [
      "['Rose']\n"
     ]
    }
   ],
   "source": [
    "print(liste_nom_prenom)\n"
   ]
  },
  {
   "cell_type": "code",
   "execution_count": 58,
   "id": "5b27a8c3-b106-4c49-be46-dbf46361bda8",
   "metadata": {},
   "outputs": [
    {
     "data": {
      "text/plain": [
       "['Lima', 'Topi']"
      ]
     },
     "execution_count": 58,
     "metadata": {},
     "output_type": "execute_result"
    }
   ],
   "source": [
    "liste_nom_prenom\n"
   ]
  },
  {
   "cell_type": "code",
   "execution_count": 63,
   "id": "44322760-b214-4c8e-9196-39af88efb96a",
   "metadata": {},
   "outputs": [
    {
     "name": "stdout",
     "output_type": "stream",
     "text": [
      "quel est ton nom?\n"
     ]
    },
    {
     "name": "stdin",
     "output_type": "stream",
     "text": [
      " Kol\n"
     ]
    },
    {
     "name": "stdout",
     "output_type": "stream",
     "text": [
      "quel est ton prénom?\n"
     ]
    },
    {
     "name": "stdin",
     "output_type": "stream",
     "text": [
      " KIOL\n"
     ]
    },
    {
     "name": "stdout",
     "output_type": "stream",
     "text": [
      "Bonjour ['Kol', 'KIOL'] \n",
      "Comment allez-vous?\n"
     ]
    }
   ],
   "source": [
    "#fonction avec 2 arguments\n",
    "liste_nom_prenom=[]\n",
    "print(\"quel est ton nom?\")\n",
    "nom=input()\n",
    "liste_nom_prenom.append(nom)\n",
    "print(\"quel est ton prénom?\")\n",
    "prenom=input()\n",
    "liste_nom_prenom.append(prenom)\n",
    "def Bonjour(liste_nom_prenom):\n",
    "    print(\"Bonjour\",liste_nom_prenom,\"\\nComment allez-vous?\")\n",
    "    #appelation de la fonction\n",
    "Bonjour(liste_nom_prenom)\n",
    "    "
   ]
  },
  {
   "cell_type": "code",
   "execution_count": 64,
   "id": "8a378b6c-f7b0-4fab-9f1d-2c99f6190e0a",
   "metadata": {},
   "outputs": [
    {
     "data": {
      "text/plain": [
       "['Kol', 'KIOL']"
      ]
     },
     "execution_count": 64,
     "metadata": {},
     "output_type": "execute_result"
    }
   ],
   "source": [
    "liste_nom_prenom\n"
   ]
  },
  {
   "cell_type": "code",
   "execution_count": 65,
   "id": "7c3d5609-000f-4013-8ce7-b3030811e431",
   "metadata": {},
   "outputs": [],
   "source": [
    "#fonction à 2 arguments avec return\n",
    "\n",
    "def somme(a,b):\n",
    "    return a+b\n",
    "    \n"
   ]
  },
  {
   "cell_type": "code",
   "execution_count": 66,
   "id": "e1dd7c0f-53db-4ac0-90d9-e056d3ec8de0",
   "metadata": {},
   "outputs": [
    {
     "data": {
      "text/plain": [
       "1000007"
      ]
     },
     "execution_count": 66,
     "metadata": {},
     "output_type": "execute_result"
    }
   ],
   "source": [
    "s=somme(1000000+2,5)\n",
    "s"
   ]
  },
  {
   "cell_type": "markdown",
   "id": "9d140eea-c9b2-4c09-8e16-b875e3d5fcba",
   "metadata": {},
   "source": [
    "exercice d'application\n",
    "ecrivez une fonction qui a 2 arguments et qui retourne la somme de ces 2 arguments si ils sont de même type\n",
    "si les arguments ne sont pas de même type, la fonction doit retourner la phrase :\n",
    "\"Les arguments ne sont pas de même type\".\n"
   ]
  },
  {
   "cell_type": "code",
   "execution_count": 72,
   "id": "1908202e-d9f5-465e-ad87-7044516b7b54",
   "metadata": {},
   "outputs": [],
   "source": [
    "#correction\n",
    "\n",
    "def SOMME(a, b):\n",
    "    if type(a)==type(b):\n",
    "        return a+b\n",
    "    else:\n",
    "        print(\"Les arguments ne sont pas de même type\")\n",
    "\n"
   ]
  },
  {
   "cell_type": "code",
   "execution_count": 73,
   "id": "49b9a4e5-cd0d-45e3-8e8b-9cb30b70f799",
   "metadata": {},
   "outputs": [
    {
     "data": {
      "text/plain": [
       "13"
      ]
     },
     "execution_count": 73,
     "metadata": {},
     "output_type": "execute_result"
    }
   ],
   "source": [
    "#appel de la fonction SOMME\n",
    "SOMME(5,8)\n"
   ]
  },
  {
   "cell_type": "code",
   "execution_count": 74,
   "id": "96511720-a39b-47fa-b2e4-b5384ed41d2a",
   "metadata": {},
   "outputs": [
    {
     "data": {
      "text/plain": [
       "15.2"
      ]
     },
     "execution_count": 74,
     "metadata": {},
     "output_type": "execute_result"
    }
   ],
   "source": [
    "somme(5,10.2)"
   ]
  },
  {
   "cell_type": "code",
   "execution_count": 75,
   "id": "4d612f7e-682d-47a9-9469-919a733f28fd",
   "metadata": {},
   "outputs": [
    {
     "data": {
      "text/plain": [
       "'arieltot'"
      ]
     },
     "execution_count": 75,
     "metadata": {},
     "output_type": "execute_result"
    }
   ],
   "source": [
    "somme('ariel','tot')"
   ]
  },
  {
   "cell_type": "code",
   "execution_count": 77,
   "id": "c2b42e3b-0d48-404c-aab0-b550ebbeec0b",
   "metadata": {},
   "outputs": [
    {
     "name": "stdout",
     "output_type": "stream",
     "text": [
      "Les arguments ne sont pas de même type\n"
     ]
    }
   ],
   "source": [
    "SOMME(5,10.60)\n"
   ]
  },
  {
   "cell_type": "code",
   "execution_count": 78,
   "id": "d8b37be0-45a5-4fbe-ba46-ec4b320dc993",
   "metadata": {},
   "outputs": [
    {
     "data": {
      "text/plain": [
       "15.2"
      ]
     },
     "execution_count": 78,
     "metadata": {},
     "output_type": "execute_result"
    }
   ],
   "source": [
    "somme(5,10.2)\n"
   ]
  },
  {
   "cell_type": "code",
   "execution_count": 80,
   "id": "662c7c6e-75f4-4e51-ac03-ed5449bd1881",
   "metadata": {},
   "outputs": [],
   "source": [
    "#exemple de fonctions retournant plusieurs valeurs\n",
    "def soustraction_dans_les_deux_sens(a,b):\n",
    "    valeur1=b-a\n",
    "    valeur2=a-b\n",
    "    return valeur1,valeur2"
   ]
  },
  {
   "cell_type": "code",
   "execution_count": 81,
   "id": "b21ef5bd-438d-4e2c-9223-573e4aa34c33",
   "metadata": {},
   "outputs": [
    {
     "data": {
      "text/plain": [
       "<function __main__.soustraction_dans_les_deux_sens(a, b)>"
      ]
     },
     "execution_count": 81,
     "metadata": {},
     "output_type": "execute_result"
    }
   ],
   "source": [
    "soustraction_dans_les_deux_sens"
   ]
  },
  {
   "cell_type": "code",
   "execution_count": 82,
   "id": "75dadcc6-4eda-4230-a7df-815455b7a6f9",
   "metadata": {},
   "outputs": [
    {
     "ename": "TypeError",
     "evalue": "soustraction_dans_les_deux_sens() missing 2 required positional arguments: 'a' and 'b'",
     "output_type": "error",
     "traceback": [
      "\u001b[1;31m---------------------------------------------------------------------------\u001b[0m",
      "\u001b[1;31mTypeError\u001b[0m                                 Traceback (most recent call last)",
      "Cell \u001b[1;32mIn[82], line 1\u001b[0m\n\u001b[1;32m----> 1\u001b[0m \u001b[43msoustraction_dans_les_deux_sens\u001b[49m\u001b[43m(\u001b[49m\u001b[43m)\u001b[49m\n",
      "\u001b[1;31mTypeError\u001b[0m: soustraction_dans_les_deux_sens() missing 2 required positional arguments: 'a' and 'b'"
     ]
    }
   ],
   "source": [
    "soustraction_dans_les_deux_sens()"
   ]
  },
  {
   "cell_type": "code",
   "execution_count": 83,
   "id": "1a607242-be6a-45f4-ab61-f0935f75a604",
   "metadata": {},
   "outputs": [
    {
     "data": {
      "text/plain": [
       "(82, -82)"
      ]
     },
     "execution_count": 83,
     "metadata": {},
     "output_type": "execute_result"
    }
   ],
   "source": [
    "soustraction_dans_les_deux_sens(8,90)"
   ]
  },
  {
   "cell_type": "code",
   "execution_count": 84,
   "id": "30e53a04-1263-4b19-8fe8-bca882d5b169",
   "metadata": {},
   "outputs": [],
   "source": [
    "t=soustraction_dans_les_deux_sens(5,9)"
   ]
  },
  {
   "cell_type": "code",
   "execution_count": 85,
   "id": "bcce832c-acda-45bc-9076-9f2e1920be32",
   "metadata": {},
   "outputs": [
    {
     "data": {
      "text/plain": [
       "(4, -4)"
      ]
     },
     "execution_count": 85,
     "metadata": {},
     "output_type": "execute_result"
    }
   ],
   "source": [
    "t"
   ]
  },
  {
   "cell_type": "code",
   "execution_count": 86,
   "id": "d8cd96a2-0086-4c73-b024-9fb0f3803d61",
   "metadata": {},
   "outputs": [
    {
     "data": {
      "text/plain": [
       "tuple"
      ]
     },
     "execution_count": 86,
     "metadata": {},
     "output_type": "execute_result"
    }
   ],
   "source": [
    "type(t)"
   ]
  },
  {
   "cell_type": "code",
   "execution_count": 87,
   "id": "eb4d31f3-d47d-487b-b363-d721fd7270ff",
   "metadata": {},
   "outputs": [],
   "source": [
    "c,d=t[0],t[1]"
   ]
  },
  {
   "cell_type": "code",
   "execution_count": 88,
   "id": "5db00378-0d2d-4c98-8e48-ab38c8013688",
   "metadata": {},
   "outputs": [
    {
     "name": "stdout",
     "output_type": "stream",
     "text": [
      "4\n",
      "-4\n"
     ]
    }
   ],
   "source": [
    "print(c)\n",
    "print(d)"
   ]
  },
  {
   "cell_type": "markdown",
   "id": "56f4b472-0167-43a8-9e33-bbeea977eb0a",
   "metadata": {},
   "source": [
    "Fonctions Lamda\n",
    "les fonctions Lambda permettent d'écrire des fonctions rapidement et à la volée (en une seule ligne de code) en utilisant le mot-clé Lambda\n"
   ]
  },
  {
   "cell_type": "code",
   "execution_count": 89,
   "id": "e1377792-22f2-4fe7-9de3-2c73644978d1",
   "metadata": {},
   "outputs": [],
   "source": [
    "#fonction somme avec mot clé def\n",
    "def SOMME(a,b):\n",
    "    return a+b\n",
    "    "
   ]
  },
  {
   "cell_type": "code",
   "execution_count": 90,
   "id": "834953b3-4635-4ac4-b0f6-64edb5a27a81",
   "metadata": {},
   "outputs": [
    {
     "data": {
      "text/plain": [
       "7"
      ]
     },
     "execution_count": 90,
     "metadata": {},
     "output_type": "execute_result"
    }
   ],
   "source": [
    "s=somme(2,5)\n",
    "s"
   ]
  },
  {
   "cell_type": "code",
   "execution_count": 91,
   "id": "ef114769-6a97-4bfc-b099-779f61d4dab3",
   "metadata": {},
   "outputs": [],
   "source": [
    "#fonction lambda\n",
    "somme_lambda=lambda a,b:a+b"
   ]
  },
  {
   "cell_type": "code",
   "execution_count": 93,
   "id": "59d4a065-9dc8-4efe-93ab-1c28a7a40849",
   "metadata": {},
   "outputs": [],
   "source": [
    "#appelation de fonction lambda\n",
    "somme_lambda(2,5)"
   ]
  },
  {
   "cell_type": "code",
   "execution_count": 101,
   "id": "9f52271e-f457-49b6-b860-76a4a2ed5eb5",
   "metadata": {},
   "outputs": [],
   "source": [
    "#utilisation de map() et de lambda\n",
    "#la fonction lambda est souvent utilisée avec la fonction map() qui applique une fonction à tous les éléments d'un objet itérable (une liste par exemple)\n",
    "diplomes=['bac','bts','licence', 'master','doctorat']\n",
    "DIPLOMES=map(lambda x:x.upper(), diplomes)"
   ]
  },
  {
   "cell_type": "code",
   "execution_count": 98,
   "id": "6c785aac-54a9-4b41-8a18-8ebe64ca54ee",
   "metadata": {},
   "outputs": [
    {
     "data": {
      "text/plain": [
       "map"
      ]
     },
     "execution_count": 98,
     "metadata": {},
     "output_type": "execute_result"
    }
   ],
   "source": [
    "DIPLOMES\n",
    "type(DIPLOMES)"
   ]
  },
  {
   "cell_type": "code",
   "execution_count": 102,
   "id": "5ad82dfc-fecb-451c-a993-a2bb92df2067",
   "metadata": {},
   "outputs": [
    {
     "data": {
      "text/plain": [
       "['BAC', 'BTS', 'LICENCE', 'MASTER', 'DOCTORAT']"
      ]
     },
     "execution_count": 102,
     "metadata": {},
     "output_type": "execute_result"
    }
   ],
   "source": [
    "#affichage des éléments de DIPLOMES\n",
    "list(DIPLOMES)"
   ]
  },
  {
   "cell_type": "code",
   "execution_count": 103,
   "id": "4244e436-55f2-418c-bc99-7e642b07eba3",
   "metadata": {},
   "outputs": [],
   "source": [
    "nombres=[4,2,5,9,3,10]"
   ]
  },
  {
   "cell_type": "code",
   "execution_count": 104,
   "id": "2903cfe7-82cc-44d6-8d1c-e39afaa351fc",
   "metadata": {},
   "outputs": [],
   "source": [
    "nombres_carres=map(lambda x:x**2,nombres)"
   ]
  },
  {
   "cell_type": "code",
   "execution_count": 105,
   "id": "30da335a-719b-4b0c-9c57-3e4f222b1b48",
   "metadata": {},
   "outputs": [
    {
     "data": {
      "text/plain": [
       "<map at 0x1ade0aad2d0>"
      ]
     },
     "execution_count": 105,
     "metadata": {},
     "output_type": "execute_result"
    }
   ],
   "source": [
    "nombres_carres"
   ]
  },
  {
   "cell_type": "code",
   "execution_count": 106,
   "id": "e1b79bea-9260-46c6-98ac-64f9da783bb1",
   "metadata": {},
   "outputs": [
    {
     "data": {
      "text/plain": [
       "[16, 4, 25, 81, 9, 100]"
      ]
     },
     "execution_count": 106,
     "metadata": {},
     "output_type": "execute_result"
    }
   ],
   "source": [
    "#affichage de nombres_carres\n",
    "list(nombres_carres)"
   ]
  },
  {
   "cell_type": "markdown",
   "id": "7561fc01-64aa-421a-9d4c-90bbcdc1274c",
   "metadata": {},
   "source": [
    "Fonction FILTER() associée à la fonction lambda offre un moyen de filtrer les éléments d'une liste qui ne répondent pas à certains critères"
   ]
  },
  {
   "cell_type": "code",
   "execution_count": 107,
   "id": "cee7edf4-e608-4d0b-8461-2f1c152dede0",
   "metadata": {},
   "outputs": [],
   "source": [
    "staff=['frodo','samwise','merry','pippin','aragorn','boromir','legolas']"
   ]
  },
  {
   "cell_type": "code",
   "execution_count": 109,
   "id": "4b9decb4-0bde-4883-9579-900aacaaee18",
   "metadata": {},
   "outputs": [
    {
     "data": {
      "text/plain": [
       "filter"
      ]
     },
     "execution_count": 109,
     "metadata": {},
     "output_type": "execute_result"
    }
   ],
   "source": [
    "#supprimer éléments de la liste staff dont longeur n'est pas supérieure à 6\n",
    "staff_filtered=filter(lambda member:len(member)>6,staff)\n",
    "type(staff_filtered)"
   ]
  },
  {
   "cell_type": "code",
   "execution_count": 110,
   "id": "b4c416f0-7410-414e-be6c-7bf87ef23766",
   "metadata": {},
   "outputs": [
    {
     "data": {
      "text/plain": [
       "['samwise', 'aragorn', 'boromir', 'legolas']"
      ]
     },
     "execution_count": 110,
     "metadata": {},
     "output_type": "execute_result"
    }
   ],
   "source": [
    "#la filtration est une opération très utilisée en datascience\n",
    "list(staff_filtered)"
   ]
  },
  {
   "cell_type": "code",
   "execution_count": 111,
   "id": "4323a339-6642-4434-a279-2b7c57faa99e",
   "metadata": {},
   "outputs": [
    {
     "data": {
      "text/plain": [
       "[15, 25, 35, 45, 55]"
      ]
     },
     "execution_count": 111,
     "metadata": {},
     "output_type": "execute_result"
    }
   ],
   "source": [
    "#Liste de compréhension\n",
    "#création d'une liste avec une liste de  de compréhension\n",
    "#création d'une liste avec un for\n",
    "nums=[10,20,30,40,50]\n",
    "new_nums=[]\n",
    "for i in nums:\n",
    "    new_nums.append(i+5)\n",
    "\n",
    "new_nums\n",
    "    "
   ]
  },
  {
   "cell_type": "code",
   "execution_count": 113,
   "id": "dec5ecf6-bd9a-46bd-a69b-da4c71df095f",
   "metadata": {},
   "outputs": [
    {
     "data": {
      "text/plain": [
       "[15, 25, 35, 45, 55]"
      ]
     },
     "execution_count": 113,
     "metadata": {},
     "output_type": "execute_result"
    }
   ],
   "source": [
    "#le  code ci-dessus peut être écrit en une  seule ligne pour obtenir le meêm résultat\n",
    "#avec une liste de compréhension\n",
    "new_nums2=[i+5 for i in nums]\n",
    "new_nums2\n"
   ]
  },
  {
   "cell_type": "code",
   "execution_count": 114,
   "id": "cab38ded-48c4-402a-842c-8b11337c089d",
   "metadata": {},
   "outputs": [
    {
     "data": {
      "text/plain": [
       "True"
      ]
     },
     "execution_count": 114,
     "metadata": {},
     "output_type": "execute_result"
    }
   ],
   "source": [
    "new_nums2==new_nums"
   ]
  },
  {
   "cell_type": "markdown",
   "id": "a329a32a-2a82-4a9e-b667-9343aabe7792",
   "metadata": {},
   "source": [
    "Exercice d'application\n",
    "on donne la liste : hopital=['docteur','infirmière','chercheur','medecin','chu']\n",
    "Ecrire une liste de compréhension qui produit une liste composée du premier caractère de chaque élément de la liste hopital\n"
   ]
  },
  {
   "cell_type": "code",
   "execution_count": 116,
   "id": "24ebbcfb-49fe-46f4-af2b-6b39429cff2f",
   "metadata": {},
   "outputs": [],
   "source": [
    "hopital=['docteur','infirmière','chercheur','medecin','chu']"
   ]
  },
  {
   "cell_type": "code",
   "execution_count": 117,
   "id": "9ac5f8d3-63a9-429d-a194-4de8260a5b58",
   "metadata": {},
   "outputs": [],
   "source": [
    "hopital2=[i[0] for i in hopital]"
   ]
  },
  {
   "cell_type": "code",
   "execution_count": 118,
   "id": "ab9f6721-4ad8-4b2b-82a3-bbe4f05a8d59",
   "metadata": {},
   "outputs": [
    {
     "data": {
      "text/plain": [
       "['d', 'i', 'c', 'm', 'c']"
      ]
     },
     "execution_count": 118,
     "metadata": {},
     "output_type": "execute_result"
    }
   ],
   "source": [
    "hopital2"
   ]
  },
  {
   "cell_type": "markdown",
   "id": "7881eb15-1c29-49d5-964f-a786440bf981",
   "metadata": {},
   "source": [
    "exercice d'application\n",
    "Ecrire une liste de compéhension qui produit une liste composée des valeurs au carré des éléments de range(10)\n"
   ]
  },
  {
   "cell_type": "code",
   "execution_count": 119,
   "id": "ed508ed1-c1b9-48ea-bc50-e277f8af20f8",
   "metadata": {},
   "outputs": [],
   "source": [
    "#correction\n",
    "valeurs_au_carre=[i**2 for i in range(10)]"
   ]
  },
  {
   "cell_type": "code",
   "execution_count": 120,
   "id": "a9a4d364-00dd-4b50-8b6a-da520e63f0b9",
   "metadata": {},
   "outputs": [
    {
     "data": {
      "text/plain": [
       "[0, 1, 4, 9, 16, 25, 36, 49, 64, 81]"
      ]
     },
     "execution_count": 120,
     "metadata": {},
     "output_type": "execute_result"
    }
   ],
   "source": [
    "valeurs_au_carre"
   ]
  },
  {
   "cell_type": "code",
   "execution_count": 3,
   "id": "7411805f-3a7c-4620-ad40-ff9c0056a398",
   "metadata": {},
   "outputs": [],
   "source": [
    "#Numpy est une librairie utilisée dans tous les projets de calcul numérique\n",
    "import numpy as np"
   ]
  },
  {
   "cell_type": "code",
   "execution_count": 122,
   "id": "373c3db5-365d-4e29-8790-c6ced84a9b77",
   "metadata": {},
   "outputs": [],
   "source": [
    "v=np.array([1,2,3,4])"
   ]
  },
  {
   "cell_type": "code",
   "execution_count": 123,
   "id": "a9893ea8-700a-4210-8c77-de850b694e14",
   "metadata": {},
   "outputs": [
    {
     "data": {
      "text/plain": [
       "array([1, 2, 3, 4])"
      ]
     },
     "execution_count": 123,
     "metadata": {},
     "output_type": "execute_result"
    }
   ],
   "source": [
    "v"
   ]
  },
  {
   "cell_type": "markdown",
   "id": "d0d93341-126c-42f8-80b2-fe5cdde26942",
   "metadata": {},
   "source": [
    "tableau de dimension 1"
   ]
  },
  {
   "cell_type": "code",
   "execution_count": 124,
   "id": "a2456b4a-a4c3-4f88-b513-485b877718a9",
   "metadata": {},
   "outputs": [
    {
     "data": {
      "text/plain": [
       "numpy.ndarray"
      ]
     },
     "execution_count": 124,
     "metadata": {},
     "output_type": "execute_result"
    }
   ],
   "source": [
    "type(v)"
   ]
  },
  {
   "cell_type": "code",
   "execution_count": 4,
   "id": "9b337538-4d7c-4c28-8e5a-24c71152310b",
   "metadata": {},
   "outputs": [],
   "source": [
    "#Exercice calculer imc=poids/taille**2\n",
    "#liste des tailles en m\n",
    "tailles=[1.83,1.85,1.64,1.90,1.72,1.89,1.59,1.68]\n",
    "#liste des poids en kg\n",
    "poids=[69,75,79,120,55,89,66,80]\n"
   ]
  },
  {
   "cell_type": "code",
   "execution_count": 5,
   "id": "055f8e0c-13d1-45c3-ae9a-be087a0b6703",
   "metadata": {},
   "outputs": [
    {
     "name": "stdout",
     "output_type": "stream",
     "text": [
      "[1.83 1.85 1.64 1.9  1.72 1.89 1.59 1.68]\n",
      "[ 69  75  79 120  55  89  66  80]\n"
     ]
    }
   ],
   "source": [
    "#python ne sait pas faire\n",
    "#imc=poids/tailles**2\n",
    "#la solution est d'utiliser numpy\n",
    "#création de tableaux numpy\n",
    "tailles_array=np.array(tailles)\n",
    "print(tailles_array)\n",
    "poids_array=np.array(poids)\n",
    "print(poids_array)"
   ]
  },
  {
   "cell_type": "code",
   "execution_count": 6,
   "id": "80588e7f-00d2-4cbf-af9b-4202b3ee6879",
   "metadata": {},
   "outputs": [
    {
     "data": {
      "text/plain": [
       "numpy.ndarray"
      ]
     },
     "execution_count": 6,
     "metadata": {},
     "output_type": "execute_result"
    }
   ],
   "source": [
    "type(tailles_array)"
   ]
  },
  {
   "cell_type": "code",
   "execution_count": 138,
   "id": "393fbaa4-0be5-4776-9fdf-9557562d8d69",
   "metadata": {},
   "outputs": [
    {
     "name": "stdout",
     "output_type": "stream",
     "text": [
      "<class 'numpy.ndarray'>\n"
     ]
    }
   ],
   "source": [
    "print(type(tailles_array))"
   ]
  },
  {
   "cell_type": "markdown",
   "id": "2ab93ade-f0f6-4554-8f44-b7497a0de90e",
   "metadata": {},
   "source": [
    "ona  créé des tableaux numpy à partir des listes poids et taille. Calculons limc\n"
   ]
  },
  {
   "cell_type": "code",
   "execution_count": 7,
   "id": "0cf71643-2743-46cc-92a0-6e6a96f018ca",
   "metadata": {},
   "outputs": [
    {
     "data": {
      "text/plain": [
       "array([20.60378035, 21.9138057 , 29.37239738, 33.24099723, 18.59113034,\n",
       "       24.91531592, 26.10656224, 28.3446712 ])"
      ]
     },
     "execution_count": 7,
     "metadata": {},
     "output_type": "execute_result"
    }
   ],
   "source": [
    "imc=poids_array/tailles_array**2\n",
    "imc"
   ]
  },
  {
   "cell_type": "code",
   "execution_count": null,
   "id": "34a590d4-bdf2-495c-b60b-34b86906f3e0",
   "metadata": {},
   "outputs": [],
   "source": [
    "#Numpy sait travailler avec des tableaux comme s'ils étaient des valeurs uniques\n",
    "#personnes en surpoids imc>25\n"
   ]
  },
  {
   "cell_type": "code",
   "execution_count": 8,
   "id": "08a14f74-53e3-4ff0-9db7-8fcc8a0ce9a2",
   "metadata": {},
   "outputs": [
    {
     "data": {
      "text/plain": [
       "array([False, False,  True,  True, False, False,  True,  True])"
      ]
     },
     "execution_count": 8,
     "metadata": {},
     "output_type": "execute_result"
    }
   ],
   "source": [
    "imc>25"
   ]
  },
  {
   "cell_type": "code",
   "execution_count": 9,
   "id": "c0ea6731-3d02-4eb3-acba-cee6733cadc0",
   "metadata": {},
   "outputs": [
    {
     "data": {
      "text/plain": [
       "array([29.37239738, 33.24099723, 26.10656224, 28.3446712 ])"
      ]
     },
     "execution_count": 9,
     "metadata": {},
     "output_type": "execute_result"
    }
   ],
   "source": [
    "imc[imc>25]\n"
   ]
  },
  {
   "cell_type": "code",
   "execution_count": 14,
   "id": "bd7fcedd-b170-456b-b2a7-eb52f853b2a2",
   "metadata": {},
   "outputs": [
    {
     "data": {
      "text/plain": [
       "array([[1, 3],\n",
       "       [2, 4]])"
      ]
     },
     "execution_count": 14,
     "metadata": {},
     "output_type": "execute_result"
    }
   ],
   "source": [
    "#création de tableaux numpy à partir d'une matrice\n",
    "M=np.array([[1,3],[2,4]])\n",
    "M"
   ]
  },
  {
   "cell_type": "code",
   "execution_count": 12,
   "id": "65862065-9b5a-4b2e-9067-da2e9383de78",
   "metadata": {},
   "outputs": [
    {
     "data": {
      "text/plain": [
       "numpy.ndarray"
      ]
     },
     "execution_count": 12,
     "metadata": {},
     "output_type": "execute_result"
    }
   ],
   "source": [
    "type(M)"
   ]
  },
  {
   "cell_type": "code",
   "execution_count": 16,
   "id": "fc51ed73-a34e-41e7-a295-7bd06c6e4274",
   "metadata": {},
   "outputs": [
    {
     "data": {
      "text/plain": [
       "np.int64(1)"
      ]
     },
     "execution_count": 16,
     "metadata": {},
     "output_type": "execute_result"
    }
   ],
   "source": [
    "#accéder à un élément:1re ligne 1re colonne\n",
    "M[0,0]"
   ]
  },
  {
   "cell_type": "code",
   "execution_count": 17,
   "id": "ea0b06a7-7332-4b90-af71-6635c686c9e9",
   "metadata": {},
   "outputs": [
    {
     "data": {
      "text/plain": [
       "np.int64(3)"
      ]
     },
     "execution_count": 17,
     "metadata": {},
     "output_type": "execute_result"
    }
   ],
   "source": [
    "M[0,1]"
   ]
  },
  {
   "cell_type": "code",
   "execution_count": 19,
   "id": "01278014-c114-4563-95ae-9bd26ae8f9c6",
   "metadata": {},
   "outputs": [
    {
     "data": {
      "text/plain": [
       "np.int64(4)"
      ]
     },
     "execution_count": 19,
     "metadata": {},
     "output_type": "execute_result"
    }
   ],
   "source": [
    "M[1,1]"
   ]
  },
  {
   "cell_type": "code",
   "execution_count": 20,
   "id": "bdd4dddf-2a48-48a7-be79-b103b3c32e15",
   "metadata": {},
   "outputs": [
    {
     "data": {
      "text/plain": [
       "array([3, 4])"
      ]
     },
     "execution_count": 20,
     "metadata": {},
     "output_type": "execute_result"
    }
   ],
   "source": [
    "M[:,1]"
   ]
  },
  {
   "cell_type": "code",
   "execution_count": 21,
   "id": "42193057-17c3-4c43-a62b-e0fb55bc25ed",
   "metadata": {},
   "outputs": [
    {
     "data": {
      "text/plain": [
       "array([1, 3])"
      ]
     },
     "execution_count": 21,
     "metadata": {},
     "output_type": "execute_result"
    }
   ],
   "source": [
    "M[0]"
   ]
  },
  {
   "cell_type": "code",
   "execution_count": 22,
   "id": "e1c677f5-7504-47a0-9d41-71be481a232b",
   "metadata": {},
   "outputs": [
    {
     "data": {
      "text/plain": [
       "array([1, 3])"
      ]
     },
     "execution_count": 22,
     "metadata": {},
     "output_type": "execute_result"
    }
   ],
   "source": [
    "#toutes les lignes de la premiere colonne\n",
    "M[0,:]"
   ]
  },
  {
   "cell_type": "code",
   "execution_count": 23,
   "id": "3bb44c09-904a-4037-b5d6-8bd1095b297f",
   "metadata": {},
   "outputs": [],
   "source": [
    "#Stocker poids et tailles dans un seul tableau numpy à 2 dimensions\n",
    "family_data=np.array([tailles,poids])"
   ]
  },
  {
   "cell_type": "code",
   "execution_count": 24,
   "id": "fd4b5e73-8abc-495f-94b1-534baf808a8a",
   "metadata": {},
   "outputs": [
    {
     "data": {
      "text/plain": [
       "array([[  1.83,   1.85,   1.64,   1.9 ,   1.72,   1.89,   1.59,   1.68],\n",
       "       [ 69.  ,  75.  ,  79.  , 120.  ,  55.  ,  89.  ,  66.  ,  80.  ]])"
      ]
     },
     "execution_count": 24,
     "metadata": {},
     "output_type": "execute_result"
    }
   ],
   "source": [
    "family_data"
   ]
  },
  {
   "cell_type": "markdown",
   "id": "ead26828-b89a-4fae-a12f-73876198b395",
   "metadata": {},
   "source": [
    "family_data a deux lignes et 8 colonnes"
   ]
  },
  {
   "cell_type": "code",
   "execution_count": 25,
   "id": "76b623a5-8f2c-4beb-9c93-294f9fd1b564",
   "metadata": {},
   "outputs": [
    {
     "data": {
      "text/plain": [
       "(2, 8)"
      ]
     },
     "execution_count": 25,
     "metadata": {},
     "output_type": "execute_result"
    }
   ],
   "source": [
    "#dimension\n",
    "family_data.shape\n"
   ]
  },
  {
   "cell_type": "code",
   "execution_count": 26,
   "id": "326be1fc-cc64-46a0-a3d3-2339e50a0adf",
   "metadata": {},
   "outputs": [
    {
     "data": {
      "text/plain": [
       "2"
      ]
     },
     "execution_count": 26,
     "metadata": {},
     "output_type": "execute_result"
    }
   ],
   "source": [
    "family_data.ndim"
   ]
  },
  {
   "cell_type": "markdown",
   "id": "5d068f50-d781-4614-a4a5-b315d32ca35c",
   "metadata": {},
   "source": [
    "exercice d'application\n",
    "Déterminez la taille du tableau M\n",
    "Donnez la taille et le poids des 2e et 3e membre de la famille (family_data)\n",
    "convertr les tailles de la liste 'tailles' en cm et nommez la nouvelle liste 'tailles_cm'"
   ]
  },
  {
   "cell_type": "code",
   "execution_count": 27,
   "id": "5d6007dc-a3a8-41c7-a52e-bed44580a003",
   "metadata": {},
   "outputs": [
    {
     "data": {
      "text/plain": [
       "2"
      ]
     },
     "execution_count": 27,
     "metadata": {},
     "output_type": "execute_result"
    }
   ],
   "source": [
    "#correction\n",
    "M.ndim"
   ]
  },
  {
   "cell_type": "code",
   "execution_count": 28,
   "id": "e243c0e7-ffa0-41ca-89ae-4297fcccda57",
   "metadata": {},
   "outputs": [
    {
     "name": "stdout",
     "output_type": "stream",
     "text": [
      "2e membre : [ 1.85 75.  ]\n"
     ]
    }
   ],
   "source": [
    "print('2e membre :',family_data[:,1])"
   ]
  },
  {
   "cell_type": "code",
   "execution_count": 29,
   "id": "01dd3fb9-a953-4034-9190-205418705b3f",
   "metadata": {},
   "outputs": [
    {
     "name": "stdout",
     "output_type": "stream",
     "text": [
      "3e membre : [ 1.64 79.  ]\n"
     ]
    }
   ],
   "source": [
    "print('3e membre :',family_data[:,2])"
   ]
  },
  {
   "cell_type": "code",
   "execution_count": 30,
   "id": "93b1f345-508c-4c42-a87e-8cf6bfe231f7",
   "metadata": {},
   "outputs": [],
   "source": [
    "#création de tableau numpy à partir de la fonction range()\n",
    "tab_range=np.array(range(5))"
   ]
  },
  {
   "cell_type": "code",
   "execution_count": 31,
   "id": "2fd84638-515e-4a21-ab5f-dd2249326e3c",
   "metadata": {},
   "outputs": [
    {
     "data": {
      "text/plain": [
       "array([0, 1, 2, 3, 4])"
      ]
     },
     "execution_count": 31,
     "metadata": {},
     "output_type": "execute_result"
    }
   ],
   "source": [
    "tab_range"
   ]
  },
  {
   "cell_type": "code",
   "execution_count": 32,
   "id": "07f617d9-215d-4030-9783-751e9a7d0caf",
   "metadata": {},
   "outputs": [],
   "source": [
    "#avec la méthode arrange de numpy\n",
    "np_arange=np.arange(5)"
   ]
  },
  {
   "cell_type": "code",
   "execution_count": 33,
   "id": "61990fad-1ee5-4968-88d5-c913a6299c8f",
   "metadata": {},
   "outputs": [
    {
     "data": {
      "text/plain": [
       "array([0, 1, 2, 3, 4])"
      ]
     },
     "execution_count": 33,
     "metadata": {},
     "output_type": "execute_result"
    }
   ],
   "source": [
    "np_arange"
   ]
  },
  {
   "cell_type": "code",
   "execution_count": 34,
   "id": "8efed08c-e64e-4d2c-b756-f36faea4ed57",
   "metadata": {},
   "outputs": [
    {
     "data": {
      "text/plain": [
       "array([ True,  True,  True,  True,  True])"
      ]
     },
     "execution_count": 34,
     "metadata": {},
     "output_type": "execute_result"
    }
   ],
   "source": [
    "np_arange==tab_range"
   ]
  },
  {
   "cell_type": "code",
   "execution_count": 39,
   "id": "9002e1ab-3b52-47fb-b6cb-b89695699e3c",
   "metadata": {},
   "outputs": [],
   "source": [
    "#donner des bornes et un pas d'increment (0.1)\n",
    "np_arange2=np.arange(1.0,2.0,0.1)"
   ]
  },
  {
   "cell_type": "code",
   "execution_count": null,
   "id": "2d4d0386-da2b-414b-a65b-5faa3a0ddff9",
   "metadata": {},
   "outputs": [],
   "source": []
  },
  {
   "cell_type": "code",
   "execution_count": 37,
   "id": "13ba85bd-dc65-48a4-9717-cb65a6dec9cf",
   "metadata": {},
   "outputs": [
    {
     "data": {
      "text/plain": [
       "array([1. , 1.1, 1.2, 1.3, 1.4, 1.5, 1.6, 1.7, 1.8, 1.9])"
      ]
     },
     "execution_count": 37,
     "metadata": {},
     "output_type": "execute_result"
    }
   ],
   "source": [
    "np_arange2"
   ]
  },
  {
   "cell_type": "code",
   "execution_count": 40,
   "id": "cb765ed6-777a-46e6-9c22-5c1ca6c8bb68",
   "metadata": {},
   "outputs": [],
   "source": [
    "#créer un intervalle avec un nombre précis de nombres à l'intérieur, avec ma fonction linspace: 50 éléments de 0 à 10\n",
    "x=np.linspace(0.,10.,50)"
   ]
  },
  {
   "cell_type": "code",
   "execution_count": 41,
   "id": "6be14644-33a4-4c75-bd00-326b409a9a27",
   "metadata": {},
   "outputs": [
    {
     "data": {
      "text/plain": [
       "array([ 0.        ,  0.20408163,  0.40816327,  0.6122449 ,  0.81632653,\n",
       "        1.02040816,  1.2244898 ,  1.42857143,  1.63265306,  1.83673469,\n",
       "        2.04081633,  2.24489796,  2.44897959,  2.65306122,  2.85714286,\n",
       "        3.06122449,  3.26530612,  3.46938776,  3.67346939,  3.87755102,\n",
       "        4.08163265,  4.28571429,  4.48979592,  4.69387755,  4.89795918,\n",
       "        5.10204082,  5.30612245,  5.51020408,  5.71428571,  5.91836735,\n",
       "        6.12244898,  6.32653061,  6.53061224,  6.73469388,  6.93877551,\n",
       "        7.14285714,  7.34693878,  7.55102041,  7.75510204,  7.95918367,\n",
       "        8.16326531,  8.36734694,  8.57142857,  8.7755102 ,  8.97959184,\n",
       "        9.18367347,  9.3877551 ,  9.59183673,  9.79591837, 10.        ])"
      ]
     },
     "execution_count": 41,
     "metadata": {},
     "output_type": "execute_result"
    }
   ],
   "source": [
    "x"
   ]
  },
  {
   "cell_type": "code",
   "execution_count": 42,
   "id": "29a3d8b9-a450-4fe5-bc62-85c1d5c95ca1",
   "metadata": {},
   "outputs": [],
   "source": [
    "#taille moyenne\n",
    "taille_moy=np.mean(family_data[0])"
   ]
  },
  {
   "cell_type": "code",
   "execution_count": 43,
   "id": "acd2735e-280c-46ef-b375-48fc1b4f3b3e",
   "metadata": {},
   "outputs": [
    {
     "data": {
      "text/plain": [
       "np.float64(1.7625000000000002)"
      ]
     },
     "execution_count": 43,
     "metadata": {},
     "output_type": "execute_result"
    }
   ],
   "source": [
    "taille_moy"
   ]
  },
  {
   "cell_type": "code",
   "execution_count": 44,
   "id": "a6de4119-25f7-464d-8251-1c8d08a85de1",
   "metadata": {},
   "outputs": [],
   "source": [
    "#taille médiane\n",
    "taille_med=np.median(family_data[0])"
   ]
  },
  {
   "cell_type": "code",
   "execution_count": 45,
   "id": "d80f73a0-79f8-43c5-90e7-2db28e80e8e7",
   "metadata": {},
   "outputs": [
    {
     "data": {
      "text/plain": [
       "np.float64(1.775)"
      ]
     },
     "execution_count": 45,
     "metadata": {},
     "output_type": "execute_result"
    }
   ],
   "source": [
    "taille_med"
   ]
  },
  {
   "cell_type": "code",
   "execution_count": 46,
   "id": "47b75baa-1336-4ea8-b7df-a33b56fcb2bc",
   "metadata": {},
   "outputs": [],
   "source": [
    "#ecart_type de la taille\n",
    "taille_std=np.std(family_data[0])"
   ]
  },
  {
   "cell_type": "code",
   "execution_count": 47,
   "id": "4927fe11-ad85-42cb-9777-447d32ed20f2",
   "metadata": {},
   "outputs": [
    {
     "data": {
      "text/plain": [
       "np.float64(0.1122218784373172)"
      ]
     },
     "execution_count": 47,
     "metadata": {},
     "output_type": "execute_result"
    }
   ],
   "source": [
    "taille_std"
   ]
  },
  {
   "cell_type": "code",
   "execution_count": 49,
   "id": "e413b10f-14b7-44a2-a4de-e71ec2db8672",
   "metadata": {},
   "outputs": [],
   "source": [
    "#poids_moyen\n",
    "poids_moyen=np.median(family_data[1])"
   ]
  },
  {
   "cell_type": "code",
   "execution_count": 50,
   "id": "0ec46a85-3312-4ec4-9fd3-d8ccd3db296e",
   "metadata": {},
   "outputs": [
    {
     "data": {
      "text/plain": [
       "np.float64(77.0)"
      ]
     },
     "execution_count": 50,
     "metadata": {},
     "output_type": "execute_result"
    }
   ],
   "source": [
    "poids_moyen"
   ]
  },
  {
   "cell_type": "code",
   "execution_count": 51,
   "id": "3565796d-cb52-4040-8af5-eb76943729d4",
   "metadata": {},
   "outputs": [],
   "source": [
    "poids_med=np.median(family_data[1])"
   ]
  },
  {
   "cell_type": "code",
   "execution_count": 52,
   "id": "5cb583ab-1093-48f3-9566-10180796ca33",
   "metadata": {},
   "outputs": [
    {
     "data": {
      "text/plain": [
       "np.float64(77.0)"
      ]
     },
     "execution_count": 52,
     "metadata": {},
     "output_type": "execute_result"
    }
   ],
   "source": [
    "poids_med"
   ]
  },
  {
   "cell_type": "code",
   "execution_count": 53,
   "id": "fa21c8fb-5f49-4eba-b45b-af0374de4f0d",
   "metadata": {},
   "outputs": [],
   "source": [
    "#ecart_type du poids\n",
    "poids_std=np.std(family_data[1])"
   ]
  },
  {
   "cell_type": "code",
   "execution_count": 54,
   "id": "076f2f69-7293-4552-8012-19b00bf64929",
   "metadata": {},
   "outputs": [
    {
     "data": {
      "text/plain": [
       "np.float64(18.17579090438708)"
      ]
     },
     "execution_count": 54,
     "metadata": {},
     "output_type": "execute_result"
    }
   ],
   "source": [
    "poids_std"
   ]
  },
  {
   "cell_type": "code",
   "execution_count": 4,
   "id": "91303c24-2fef-46fb-b7e0-af0b8f9423d5",
   "metadata": {},
   "outputs": [],
   "source": [
    "#taille et poids de 100 000 personnes: 10000 colonnes et 2 lignes\n",
    "#générer les données\n",
    "import numpy as np\n",
    "tailles_city=np.round(np.random.normal(1.76,0.11,100000),2)\n",
    "poids_city=np.round(np.random.normal(79.13,18.17,100000),2)\n"
   ]
  },
  {
   "cell_type": "code",
   "execution_count": 60,
   "id": "83c0c716-b98b-41be-830a-a4d5e4470b57",
   "metadata": {},
   "outputs": [
    {
     "data": {
      "text/plain": [
       "array([1.7 , 1.6 , 1.86, ..., 1.63, 1.7 , 1.78])"
      ]
     },
     "execution_count": 60,
     "metadata": {},
     "output_type": "execute_result"
    }
   ],
   "source": [
    "tailles_city"
   ]
  },
  {
   "cell_type": "code",
   "execution_count": 5,
   "id": "fbcbf811-0b43-494c-b9c4-d9bd90e0297c",
   "metadata": {},
   "outputs": [
    {
     "data": {
      "text/plain": [
       "array([ 62.77,  97.1 ,  64.8 , ...,  92.88, 104.64,  88.69])"
      ]
     },
     "execution_count": 5,
     "metadata": {},
     "output_type": "execute_result"
    }
   ],
   "source": [
    "poids_city"
   ]
  },
  {
   "cell_type": "code",
   "execution_count": 63,
   "id": "c84841b6-21e6-4ca8-8476-3039079f515b",
   "metadata": {},
   "outputs": [
    {
     "data": {
      "text/plain": [
       "array([[ 1.7 ,  1.6 ,  1.86, ...,  1.63,  1.7 ,  1.78],\n",
       "       [94.22, 38.05, 90.2 , ..., 82.44, 62.3 , 90.74]])"
      ]
     },
     "execution_count": 63,
     "metadata": {},
     "output_type": "execute_result"
    }
   ],
   "source": [
    "#mettre tailles sur premiere ligne et poids en 2E ligne\n",
    "np.array([tailles_city,poids_city])"
   ]
  },
  {
   "cell_type": "code",
   "execution_count": 64,
   "id": "6182f4e0-0898-41f9-9d25-fda7faa01b6d",
   "metadata": {},
   "outputs": [],
   "source": [
    "#coller par collonnes\n",
    "#tailles_city en premiere colonne et poids_city en 2e colonne"
   ]
  },
  {
   "cell_type": "code",
   "execution_count": 6,
   "id": "a3a008bf-6d11-4bfb-a732-b0df2100a731",
   "metadata": {},
   "outputs": [],
   "source": [
    "data_city=np.column_stack((tailles_city,poids_city))"
   ]
  },
  {
   "cell_type": "code",
   "execution_count": 7,
   "id": "902145a1-514b-435a-88de-3eba64d6e9e8",
   "metadata": {},
   "outputs": [
    {
     "data": {
      "text/plain": [
       "array([[  1.79,  62.77],\n",
       "       [  1.92,  97.1 ],\n",
       "       [  1.86,  64.8 ],\n",
       "       ...,\n",
       "       [  1.86,  92.88],\n",
       "       [  1.77, 104.64],\n",
       "       [  1.87,  88.69]])"
      ]
     },
     "execution_count": 7,
     "metadata": {},
     "output_type": "execute_result"
    }
   ],
   "source": [
    "data_city"
   ]
  },
  {
   "cell_type": "code",
   "execution_count": 8,
   "id": "6cbbfdef-c884-43de-923c-3e4fcbad56f4",
   "metadata": {},
   "outputs": [],
   "source": [
    "#taille moyenne data_city:toutes_lignes premiere colonne\n",
    "taille_data_city_moy=np.mean(data_city[:,0])"
   ]
  },
  {
   "cell_type": "code",
   "execution_count": null,
   "id": "5f8e0623-d3b5-4266-8486-aac5ab0fe296",
   "metadata": {},
   "outputs": [],
   "source": []
  },
  {
   "cell_type": "code",
   "execution_count": 9,
   "id": "76ddeefc-2286-4faa-9802-dc4e9326fa6e",
   "metadata": {},
   "outputs": [
    {
     "data": {
      "text/plain": [
       "np.float64(1.7605787000000002)"
      ]
     },
     "execution_count": 9,
     "metadata": {},
     "output_type": "execute_result"
    }
   ],
   "source": [
    "taille_data_city_moy"
   ]
  },
  {
   "cell_type": "code",
   "execution_count": 11,
   "id": "dabe0ab9-97c1-4831-a1a2-8101e537ad6c",
   "metadata": {},
   "outputs": [],
   "source": [
    "poids_data_city_moy=np.mean(data_city[:,1])"
   ]
  },
  {
   "cell_type": "code",
   "execution_count": 12,
   "id": "ed1f1410-1094-4dc4-9f62-f71bf5862326",
   "metadata": {},
   "outputs": [
    {
     "data": {
      "text/plain": [
       "np.float64(79.0893084)"
      ]
     },
     "execution_count": 12,
     "metadata": {},
     "output_type": "execute_result"
    }
   ],
   "source": [
    "poids_data_city_moy"
   ]
  },
  {
   "cell_type": "code",
   "execution_count": 13,
   "id": "0f18c56a-0b3e-41f8-9ec9-24c9863ace0f",
   "metadata": {},
   "outputs": [],
   "source": [
    "#attributs de tableau numpy array\n",
    "#lattrobut shape retourne la forme d'un tableau\n",
    "v=np.array([1,2,3,4])"
   ]
  },
  {
   "cell_type": "code",
   "execution_count": 14,
   "id": "d98edb34-4d26-4141-b496-71474b83d5ac",
   "metadata": {},
   "outputs": [
    {
     "data": {
      "text/plain": [
       "array([1, 2, 3, 4])"
      ]
     },
     "execution_count": 14,
     "metadata": {},
     "output_type": "execute_result"
    }
   ],
   "source": [
    "v"
   ]
  },
  {
   "cell_type": "code",
   "execution_count": 15,
   "id": "367028dd-4964-4844-abd1-c0f292d15d65",
   "metadata": {},
   "outputs": [
    {
     "data": {
      "text/plain": [
       "(4,)"
      ]
     },
     "execution_count": 15,
     "metadata": {},
     "output_type": "execute_result"
    }
   ],
   "source": [
    "v.shape"
   ]
  },
  {
   "cell_type": "code",
   "execution_count": 18,
   "id": "c4f5ce7e-f079-444e-8181-d3011fc3e1c3",
   "metadata": {},
   "outputs": [],
   "source": [
    "M=np.array([[1,3],[2,4]])"
   ]
  },
  {
   "cell_type": "code",
   "execution_count": 19,
   "id": "3ac7d1b6-93a4-4a1c-8cd9-7e270ab0a469",
   "metadata": {},
   "outputs": [
    {
     "data": {
      "text/plain": [
       "array([[1, 3],\n",
       "       [2, 4]])"
      ]
     },
     "execution_count": 19,
     "metadata": {},
     "output_type": "execute_result"
    }
   ],
   "source": [
    "M\n"
   ]
  },
  {
   "cell_type": "code",
   "execution_count": 20,
   "id": "1638a7eb-ffd0-4a78-9b61-bb0d3f0c8f9f",
   "metadata": {},
   "outputs": [
    {
     "data": {
      "text/plain": [
       "(2, 2)"
      ]
     },
     "execution_count": 20,
     "metadata": {},
     "output_type": "execute_result"
    }
   ],
   "source": [
    "M.shape\n"
   ]
  },
  {
   "cell_type": "code",
   "execution_count": 22,
   "id": "270e0494-6458-47c5-961e-84432a8a36f1",
   "metadata": {},
   "outputs": [],
   "source": [
    "#attribut ndim la dimension\n",
    "N=np.array([[1,1],[2,6],[7,9]])"
   ]
  },
  {
   "cell_type": "code",
   "execution_count": 23,
   "id": "0f8ee03e-be44-4ca6-beb9-b0dc4c770c0a",
   "metadata": {},
   "outputs": [
    {
     "data": {
      "text/plain": [
       "2"
      ]
     },
     "execution_count": 23,
     "metadata": {},
     "output_type": "execute_result"
    }
   ],
   "source": [
    "N.ndim"
   ]
  },
  {
   "cell_type": "code",
   "execution_count": 24,
   "id": "8b0cce50-e34d-4f9a-bc3c-4869873ab5d7",
   "metadata": {},
   "outputs": [
    {
     "data": {
      "text/plain": [
       "6"
      ]
     },
     "execution_count": 24,
     "metadata": {},
     "output_type": "execute_result"
    }
   ],
   "source": [
    "#Size=nombre elements du tableau\n",
    "N.size"
   ]
  },
  {
   "cell_type": "code",
   "execution_count": 25,
   "id": "de399fff-2592-4b49-9da0-b01db9b7ff71",
   "metadata": {},
   "outputs": [
    {
     "data": {
      "text/plain": [
       "array([[1, 1],\n",
       "       [2, 6],\n",
       "       [7, 9]])"
      ]
     },
     "execution_count": 25,
     "metadata": {},
     "output_type": "execute_result"
    }
   ],
   "source": [
    "N"
   ]
  },
  {
   "cell_type": "code",
   "execution_count": 26,
   "id": "7fea12c2-a5b1-49ae-b4b6-71a9e58161d7",
   "metadata": {},
   "outputs": [
    {
     "data": {
      "text/plain": [
       "(3, 2)"
      ]
     },
     "execution_count": 26,
     "metadata": {},
     "output_type": "execute_result"
    }
   ],
   "source": [
    "N.shape"
   ]
  },
  {
   "cell_type": "code",
   "execution_count": 32,
   "id": "d8b17f84-a932-4bd9-8d5a-33868cf57a80",
   "metadata": {},
   "outputs": [],
   "source": [
    "#remodeler le tableau en 2 lignes 3 colonnes\n",
    "v2=N.reshape((2,3))"
   ]
  },
  {
   "cell_type": "code",
   "execution_count": 33,
   "id": "3b9ee097-bf7d-4d00-a0ab-2a31a25c0fbf",
   "metadata": {},
   "outputs": [
    {
     "data": {
      "text/plain": [
       "array([[1, 1, 2],\n",
       "       [6, 7, 9]])"
      ]
     },
     "execution_count": 33,
     "metadata": {},
     "output_type": "execute_result"
    }
   ],
   "source": [
    "v2"
   ]
  },
  {
   "cell_type": "code",
   "execution_count": 34,
   "id": "2abb1dcf-0c9a-4a95-9505-34abc333b6c2",
   "metadata": {},
   "outputs": [
    {
     "data": {
      "text/plain": [
       "array([1, 1, 2, 6, 7, 9])"
      ]
     },
     "execution_count": 34,
     "metadata": {},
     "output_type": "execute_result"
    }
   ],
   "source": [
    "#aplatir un tableau: methode RAVEL=transforme le tableau en vecteur\n",
    "v2.ravel()"
   ]
  },
  {
   "cell_type": "markdown",
   "id": "abbaaa13-d2a2-444a-884d-25652c31e2e7",
   "metadata": {},
   "source": [
    "LIBRAIRIE PANDAS\n"
   ]
  },
  {
   "cell_type": "code",
   "execution_count": 35,
   "id": "8f3a29b2-253b-4dec-a36c-24b7ec82fc88",
   "metadata": {},
   "outputs": [],
   "source": [
    "#rappel numpy: enregistrer catacteristiques d'un bébé panda : pattes de 100cm, poils de 5cm en moyenne, queue de 20 cm,ventre de \n",
    "#80 cm de diametre\n",
    "un_panda_numpy=np.array([100,5,20,80])"
   ]
  },
  {
   "cell_type": "code",
   "execution_count": 36,
   "id": "cda27556-b3ec-4d63-a100-59bc42fc573d",
   "metadata": {},
   "outputs": [
    {
     "data": {
      "text/plain": [
       "array([100,   5,  20,  80])"
      ]
     },
     "execution_count": 36,
     "metadata": {},
     "output_type": "execute_result"
    }
   ],
   "source": [
    "un_panda_numpy"
   ]
  },
  {
   "cell_type": "code",
   "execution_count": 37,
   "id": "e3f65401-2b53-405a-a6ce-0e4e392aee09",
   "metadata": {},
   "outputs": [],
   "source": [
    "#si on veut représenter plusieurs pandas on crée une liste de tableaux numpy\n",
    "#famille panda\n",
    "famille_panda=[\n",
    "              [100,5,20,80],#maman\n",
    "             [50,2.5,10,40],#bébé\n",
    "             [110,6,22,80]#papa\n",
    "              ]"
   ]
  },
  {
   "cell_type": "code",
   "execution_count": 38,
   "id": "424c2f05-2afe-4fcc-afc3-8e4d7f23e9bd",
   "metadata": {},
   "outputs": [],
   "source": [
    "famille_panda_numpy=np.array(famille_panda)"
   ]
  },
  {
   "cell_type": "code",
   "execution_count": 39,
   "id": "1f8d0670-35e4-4868-8714-fd4260e0c475",
   "metadata": {},
   "outputs": [
    {
     "data": {
      "text/plain": [
       "array([[100. ,   5. ,  20. ,  80. ],\n",
       "       [ 50. ,   2.5,  10. ,  40. ],\n",
       "       [110. ,   6. ,  22. ,  80. ]])"
      ]
     },
     "execution_count": 39,
     "metadata": {},
     "output_type": "execute_result"
    }
   ],
   "source": [
    "famille_panda_numpy"
   ]
  },
  {
   "cell_type": "code",
   "execution_count": 40,
   "id": "b8aa0114-f5a7-458c-b2fd-98e88d99c3b3",
   "metadata": {},
   "outputs": [
    {
     "data": {
      "text/plain": [
       "np.float64(110.0)"
      ]
     },
     "execution_count": 40,
     "metadata": {},
     "output_type": "execute_result"
    }
   ],
   "source": [
    "#taille des pattes de de papa panda\n",
    "famille_panda_numpy[2,0]"
   ]
  },
  {
   "cell_type": "code",
   "execution_count": 41,
   "id": "5b85d264-97e6-48bc-8f2c-2eb704abb970",
   "metadata": {},
   "outputs": [
    {
     "data": {
      "text/plain": [
       "array([100.,  50., 110.])"
      ]
     },
     "execution_count": 41,
     "metadata": {},
     "output_type": "execute_result"
    }
   ],
   "source": [
    "famille_panda_numpy[:,0]"
   ]
  },
  {
   "cell_type": "code",
   "execution_count": 43,
   "id": "9909163e-ab54-4505-bb3d-af941948cde6",
   "metadata": {},
   "outputs": [],
   "source": [
    "#c'est bien mais pas explicite on aimerait pouvoir spécifier noms de variables (taille poils, queue, etc) d'un panda cela nus amène à utiliser librairie pandas\n",
    "\n",
    "#importation de numpy et pandas\n",
    "import numpy as np\n",
    "import pandas as pd\n",
    "\n",
    "famille_panda=[\n",
    "              [100,5,20,80],#maman\n",
    "             [50,2.5,10,40],#bébé\n",
    "             [110,6,22,80]#papa\n",
    "]\n",
    "famille_panda_numpy=np.array(famille_panda)"
   ]
  },
  {
   "cell_type": "code",
   "execution_count": 45,
   "id": "cfb13d82-6a98-4ebb-b733-1ca6a9f9233e",
   "metadata": {},
   "outputs": [
    {
     "name": "stdout",
     "output_type": "stream",
     "text": [
      "<class 'numpy.ndarray'>\n"
     ]
    }
   ],
   "source": [
    "print(type(famille_panda_numpy))"
   ]
  },
  {
   "cell_type": "code",
   "execution_count": 47,
   "id": "df80f68f-80bb-49d6-aaa4-f97f3ad16ba1",
   "metadata": {},
   "outputs": [
    {
     "data": {
      "text/html": [
       "<div>\n",
       "<style scoped>\n",
       "    .dataframe tbody tr th:only-of-type {\n",
       "        vertical-align: middle;\n",
       "    }\n",
       "\n",
       "    .dataframe tbody tr th {\n",
       "        vertical-align: top;\n",
       "    }\n",
       "\n",
       "    .dataframe thead th {\n",
       "        text-align: right;\n",
       "    }\n",
       "</style>\n",
       "<table border=\"1\" class=\"dataframe\">\n",
       "  <thead>\n",
       "    <tr style=\"text-align: right;\">\n",
       "      <th></th>\n",
       "      <th>0</th>\n",
       "      <th>1</th>\n",
       "      <th>2</th>\n",
       "      <th>3</th>\n",
       "    </tr>\n",
       "  </thead>\n",
       "  <tbody>\n",
       "    <tr>\n",
       "      <th>0</th>\n",
       "      <td>100</td>\n",
       "      <td>5.0</td>\n",
       "      <td>20</td>\n",
       "      <td>80</td>\n",
       "    </tr>\n",
       "    <tr>\n",
       "      <th>1</th>\n",
       "      <td>50</td>\n",
       "      <td>2.5</td>\n",
       "      <td>10</td>\n",
       "      <td>40</td>\n",
       "    </tr>\n",
       "    <tr>\n",
       "      <th>2</th>\n",
       "      <td>110</td>\n",
       "      <td>6.0</td>\n",
       "      <td>22</td>\n",
       "      <td>80</td>\n",
       "    </tr>\n",
       "  </tbody>\n",
       "</table>\n",
       "</div>"
      ],
      "text/plain": [
       "     0    1   2   3\n",
       "0  100  5.0  20  80\n",
       "1   50  2.5  10  40\n",
       "2  110  6.0  22  80"
      ]
     },
     "execution_count": 47,
     "metadata": {},
     "output_type": "execute_result"
    }
   ],
   "source": [
    "#création d'une dataframe à partir d'un tableau numpy\n",
    "famille_panda_df=pd.DataFrame(famille_panda)\n",
    "famille_panda_df"
   ]
  },
  {
   "cell_type": "code",
   "execution_count": 67,
   "id": "e776e8f5-640b-4491-aabc-23d1d09f867f",
   "metadata": {},
   "outputs": [],
   "source": [
    "#on peut faire mieux: on n'a pas noms de colonnes\n",
    "famille_panda_df=pd.DataFrame(famille_panda_numpy,\n",
    "                             columns=['pattes','poil','queue','ventre'],\n",
    "                              index=['maman','bebe','papa']\n",
    "                             \n",
    "                             )"
   ]
  },
  {
   "cell_type": "code",
   "execution_count": 68,
   "id": "ca007021-a044-4871-a476-af1cb825122f",
   "metadata": {},
   "outputs": [
    {
     "data": {
      "text/html": [
       "<div>\n",
       "<style scoped>\n",
       "    .dataframe tbody tr th:only-of-type {\n",
       "        vertical-align: middle;\n",
       "    }\n",
       "\n",
       "    .dataframe tbody tr th {\n",
       "        vertical-align: top;\n",
       "    }\n",
       "\n",
       "    .dataframe thead th {\n",
       "        text-align: right;\n",
       "    }\n",
       "</style>\n",
       "<table border=\"1\" class=\"dataframe\">\n",
       "  <thead>\n",
       "    <tr style=\"text-align: right;\">\n",
       "      <th></th>\n",
       "      <th>pattes</th>\n",
       "      <th>poil</th>\n",
       "      <th>queue</th>\n",
       "      <th>ventre</th>\n",
       "    </tr>\n",
       "  </thead>\n",
       "  <tbody>\n",
       "    <tr>\n",
       "      <th>maman</th>\n",
       "      <td>100.0</td>\n",
       "      <td>5.0</td>\n",
       "      <td>20.0</td>\n",
       "      <td>80.0</td>\n",
       "    </tr>\n",
       "    <tr>\n",
       "      <th>bebe</th>\n",
       "      <td>50.0</td>\n",
       "      <td>2.5</td>\n",
       "      <td>10.0</td>\n",
       "      <td>40.0</td>\n",
       "    </tr>\n",
       "    <tr>\n",
       "      <th>papa</th>\n",
       "      <td>110.0</td>\n",
       "      <td>6.0</td>\n",
       "      <td>22.0</td>\n",
       "      <td>80.0</td>\n",
       "    </tr>\n",
       "  </tbody>\n",
       "</table>\n",
       "</div>"
      ],
      "text/plain": [
       "       pattes  poil  queue  ventre\n",
       "maman   100.0   5.0   20.0    80.0\n",
       "bebe     50.0   2.5   10.0    40.0\n",
       "papa    110.0   6.0   22.0    80.0"
      ]
     },
     "execution_count": 68,
     "metadata": {},
     "output_type": "execute_result"
    }
   ],
   "source": [
    "famille_panda_df"
   ]
  },
  {
   "cell_type": "code",
   "execution_count": null,
   "id": "ee7df025-1a8a-4a75-998b-02e098b53c2f",
   "metadata": {},
   "outputs": [],
   "source": [
    "#index dataframe= lignes"
   ]
  },
  {
   "cell_type": "code",
   "execution_count": 50,
   "id": "5cca6595-d927-4302-8b40-0c80d35de776",
   "metadata": {},
   "outputs": [
    {
     "data": {
      "text/plain": [
       "maman    80.0\n",
       "bebe     40.0\n",
       "papa     80.0\n",
       "Name: ventre, dtype: float64"
      ]
     },
     "execution_count": 50,
     "metadata": {},
     "output_type": "execute_result"
    }
   ],
   "source": [
    "famille_panda_df['ventre']"
   ]
  },
  {
   "cell_type": "code",
   "execution_count": 51,
   "id": "0820d2ff-0fb6-4000-9ec8-72505668a94c",
   "metadata": {},
   "outputs": [
    {
     "data": {
      "text/plain": [
       "maman    80.0\n",
       "bebe     40.0\n",
       "papa     80.0\n",
       "Name: ventre, dtype: float64"
      ]
     },
     "execution_count": 51,
     "metadata": {},
     "output_type": "execute_result"
    }
   ],
   "source": [
    "famille_panda_df.ventre"
   ]
  },
  {
   "cell_type": "code",
   "execution_count": 52,
   "id": "6177e36c-257c-4696-8064-248da55df1c9",
   "metadata": {},
   "outputs": [
    {
     "data": {
      "text/plain": [
       "pattes    110.0\n",
       "poil        6.0\n",
       "queue      22.0\n",
       "ventre     80.0\n",
       "Name: papa, dtype: float64"
      ]
     },
     "execution_count": 52,
     "metadata": {},
     "output_type": "execute_result"
    }
   ],
   "source": [
    "#accéder aux infos de papa panda avec iloc()\n",
    "famille_panda_df.iloc[2]"
   ]
  },
  {
   "cell_type": "code",
   "execution_count": 53,
   "id": "d56bbd1e-e109-4145-9967-4cf55e74ef90",
   "metadata": {},
   "outputs": [
    {
     "data": {
      "text/plain": [
       "pattes    110.0\n",
       "poil        6.0\n",
       "queue      22.0\n",
       "ventre     80.0\n",
       "Name: papa, dtype: float64"
      ]
     },
     "execution_count": 53,
     "metadata": {},
     "output_type": "execute_result"
    }
   ],
   "source": [
    "#accéder aux infos de papa panda avec iloc()\n",
    "famille_panda_df.loc['papa']"
   ]
  },
  {
   "cell_type": "code",
   "execution_count": 54,
   "id": "dd36d4aa-6550-49ca-8e01-d808d2ea8b6b",
   "metadata": {},
   "outputs": [],
   "source": [
    "#déterminons les pandas dont le diamètre du ventre est de 80cm (filtrations de données)\n",
    "mask=famille_panda_df.ventre==80"
   ]
  },
  {
   "cell_type": "code",
   "execution_count": 55,
   "id": "b1854f58-b404-438d-b585-413aa85e4594",
   "metadata": {},
   "outputs": [
    {
     "data": {
      "text/plain": [
       "maman     True\n",
       "bebe     False\n",
       "papa      True\n",
       "Name: ventre, dtype: bool"
      ]
     },
     "execution_count": 55,
     "metadata": {},
     "output_type": "execute_result"
    }
   ],
   "source": [
    "mask"
   ]
  },
  {
   "cell_type": "code",
   "execution_count": 56,
   "id": "efcd0cdf-d9dc-44f9-8d1b-33ad22051104",
   "metadata": {},
   "outputs": [
    {
     "data": {
      "text/html": [
       "<div>\n",
       "<style scoped>\n",
       "    .dataframe tbody tr th:only-of-type {\n",
       "        vertical-align: middle;\n",
       "    }\n",
       "\n",
       "    .dataframe tbody tr th {\n",
       "        vertical-align: top;\n",
       "    }\n",
       "\n",
       "    .dataframe thead th {\n",
       "        text-align: right;\n",
       "    }\n",
       "</style>\n",
       "<table border=\"1\" class=\"dataframe\">\n",
       "  <thead>\n",
       "    <tr style=\"text-align: right;\">\n",
       "      <th></th>\n",
       "      <th>pattes</th>\n",
       "      <th>poil</th>\n",
       "      <th>queue</th>\n",
       "      <th>ventre</th>\n",
       "    </tr>\n",
       "  </thead>\n",
       "  <tbody>\n",
       "    <tr>\n",
       "      <th>maman</th>\n",
       "      <td>100.0</td>\n",
       "      <td>5.0</td>\n",
       "      <td>20.0</td>\n",
       "      <td>80.0</td>\n",
       "    </tr>\n",
       "    <tr>\n",
       "      <th>papa</th>\n",
       "      <td>110.0</td>\n",
       "      <td>6.0</td>\n",
       "      <td>22.0</td>\n",
       "      <td>80.0</td>\n",
       "    </tr>\n",
       "  </tbody>\n",
       "</table>\n",
       "</div>"
      ],
      "text/plain": [
       "       pattes  poil  queue  ventre\n",
       "maman   100.0   5.0   20.0    80.0\n",
       "papa    110.0   6.0   22.0    80.0"
      ]
     },
     "execution_count": 56,
     "metadata": {},
     "output_type": "execute_result"
    }
   ],
   "source": [
    "famille_panda_df[mask]"
   ]
  },
  {
   "cell_type": "code",
   "execution_count": 57,
   "id": "f7cf5152-a100-483d-98af-a686c40fe9ea",
   "metadata": {},
   "outputs": [
    {
     "data": {
      "text/html": [
       "<div>\n",
       "<style scoped>\n",
       "    .dataframe tbody tr th:only-of-type {\n",
       "        vertical-align: middle;\n",
       "    }\n",
       "\n",
       "    .dataframe tbody tr th {\n",
       "        vertical-align: top;\n",
       "    }\n",
       "\n",
       "    .dataframe thead th {\n",
       "        text-align: right;\n",
       "    }\n",
       "</style>\n",
       "<table border=\"1\" class=\"dataframe\">\n",
       "  <thead>\n",
       "    <tr style=\"text-align: right;\">\n",
       "      <th></th>\n",
       "      <th>pattes</th>\n",
       "      <th>poil</th>\n",
       "      <th>queue</th>\n",
       "      <th>ventre</th>\n",
       "    </tr>\n",
       "  </thead>\n",
       "  <tbody>\n",
       "    <tr>\n",
       "      <th>bebe</th>\n",
       "      <td>50.0</td>\n",
       "      <td>2.5</td>\n",
       "      <td>10.0</td>\n",
       "      <td>40.0</td>\n",
       "    </tr>\n",
       "  </tbody>\n",
       "</table>\n",
       "</div>"
      ],
      "text/plain": [
       "      pattes  poil  queue  ventre\n",
       "bebe    50.0   2.5   10.0    40.0"
      ]
     },
     "execution_count": 57,
     "metadata": {},
     "output_type": "execute_result"
    }
   ],
   "source": [
    "#pandas dont le diametre du ventre  n'est pas de 80. Il faut inverser le mask avce l'opérateur ~\n",
    "famille_panda_df[~mask]"
   ]
  },
  {
   "cell_type": "code",
   "execution_count": 66,
   "id": "da9d9a98-8e96-41fd-9d02-c578f8cc2900",
   "metadata": {},
   "outputs": [
    {
     "data": {
      "text/html": [
       "<div>\n",
       "<style scoped>\n",
       "    .dataframe tbody tr th:only-of-type {\n",
       "        vertical-align: middle;\n",
       "    }\n",
       "\n",
       "    .dataframe tbody tr th {\n",
       "        vertical-align: top;\n",
       "    }\n",
       "\n",
       "    .dataframe thead th {\n",
       "        text-align: right;\n",
       "    }\n",
       "</style>\n",
       "<table border=\"1\" class=\"dataframe\">\n",
       "  <thead>\n",
       "    <tr style=\"text-align: right;\">\n",
       "      <th></th>\n",
       "      <th>pattes</th>\n",
       "      <th>poil</th>\n",
       "      <th>queue</th>\n",
       "      <th>ventre</th>\n",
       "    </tr>\n",
       "  </thead>\n",
       "  <tbody>\n",
       "    <tr>\n",
       "      <th>0</th>\n",
       "      <td>105</td>\n",
       "      <td>4</td>\n",
       "      <td>19</td>\n",
       "      <td>80</td>\n",
       "    </tr>\n",
       "    <tr>\n",
       "      <th>1</th>\n",
       "      <td>100</td>\n",
       "      <td>5</td>\n",
       "      <td>20</td>\n",
       "      <td>80</td>\n",
       "    </tr>\n",
       "  </tbody>\n",
       "</table>\n",
       "</div>"
      ],
      "text/plain": [
       "   pattes  poil  queue  ventre\n",
       "0     105     4     19      80\n",
       "1     100     5     20      80"
      ]
     },
     "execution_count": 66,
     "metadata": {},
     "output_type": "execute_result"
    }
   ],
   "source": [
    "#ajout d'observations à la DataFrame pandas\n",
    "quelques_pandas=pd.DataFrame(\n",
    "    [\n",
    "    [105,4,19,80],\n",
    "    [100,5,20,80]\n",
    "   ],\n",
    "    columns=famille_panda_df.columns\n",
    ")\n",
    "quelques_pandas"
   ]
  },
  {
   "cell_type": "code",
   "execution_count": 72,
   "id": "d2725e89-f053-418e-80dd-bdb639109279",
   "metadata": {},
   "outputs": [
    {
     "data": {
      "text/html": [
       "<div>\n",
       "<style scoped>\n",
       "    .dataframe tbody tr th:only-of-type {\n",
       "        vertical-align: middle;\n",
       "    }\n",
       "\n",
       "    .dataframe tbody tr th {\n",
       "        vertical-align: top;\n",
       "    }\n",
       "\n",
       "    .dataframe thead th {\n",
       "        text-align: right;\n",
       "    }\n",
       "</style>\n",
       "<table border=\"1\" class=\"dataframe\">\n",
       "  <thead>\n",
       "    <tr style=\"text-align: right;\">\n",
       "      <th></th>\n",
       "      <th>pattes</th>\n",
       "      <th>poil</th>\n",
       "      <th>queue</th>\n",
       "      <th>ventre</th>\n",
       "    </tr>\n",
       "  </thead>\n",
       "  <tbody>\n",
       "    <tr>\n",
       "      <th>maman</th>\n",
       "      <td>100.0</td>\n",
       "      <td>5.0</td>\n",
       "      <td>20.0</td>\n",
       "      <td>80.0</td>\n",
       "    </tr>\n",
       "    <tr>\n",
       "      <th>bebe</th>\n",
       "      <td>50.0</td>\n",
       "      <td>2.5</td>\n",
       "      <td>10.0</td>\n",
       "      <td>40.0</td>\n",
       "    </tr>\n",
       "    <tr>\n",
       "      <th>papa</th>\n",
       "      <td>110.0</td>\n",
       "      <td>6.0</td>\n",
       "      <td>22.0</td>\n",
       "      <td>80.0</td>\n",
       "    </tr>\n",
       "    <tr>\n",
       "      <th>0</th>\n",
       "      <td>105.0</td>\n",
       "      <td>4.0</td>\n",
       "      <td>19.0</td>\n",
       "      <td>80.0</td>\n",
       "    </tr>\n",
       "    <tr>\n",
       "      <th>1</th>\n",
       "      <td>100.0</td>\n",
       "      <td>5.0</td>\n",
       "      <td>20.0</td>\n",
       "      <td>80.0</td>\n",
       "    </tr>\n",
       "  </tbody>\n",
       "</table>\n",
       "</div>"
      ],
      "text/plain": [
       "       pattes  poil  queue  ventre\n",
       "maman   100.0   5.0   20.0    80.0\n",
       "bebe     50.0   2.5   10.0    40.0\n",
       "papa    110.0   6.0   22.0    80.0\n",
       "0       105.0   4.0   19.0    80.0\n",
       "1       100.0   5.0   20.0    80.0"
      ]
     },
     "execution_count": 72,
     "metadata": {},
     "output_type": "execute_result"
    }
   ],
   "source": [
    "tous_les_pandas=famille_panda_df._append(quelques_pandas)\n",
    "tous_les_pandas\n"
   ]
  },
  {
   "cell_type": "code",
   "execution_count": 73,
   "id": "e1609eaa-bfbc-47bc-90b6-31df7557f8f3",
   "metadata": {},
   "outputs": [
    {
     "data": {
      "text/html": [
       "<div>\n",
       "<style scoped>\n",
       "    .dataframe tbody tr th:only-of-type {\n",
       "        vertical-align: middle;\n",
       "    }\n",
       "\n",
       "    .dataframe tbody tr th {\n",
       "        vertical-align: top;\n",
       "    }\n",
       "\n",
       "    .dataframe thead th {\n",
       "        text-align: right;\n",
       "    }\n",
       "</style>\n",
       "<table border=\"1\" class=\"dataframe\">\n",
       "  <thead>\n",
       "    <tr style=\"text-align: right;\">\n",
       "      <th></th>\n",
       "      <th>pattes</th>\n",
       "      <th>poil</th>\n",
       "      <th>queue</th>\n",
       "      <th>ventre</th>\n",
       "    </tr>\n",
       "  </thead>\n",
       "  <tbody>\n",
       "    <tr>\n",
       "      <th>maman</th>\n",
       "      <td>100.0</td>\n",
       "      <td>5.0</td>\n",
       "      <td>20.0</td>\n",
       "      <td>80.0</td>\n",
       "    </tr>\n",
       "    <tr>\n",
       "      <th>bebe</th>\n",
       "      <td>50.0</td>\n",
       "      <td>2.5</td>\n",
       "      <td>10.0</td>\n",
       "      <td>40.0</td>\n",
       "    </tr>\n",
       "    <tr>\n",
       "      <th>papa</th>\n",
       "      <td>110.0</td>\n",
       "      <td>6.0</td>\n",
       "      <td>22.0</td>\n",
       "      <td>80.0</td>\n",
       "    </tr>\n",
       "    <tr>\n",
       "      <th>0</th>\n",
       "      <td>105.0</td>\n",
       "      <td>4.0</td>\n",
       "      <td>19.0</td>\n",
       "      <td>80.0</td>\n",
       "    </tr>\n",
       "  </tbody>\n",
       "</table>\n",
       "</div>"
      ],
      "text/plain": [
       "       pattes  poil  queue  ventre\n",
       "maman   100.0   5.0   20.0    80.0\n",
       "bebe     50.0   2.5   10.0    40.0\n",
       "papa    110.0   6.0   22.0    80.0\n",
       "0       105.0   4.0   19.0    80.0"
      ]
     },
     "execution_count": 73,
     "metadata": {},
     "output_type": "execute_result"
    }
   ],
   "source": [
    "#dédoublonner l'index maman et 1\n",
    "tous_les_pandas.drop_duplicates()"
   ]
  },
  {
   "cell_type": "code",
   "execution_count": 74,
   "id": "77553709-6d9a-42a9-aba9-c4a188175e6f",
   "metadata": {},
   "outputs": [
    {
     "data": {
      "text/html": [
       "<div>\n",
       "<style scoped>\n",
       "    .dataframe tbody tr th:only-of-type {\n",
       "        vertical-align: middle;\n",
       "    }\n",
       "\n",
       "    .dataframe tbody tr th {\n",
       "        vertical-align: top;\n",
       "    }\n",
       "\n",
       "    .dataframe thead th {\n",
       "        text-align: right;\n",
       "    }\n",
       "</style>\n",
       "<table border=\"1\" class=\"dataframe\">\n",
       "  <thead>\n",
       "    <tr style=\"text-align: right;\">\n",
       "      <th></th>\n",
       "      <th>pattes</th>\n",
       "      <th>poil</th>\n",
       "      <th>queue</th>\n",
       "      <th>ventre</th>\n",
       "    </tr>\n",
       "  </thead>\n",
       "  <tbody>\n",
       "    <tr>\n",
       "      <th>maman</th>\n",
       "      <td>100.0</td>\n",
       "      <td>5.0</td>\n",
       "      <td>20.0</td>\n",
       "      <td>80.0</td>\n",
       "    </tr>\n",
       "    <tr>\n",
       "      <th>bebe</th>\n",
       "      <td>50.0</td>\n",
       "      <td>2.5</td>\n",
       "      <td>10.0</td>\n",
       "      <td>40.0</td>\n",
       "    </tr>\n",
       "    <tr>\n",
       "      <th>papa</th>\n",
       "      <td>110.0</td>\n",
       "      <td>6.0</td>\n",
       "      <td>22.0</td>\n",
       "      <td>80.0</td>\n",
       "    </tr>\n",
       "    <tr>\n",
       "      <th>0</th>\n",
       "      <td>105.0</td>\n",
       "      <td>4.0</td>\n",
       "      <td>19.0</td>\n",
       "      <td>80.0</td>\n",
       "    </tr>\n",
       "    <tr>\n",
       "      <th>1</th>\n",
       "      <td>100.0</td>\n",
       "      <td>5.0</td>\n",
       "      <td>20.0</td>\n",
       "      <td>80.0</td>\n",
       "    </tr>\n",
       "  </tbody>\n",
       "</table>\n",
       "</div>"
      ],
      "text/plain": [
       "       pattes  poil  queue  ventre\n",
       "maman   100.0   5.0   20.0    80.0\n",
       "bebe     50.0   2.5   10.0    40.0\n",
       "papa    110.0   6.0   22.0    80.0\n",
       "0       105.0   4.0   19.0    80.0\n",
       "1       100.0   5.0   20.0    80.0"
      ]
     },
     "execution_count": 74,
     "metadata": {},
     "output_type": "execute_result"
    }
   ],
   "source": [
    "tous_les_pandas\n"
   ]
  },
  {
   "cell_type": "code",
   "execution_count": 78,
   "id": "950dc994-0981-4660-8332-3c52d1133ee4",
   "metadata": {},
   "outputs": [
    {
     "data": {
      "text/html": [
       "<div>\n",
       "<style scoped>\n",
       "    .dataframe tbody tr th:only-of-type {\n",
       "        vertical-align: middle;\n",
       "    }\n",
       "\n",
       "    .dataframe tbody tr th {\n",
       "        vertical-align: top;\n",
       "    }\n",
       "\n",
       "    .dataframe thead th {\n",
       "        text-align: right;\n",
       "    }\n",
       "</style>\n",
       "<table border=\"1\" class=\"dataframe\">\n",
       "  <thead>\n",
       "    <tr style=\"text-align: right;\">\n",
       "      <th></th>\n",
       "      <th>pattes</th>\n",
       "      <th>poil</th>\n",
       "      <th>queue</th>\n",
       "      <th>ventre</th>\n",
       "    </tr>\n",
       "  </thead>\n",
       "  <tbody>\n",
       "    <tr>\n",
       "      <th>maman</th>\n",
       "      <td>100.0</td>\n",
       "      <td>5.0</td>\n",
       "      <td>20.0</td>\n",
       "      <td>80.0</td>\n",
       "    </tr>\n",
       "    <tr>\n",
       "      <th>bebe</th>\n",
       "      <td>50.0</td>\n",
       "      <td>2.5</td>\n",
       "      <td>10.0</td>\n",
       "      <td>40.0</td>\n",
       "    </tr>\n",
       "    <tr>\n",
       "      <th>papa</th>\n",
       "      <td>110.0</td>\n",
       "      <td>6.0</td>\n",
       "      <td>22.0</td>\n",
       "      <td>80.0</td>\n",
       "    </tr>\n",
       "    <tr>\n",
       "      <th>0</th>\n",
       "      <td>105.0</td>\n",
       "      <td>4.0</td>\n",
       "      <td>19.0</td>\n",
       "      <td>80.0</td>\n",
       "    </tr>\n",
       "  </tbody>\n",
       "</table>\n",
       "</div>"
      ],
      "text/plain": [
       "       pattes  poil  queue  ventre\n",
       "maman   100.0   5.0   20.0    80.0\n",
       "bebe     50.0   2.5   10.0    40.0\n",
       "papa    110.0   6.0   22.0    80.0\n",
       "0       105.0   4.0   19.0    80.0"
      ]
     },
     "execution_count": 78,
     "metadata": {},
     "output_type": "execute_result"
    }
   ],
   "source": [
    "pandas_uniques=tous_les_pandas.drop_duplicates()\n",
    "tous_les_pandas=tous_les_pandas.drop_duplicates()\n",
    "tous_les_pandas"
   ]
  },
  {
   "cell_type": "code",
   "execution_count": 76,
   "id": "7ebd7118-3cda-4963-a21d-a5b4d079aabd",
   "metadata": {},
   "outputs": [
    {
     "data": {
      "text/html": [
       "<div>\n",
       "<style scoped>\n",
       "    .dataframe tbody tr th:only-of-type {\n",
       "        vertical-align: middle;\n",
       "    }\n",
       "\n",
       "    .dataframe tbody tr th {\n",
       "        vertical-align: top;\n",
       "    }\n",
       "\n",
       "    .dataframe thead th {\n",
       "        text-align: right;\n",
       "    }\n",
       "</style>\n",
       "<table border=\"1\" class=\"dataframe\">\n",
       "  <thead>\n",
       "    <tr style=\"text-align: right;\">\n",
       "      <th></th>\n",
       "      <th>pattes</th>\n",
       "      <th>poil</th>\n",
       "      <th>queue</th>\n",
       "      <th>ventre</th>\n",
       "    </tr>\n",
       "  </thead>\n",
       "  <tbody>\n",
       "    <tr>\n",
       "      <th>maman</th>\n",
       "      <td>100.0</td>\n",
       "      <td>5.0</td>\n",
       "      <td>20.0</td>\n",
       "      <td>80.0</td>\n",
       "    </tr>\n",
       "    <tr>\n",
       "      <th>bebe</th>\n",
       "      <td>50.0</td>\n",
       "      <td>2.5</td>\n",
       "      <td>10.0</td>\n",
       "      <td>40.0</td>\n",
       "    </tr>\n",
       "    <tr>\n",
       "      <th>papa</th>\n",
       "      <td>110.0</td>\n",
       "      <td>6.0</td>\n",
       "      <td>22.0</td>\n",
       "      <td>80.0</td>\n",
       "    </tr>\n",
       "    <tr>\n",
       "      <th>0</th>\n",
       "      <td>105.0</td>\n",
       "      <td>4.0</td>\n",
       "      <td>19.0</td>\n",
       "      <td>80.0</td>\n",
       "    </tr>\n",
       "  </tbody>\n",
       "</table>\n",
       "</div>"
      ],
      "text/plain": [
       "       pattes  poil  queue  ventre\n",
       "maman   100.0   5.0   20.0    80.0\n",
       "bebe     50.0   2.5   10.0    40.0\n",
       "papa    110.0   6.0   22.0    80.0\n",
       "0       105.0   4.0   19.0    80.0"
      ]
     },
     "execution_count": 76,
     "metadata": {},
     "output_type": "execute_result"
    }
   ],
   "source": [
    "pandas_uniques"
   ]
  },
  {
   "cell_type": "code",
   "execution_count": 79,
   "id": "b5f5427f-e3ba-4330-b3a5-86b5147f98c6",
   "metadata": {},
   "outputs": [],
   "source": [
    "#créer une noiuvelle colonne sexe\n",
    "famille_panda_df[\"sexe\"]=['f','f','m']"
   ]
  },
  {
   "cell_type": "code",
   "execution_count": 80,
   "id": "30cefb6b-fa64-40c6-8a0a-65dd5ba32ba2",
   "metadata": {},
   "outputs": [
    {
     "name": "stdout",
     "output_type": "stream",
     "text": [
      "Index(['pattes', 'poil', 'queue', 'ventre', 'sexe'], dtype='object')\n"
     ]
    }
   ],
   "source": [
    "#accéder aux noms des colonnes\n",
    "print(famille_panda_df.columns)"
   ]
  },
  {
   "cell_type": "code",
   "execution_count": 81,
   "id": "76418900-bda1-4453-bee1-18722425cc3a",
   "metadata": {},
   "outputs": [
    {
     "name": "stdout",
     "output_type": "stream",
     "text": [
      "(3, 5)\n"
     ]
    }
   ],
   "source": [
    "#obtenir nombre de lignes et colonnes de la dataframe\n",
    "print(famille_panda_df.shape)"
   ]
  },
  {
   "cell_type": "code",
   "execution_count": 82,
   "id": "950de480-1bbc-4bff-893b-ba612815568b",
   "metadata": {},
   "outputs": [
    {
     "data": {
      "text/html": [
       "<div>\n",
       "<style scoped>\n",
       "    .dataframe tbody tr th:only-of-type {\n",
       "        vertical-align: middle;\n",
       "    }\n",
       "\n",
       "    .dataframe tbody tr th {\n",
       "        vertical-align: top;\n",
       "    }\n",
       "\n",
       "    .dataframe thead th {\n",
       "        text-align: right;\n",
       "    }\n",
       "</style>\n",
       "<table border=\"1\" class=\"dataframe\">\n",
       "  <thead>\n",
       "    <tr style=\"text-align: right;\">\n",
       "      <th></th>\n",
       "      <th>pattes</th>\n",
       "      <th>poil</th>\n",
       "      <th>queue</th>\n",
       "      <th>ventre</th>\n",
       "      <th>sexe</th>\n",
       "    </tr>\n",
       "  </thead>\n",
       "  <tbody>\n",
       "    <tr>\n",
       "      <th>maman</th>\n",
       "      <td>100.0</td>\n",
       "      <td>5.0</td>\n",
       "      <td>20.0</td>\n",
       "      <td>80.0</td>\n",
       "      <td>f</td>\n",
       "    </tr>\n",
       "    <tr>\n",
       "      <th>bebe</th>\n",
       "      <td>50.0</td>\n",
       "      <td>2.5</td>\n",
       "      <td>10.0</td>\n",
       "      <td>40.0</td>\n",
       "      <td>f</td>\n",
       "    </tr>\n",
       "    <tr>\n",
       "      <th>papa</th>\n",
       "      <td>110.0</td>\n",
       "      <td>6.0</td>\n",
       "      <td>22.0</td>\n",
       "      <td>80.0</td>\n",
       "      <td>m</td>\n",
       "    </tr>\n",
       "  </tbody>\n",
       "</table>\n",
       "</div>"
      ],
      "text/plain": [
       "       pattes  poil  queue  ventre sexe\n",
       "maman   100.0   5.0   20.0    80.0    f\n",
       "bebe     50.0   2.5   10.0    40.0    f\n",
       "papa    110.0   6.0   22.0    80.0    m"
      ]
     },
     "execution_count": 82,
     "metadata": {},
     "output_type": "execute_result"
    }
   ],
   "source": [
    "famille_panda_df"
   ]
  },
  {
   "cell_type": "code",
   "execution_count": 83,
   "id": "99e5c9e6-752a-4fb6-9213-c1917af9c583",
   "metadata": {},
   "outputs": [
    {
     "name": "stdout",
     "output_type": "stream",
     "text": [
      "<class 'pandas.core.frame.DataFrame'>\n",
      "Index: 3 entries, maman to papa\n",
      "Data columns (total 5 columns):\n",
      " #   Column  Non-Null Count  Dtype  \n",
      "---  ------  --------------  -----  \n",
      " 0   pattes  3 non-null      float64\n",
      " 1   poil    3 non-null      float64\n",
      " 2   queue   3 non-null      float64\n",
      " 3   ventre  3 non-null      float64\n",
      " 4   sexe    3 non-null      object \n",
      "dtypes: float64(4), object(1)\n",
      "memory usage: 144.0+ bytes\n"
     ]
    }
   ],
   "source": [
    "famille_panda_df.info()"
   ]
  },
  {
   "cell_type": "code",
   "execution_count": 84,
   "id": "7eefc74c-a09d-4148-8805-8316c20db79a",
   "metadata": {},
   "outputs": [
    {
     "data": {
      "text/plain": [
       "array([80., 40.])"
      ]
     },
     "execution_count": 84,
     "metadata": {},
     "output_type": "execute_result"
    }
   ],
   "source": [
    "#valeurs distinctes d'une colonne ventre\n",
    "famille_panda_df['ventre'].unique()"
   ]
  },
  {
   "cell_type": "code",
   "execution_count": 85,
   "id": "8bab437d-c274-4247-833f-27cc2c45e9b2",
   "metadata": {},
   "outputs": [
    {
     "data": {
      "text/plain": [
       "array(['f', 'm'], dtype=object)"
      ]
     },
     "execution_count": 85,
     "metadata": {},
     "output_type": "execute_result"
    }
   ],
   "source": [
    "famille_panda_df['sexe'].unique()"
   ]
  },
  {
   "cell_type": "code",
   "execution_count": 88,
   "id": "100a35f7-553f-4ed8-8e3e-aa918ba75381",
   "metadata": {},
   "outputs": [],
   "source": [
    "#lire un fichier csv avec Pandas (session de travail \"tyoique\" en Data Science)\n",
    "#données sur les survivants de du naufrage Titanic : librairie Seaborn(créer librairies\n",
    "import pandas as pd\n",
    "import seaborn as sns\n",
    "#chargement des données du titanic à partir de la librairie seaborn\n",
    "titanic=sns.load_dataset('titanic')"
   ]
  },
  {
   "cell_type": "code",
   "execution_count": 89,
   "id": "9c7b0a18-1895-4ca2-91df-8a55d5361304",
   "metadata": {},
   "outputs": [
    {
     "data": {
      "text/html": [
       "<div>\n",
       "<style scoped>\n",
       "    .dataframe tbody tr th:only-of-type {\n",
       "        vertical-align: middle;\n",
       "    }\n",
       "\n",
       "    .dataframe tbody tr th {\n",
       "        vertical-align: top;\n",
       "    }\n",
       "\n",
       "    .dataframe thead th {\n",
       "        text-align: right;\n",
       "    }\n",
       "</style>\n",
       "<table border=\"1\" class=\"dataframe\">\n",
       "  <thead>\n",
       "    <tr style=\"text-align: right;\">\n",
       "      <th></th>\n",
       "      <th>survived</th>\n",
       "      <th>pclass</th>\n",
       "      <th>sex</th>\n",
       "      <th>age</th>\n",
       "      <th>sibsp</th>\n",
       "      <th>parch</th>\n",
       "      <th>fare</th>\n",
       "      <th>embarked</th>\n",
       "      <th>class</th>\n",
       "      <th>who</th>\n",
       "      <th>adult_male</th>\n",
       "      <th>deck</th>\n",
       "      <th>embark_town</th>\n",
       "      <th>alive</th>\n",
       "      <th>alone</th>\n",
       "    </tr>\n",
       "  </thead>\n",
       "  <tbody>\n",
       "    <tr>\n",
       "      <th>0</th>\n",
       "      <td>0</td>\n",
       "      <td>3</td>\n",
       "      <td>male</td>\n",
       "      <td>22.0</td>\n",
       "      <td>1</td>\n",
       "      <td>0</td>\n",
       "      <td>7.2500</td>\n",
       "      <td>S</td>\n",
       "      <td>Third</td>\n",
       "      <td>man</td>\n",
       "      <td>True</td>\n",
       "      <td>NaN</td>\n",
       "      <td>Southampton</td>\n",
       "      <td>no</td>\n",
       "      <td>False</td>\n",
       "    </tr>\n",
       "    <tr>\n",
       "      <th>1</th>\n",
       "      <td>1</td>\n",
       "      <td>1</td>\n",
       "      <td>female</td>\n",
       "      <td>38.0</td>\n",
       "      <td>1</td>\n",
       "      <td>0</td>\n",
       "      <td>71.2833</td>\n",
       "      <td>C</td>\n",
       "      <td>First</td>\n",
       "      <td>woman</td>\n",
       "      <td>False</td>\n",
       "      <td>C</td>\n",
       "      <td>Cherbourg</td>\n",
       "      <td>yes</td>\n",
       "      <td>False</td>\n",
       "    </tr>\n",
       "    <tr>\n",
       "      <th>2</th>\n",
       "      <td>1</td>\n",
       "      <td>3</td>\n",
       "      <td>female</td>\n",
       "      <td>26.0</td>\n",
       "      <td>0</td>\n",
       "      <td>0</td>\n",
       "      <td>7.9250</td>\n",
       "      <td>S</td>\n",
       "      <td>Third</td>\n",
       "      <td>woman</td>\n",
       "      <td>False</td>\n",
       "      <td>NaN</td>\n",
       "      <td>Southampton</td>\n",
       "      <td>yes</td>\n",
       "      <td>True</td>\n",
       "    </tr>\n",
       "    <tr>\n",
       "      <th>3</th>\n",
       "      <td>1</td>\n",
       "      <td>1</td>\n",
       "      <td>female</td>\n",
       "      <td>35.0</td>\n",
       "      <td>1</td>\n",
       "      <td>0</td>\n",
       "      <td>53.1000</td>\n",
       "      <td>S</td>\n",
       "      <td>First</td>\n",
       "      <td>woman</td>\n",
       "      <td>False</td>\n",
       "      <td>C</td>\n",
       "      <td>Southampton</td>\n",
       "      <td>yes</td>\n",
       "      <td>False</td>\n",
       "    </tr>\n",
       "    <tr>\n",
       "      <th>4</th>\n",
       "      <td>0</td>\n",
       "      <td>3</td>\n",
       "      <td>male</td>\n",
       "      <td>35.0</td>\n",
       "      <td>0</td>\n",
       "      <td>0</td>\n",
       "      <td>8.0500</td>\n",
       "      <td>S</td>\n",
       "      <td>Third</td>\n",
       "      <td>man</td>\n",
       "      <td>True</td>\n",
       "      <td>NaN</td>\n",
       "      <td>Southampton</td>\n",
       "      <td>no</td>\n",
       "      <td>True</td>\n",
       "    </tr>\n",
       "  </tbody>\n",
       "</table>\n",
       "</div>"
      ],
      "text/plain": [
       "   survived  pclass     sex   age  sibsp  parch     fare embarked  class  \\\n",
       "0         0       3    male  22.0      1      0   7.2500        S  Third   \n",
       "1         1       1  female  38.0      1      0  71.2833        C  First   \n",
       "2         1       3  female  26.0      0      0   7.9250        S  Third   \n",
       "3         1       1  female  35.0      1      0  53.1000        S  First   \n",
       "4         0       3    male  35.0      0      0   8.0500        S  Third   \n",
       "\n",
       "     who  adult_male deck  embark_town alive  alone  \n",
       "0    man        True  NaN  Southampton    no  False  \n",
       "1  woman       False    C    Cherbourg   yes  False  \n",
       "2  woman       False  NaN  Southampton   yes   True  \n",
       "3  woman       False    C  Southampton   yes  False  \n",
       "4    man        True  NaN  Southampton    no   True  "
      ]
     },
     "execution_count": 89,
     "metadata": {},
     "output_type": "execute_result"
    }
   ],
   "source": [
    "#affichage des 5 premières lignes du dataframe\n",
    "titanic.head()"
   ]
  },
  {
   "cell_type": "code",
   "execution_count": 90,
   "id": "6a056895-dfe3-4b70-a9cc-8b5320918b52",
   "metadata": {},
   "outputs": [
    {
     "data": {
      "text/html": [
       "<div>\n",
       "<style scoped>\n",
       "    .dataframe tbody tr th:only-of-type {\n",
       "        vertical-align: middle;\n",
       "    }\n",
       "\n",
       "    .dataframe tbody tr th {\n",
       "        vertical-align: top;\n",
       "    }\n",
       "\n",
       "    .dataframe thead th {\n",
       "        text-align: right;\n",
       "    }\n",
       "</style>\n",
       "<table border=\"1\" class=\"dataframe\">\n",
       "  <thead>\n",
       "    <tr style=\"text-align: right;\">\n",
       "      <th></th>\n",
       "      <th>survived</th>\n",
       "      <th>pclass</th>\n",
       "      <th>sex</th>\n",
       "      <th>age</th>\n",
       "      <th>sibsp</th>\n",
       "      <th>parch</th>\n",
       "      <th>fare</th>\n",
       "      <th>embarked</th>\n",
       "      <th>class</th>\n",
       "      <th>who</th>\n",
       "      <th>adult_male</th>\n",
       "      <th>deck</th>\n",
       "      <th>embark_town</th>\n",
       "      <th>alive</th>\n",
       "      <th>alone</th>\n",
       "    </tr>\n",
       "  </thead>\n",
       "  <tbody>\n",
       "    <tr>\n",
       "      <th>0</th>\n",
       "      <td>0</td>\n",
       "      <td>3</td>\n",
       "      <td>male</td>\n",
       "      <td>22.0</td>\n",
       "      <td>1</td>\n",
       "      <td>0</td>\n",
       "      <td>7.2500</td>\n",
       "      <td>S</td>\n",
       "      <td>Third</td>\n",
       "      <td>man</td>\n",
       "      <td>True</td>\n",
       "      <td>NaN</td>\n",
       "      <td>Southampton</td>\n",
       "      <td>no</td>\n",
       "      <td>False</td>\n",
       "    </tr>\n",
       "    <tr>\n",
       "      <th>1</th>\n",
       "      <td>1</td>\n",
       "      <td>1</td>\n",
       "      <td>female</td>\n",
       "      <td>38.0</td>\n",
       "      <td>1</td>\n",
       "      <td>0</td>\n",
       "      <td>71.2833</td>\n",
       "      <td>C</td>\n",
       "      <td>First</td>\n",
       "      <td>woman</td>\n",
       "      <td>False</td>\n",
       "      <td>C</td>\n",
       "      <td>Cherbourg</td>\n",
       "      <td>yes</td>\n",
       "      <td>False</td>\n",
       "    </tr>\n",
       "    <tr>\n",
       "      <th>2</th>\n",
       "      <td>1</td>\n",
       "      <td>3</td>\n",
       "      <td>female</td>\n",
       "      <td>26.0</td>\n",
       "      <td>0</td>\n",
       "      <td>0</td>\n",
       "      <td>7.9250</td>\n",
       "      <td>S</td>\n",
       "      <td>Third</td>\n",
       "      <td>woman</td>\n",
       "      <td>False</td>\n",
       "      <td>NaN</td>\n",
       "      <td>Southampton</td>\n",
       "      <td>yes</td>\n",
       "      <td>True</td>\n",
       "    </tr>\n",
       "    <tr>\n",
       "      <th>3</th>\n",
       "      <td>1</td>\n",
       "      <td>1</td>\n",
       "      <td>female</td>\n",
       "      <td>35.0</td>\n",
       "      <td>1</td>\n",
       "      <td>0</td>\n",
       "      <td>53.1000</td>\n",
       "      <td>S</td>\n",
       "      <td>First</td>\n",
       "      <td>woman</td>\n",
       "      <td>False</td>\n",
       "      <td>C</td>\n",
       "      <td>Southampton</td>\n",
       "      <td>yes</td>\n",
       "      <td>False</td>\n",
       "    </tr>\n",
       "    <tr>\n",
       "      <th>4</th>\n",
       "      <td>0</td>\n",
       "      <td>3</td>\n",
       "      <td>male</td>\n",
       "      <td>35.0</td>\n",
       "      <td>0</td>\n",
       "      <td>0</td>\n",
       "      <td>8.0500</td>\n",
       "      <td>S</td>\n",
       "      <td>Third</td>\n",
       "      <td>man</td>\n",
       "      <td>True</td>\n",
       "      <td>NaN</td>\n",
       "      <td>Southampton</td>\n",
       "      <td>no</td>\n",
       "      <td>True</td>\n",
       "    </tr>\n",
       "    <tr>\n",
       "      <th>5</th>\n",
       "      <td>0</td>\n",
       "      <td>3</td>\n",
       "      <td>male</td>\n",
       "      <td>NaN</td>\n",
       "      <td>0</td>\n",
       "      <td>0</td>\n",
       "      <td>8.4583</td>\n",
       "      <td>Q</td>\n",
       "      <td>Third</td>\n",
       "      <td>man</td>\n",
       "      <td>True</td>\n",
       "      <td>NaN</td>\n",
       "      <td>Queenstown</td>\n",
       "      <td>no</td>\n",
       "      <td>True</td>\n",
       "    </tr>\n",
       "    <tr>\n",
       "      <th>6</th>\n",
       "      <td>0</td>\n",
       "      <td>1</td>\n",
       "      <td>male</td>\n",
       "      <td>54.0</td>\n",
       "      <td>0</td>\n",
       "      <td>0</td>\n",
       "      <td>51.8625</td>\n",
       "      <td>S</td>\n",
       "      <td>First</td>\n",
       "      <td>man</td>\n",
       "      <td>True</td>\n",
       "      <td>E</td>\n",
       "      <td>Southampton</td>\n",
       "      <td>no</td>\n",
       "      <td>True</td>\n",
       "    </tr>\n",
       "    <tr>\n",
       "      <th>7</th>\n",
       "      <td>0</td>\n",
       "      <td>3</td>\n",
       "      <td>male</td>\n",
       "      <td>2.0</td>\n",
       "      <td>3</td>\n",
       "      <td>1</td>\n",
       "      <td>21.0750</td>\n",
       "      <td>S</td>\n",
       "      <td>Third</td>\n",
       "      <td>child</td>\n",
       "      <td>False</td>\n",
       "      <td>NaN</td>\n",
       "      <td>Southampton</td>\n",
       "      <td>no</td>\n",
       "      <td>False</td>\n",
       "    </tr>\n",
       "    <tr>\n",
       "      <th>8</th>\n",
       "      <td>1</td>\n",
       "      <td>3</td>\n",
       "      <td>female</td>\n",
       "      <td>27.0</td>\n",
       "      <td>0</td>\n",
       "      <td>2</td>\n",
       "      <td>11.1333</td>\n",
       "      <td>S</td>\n",
       "      <td>Third</td>\n",
       "      <td>woman</td>\n",
       "      <td>False</td>\n",
       "      <td>NaN</td>\n",
       "      <td>Southampton</td>\n",
       "      <td>yes</td>\n",
       "      <td>False</td>\n",
       "    </tr>\n",
       "    <tr>\n",
       "      <th>9</th>\n",
       "      <td>1</td>\n",
       "      <td>2</td>\n",
       "      <td>female</td>\n",
       "      <td>14.0</td>\n",
       "      <td>1</td>\n",
       "      <td>0</td>\n",
       "      <td>30.0708</td>\n",
       "      <td>C</td>\n",
       "      <td>Second</td>\n",
       "      <td>child</td>\n",
       "      <td>False</td>\n",
       "      <td>NaN</td>\n",
       "      <td>Cherbourg</td>\n",
       "      <td>yes</td>\n",
       "      <td>False</td>\n",
       "    </tr>\n",
       "  </tbody>\n",
       "</table>\n",
       "</div>"
      ],
      "text/plain": [
       "   survived  pclass     sex   age  sibsp  parch     fare embarked   class  \\\n",
       "0         0       3    male  22.0      1      0   7.2500        S   Third   \n",
       "1         1       1  female  38.0      1      0  71.2833        C   First   \n",
       "2         1       3  female  26.0      0      0   7.9250        S   Third   \n",
       "3         1       1  female  35.0      1      0  53.1000        S   First   \n",
       "4         0       3    male  35.0      0      0   8.0500        S   Third   \n",
       "5         0       3    male   NaN      0      0   8.4583        Q   Third   \n",
       "6         0       1    male  54.0      0      0  51.8625        S   First   \n",
       "7         0       3    male   2.0      3      1  21.0750        S   Third   \n",
       "8         1       3  female  27.0      0      2  11.1333        S   Third   \n",
       "9         1       2  female  14.0      1      0  30.0708        C  Second   \n",
       "\n",
       "     who  adult_male deck  embark_town alive  alone  \n",
       "0    man        True  NaN  Southampton    no  False  \n",
       "1  woman       False    C    Cherbourg   yes  False  \n",
       "2  woman       False  NaN  Southampton   yes   True  \n",
       "3  woman       False    C  Southampton   yes  False  \n",
       "4    man        True  NaN  Southampton    no   True  \n",
       "5    man        True  NaN   Queenstown    no   True  \n",
       "6    man        True    E  Southampton    no   True  \n",
       "7  child       False  NaN  Southampton    no  False  \n",
       "8  woman       False  NaN  Southampton   yes  False  \n",
       "9  child       False  NaN    Cherbourg   yes  False  "
      ]
     },
     "execution_count": 90,
     "metadata": {},
     "output_type": "execute_result"
    }
   ],
   "source": [
    "titanic.head(10)"
   ]
  },
  {
   "cell_type": "code",
   "execution_count": 91,
   "id": "c731c804-fd0e-47a1-8e0b-4454136cb314",
   "metadata": {},
   "outputs": [
    {
     "data": {
      "text/html": [
       "<div>\n",
       "<style scoped>\n",
       "    .dataframe tbody tr th:only-of-type {\n",
       "        vertical-align: middle;\n",
       "    }\n",
       "\n",
       "    .dataframe tbody tr th {\n",
       "        vertical-align: top;\n",
       "    }\n",
       "\n",
       "    .dataframe thead th {\n",
       "        text-align: right;\n",
       "    }\n",
       "</style>\n",
       "<table border=\"1\" class=\"dataframe\">\n",
       "  <thead>\n",
       "    <tr style=\"text-align: right;\">\n",
       "      <th></th>\n",
       "      <th>survived</th>\n",
       "      <th>pclass</th>\n",
       "      <th>sex</th>\n",
       "      <th>age</th>\n",
       "      <th>sibsp</th>\n",
       "      <th>parch</th>\n",
       "      <th>fare</th>\n",
       "      <th>embarked</th>\n",
       "      <th>class</th>\n",
       "      <th>who</th>\n",
       "      <th>adult_male</th>\n",
       "      <th>deck</th>\n",
       "      <th>embark_town</th>\n",
       "      <th>alive</th>\n",
       "      <th>alone</th>\n",
       "    </tr>\n",
       "  </thead>\n",
       "  <tbody>\n",
       "    <tr>\n",
       "      <th>886</th>\n",
       "      <td>0</td>\n",
       "      <td>2</td>\n",
       "      <td>male</td>\n",
       "      <td>27.0</td>\n",
       "      <td>0</td>\n",
       "      <td>0</td>\n",
       "      <td>13.00</td>\n",
       "      <td>S</td>\n",
       "      <td>Second</td>\n",
       "      <td>man</td>\n",
       "      <td>True</td>\n",
       "      <td>NaN</td>\n",
       "      <td>Southampton</td>\n",
       "      <td>no</td>\n",
       "      <td>True</td>\n",
       "    </tr>\n",
       "    <tr>\n",
       "      <th>887</th>\n",
       "      <td>1</td>\n",
       "      <td>1</td>\n",
       "      <td>female</td>\n",
       "      <td>19.0</td>\n",
       "      <td>0</td>\n",
       "      <td>0</td>\n",
       "      <td>30.00</td>\n",
       "      <td>S</td>\n",
       "      <td>First</td>\n",
       "      <td>woman</td>\n",
       "      <td>False</td>\n",
       "      <td>B</td>\n",
       "      <td>Southampton</td>\n",
       "      <td>yes</td>\n",
       "      <td>True</td>\n",
       "    </tr>\n",
       "    <tr>\n",
       "      <th>888</th>\n",
       "      <td>0</td>\n",
       "      <td>3</td>\n",
       "      <td>female</td>\n",
       "      <td>NaN</td>\n",
       "      <td>1</td>\n",
       "      <td>2</td>\n",
       "      <td>23.45</td>\n",
       "      <td>S</td>\n",
       "      <td>Third</td>\n",
       "      <td>woman</td>\n",
       "      <td>False</td>\n",
       "      <td>NaN</td>\n",
       "      <td>Southampton</td>\n",
       "      <td>no</td>\n",
       "      <td>False</td>\n",
       "    </tr>\n",
       "    <tr>\n",
       "      <th>889</th>\n",
       "      <td>1</td>\n",
       "      <td>1</td>\n",
       "      <td>male</td>\n",
       "      <td>26.0</td>\n",
       "      <td>0</td>\n",
       "      <td>0</td>\n",
       "      <td>30.00</td>\n",
       "      <td>C</td>\n",
       "      <td>First</td>\n",
       "      <td>man</td>\n",
       "      <td>True</td>\n",
       "      <td>C</td>\n",
       "      <td>Cherbourg</td>\n",
       "      <td>yes</td>\n",
       "      <td>True</td>\n",
       "    </tr>\n",
       "    <tr>\n",
       "      <th>890</th>\n",
       "      <td>0</td>\n",
       "      <td>3</td>\n",
       "      <td>male</td>\n",
       "      <td>32.0</td>\n",
       "      <td>0</td>\n",
       "      <td>0</td>\n",
       "      <td>7.75</td>\n",
       "      <td>Q</td>\n",
       "      <td>Third</td>\n",
       "      <td>man</td>\n",
       "      <td>True</td>\n",
       "      <td>NaN</td>\n",
       "      <td>Queenstown</td>\n",
       "      <td>no</td>\n",
       "      <td>True</td>\n",
       "    </tr>\n",
       "  </tbody>\n",
       "</table>\n",
       "</div>"
      ],
      "text/plain": [
       "     survived  pclass     sex   age  sibsp  parch   fare embarked   class  \\\n",
       "886         0       2    male  27.0      0      0  13.00        S  Second   \n",
       "887         1       1  female  19.0      0      0  30.00        S   First   \n",
       "888         0       3  female   NaN      1      2  23.45        S   Third   \n",
       "889         1       1    male  26.0      0      0  30.00        C   First   \n",
       "890         0       3    male  32.0      0      0   7.75        Q   Third   \n",
       "\n",
       "       who  adult_male deck  embark_town alive  alone  \n",
       "886    man        True  NaN  Southampton    no   True  \n",
       "887  woman       False    B  Southampton   yes   True  \n",
       "888  woman       False  NaN  Southampton    no  False  \n",
       "889    man        True    C    Cherbourg   yes   True  \n",
       "890    man        True  NaN   Queenstown    no   True  "
      ]
     },
     "execution_count": 91,
     "metadata": {},
     "output_type": "execute_result"
    }
   ],
   "source": [
    "#les 5 dernières lignes\n",
    "titanic.tail()"
   ]
  },
  {
   "cell_type": "code",
   "execution_count": 92,
   "id": "6c0f58d8-6e24-448b-a66b-acfb4f13540e",
   "metadata": {},
   "outputs": [
    {
     "data": {
      "text/html": [
       "<div>\n",
       "<style scoped>\n",
       "    .dataframe tbody tr th:only-of-type {\n",
       "        vertical-align: middle;\n",
       "    }\n",
       "\n",
       "    .dataframe tbody tr th {\n",
       "        vertical-align: top;\n",
       "    }\n",
       "\n",
       "    .dataframe thead th {\n",
       "        text-align: right;\n",
       "    }\n",
       "</style>\n",
       "<table border=\"1\" class=\"dataframe\">\n",
       "  <thead>\n",
       "    <tr style=\"text-align: right;\">\n",
       "      <th></th>\n",
       "      <th>survived</th>\n",
       "      <th>pclass</th>\n",
       "      <th>sex</th>\n",
       "      <th>age</th>\n",
       "      <th>sibsp</th>\n",
       "      <th>parch</th>\n",
       "      <th>fare</th>\n",
       "      <th>embarked</th>\n",
       "      <th>class</th>\n",
       "      <th>who</th>\n",
       "      <th>adult_male</th>\n",
       "      <th>deck</th>\n",
       "      <th>embark_town</th>\n",
       "      <th>alive</th>\n",
       "      <th>alone</th>\n",
       "    </tr>\n",
       "  </thead>\n",
       "  <tbody>\n",
       "    <tr>\n",
       "      <th>19</th>\n",
       "      <td>1</td>\n",
       "      <td>3</td>\n",
       "      <td>female</td>\n",
       "      <td>NaN</td>\n",
       "      <td>0</td>\n",
       "      <td>0</td>\n",
       "      <td>7.2250</td>\n",
       "      <td>C</td>\n",
       "      <td>Third</td>\n",
       "      <td>woman</td>\n",
       "      <td>False</td>\n",
       "      <td>NaN</td>\n",
       "      <td>Cherbourg</td>\n",
       "      <td>yes</td>\n",
       "      <td>True</td>\n",
       "    </tr>\n",
       "    <tr>\n",
       "      <th>878</th>\n",
       "      <td>0</td>\n",
       "      <td>3</td>\n",
       "      <td>male</td>\n",
       "      <td>NaN</td>\n",
       "      <td>0</td>\n",
       "      <td>0</td>\n",
       "      <td>7.8958</td>\n",
       "      <td>S</td>\n",
       "      <td>Third</td>\n",
       "      <td>man</td>\n",
       "      <td>True</td>\n",
       "      <td>NaN</td>\n",
       "      <td>Southampton</td>\n",
       "      <td>no</td>\n",
       "      <td>True</td>\n",
       "    </tr>\n",
       "    <tr>\n",
       "      <th>843</th>\n",
       "      <td>0</td>\n",
       "      <td>3</td>\n",
       "      <td>male</td>\n",
       "      <td>34.5</td>\n",
       "      <td>0</td>\n",
       "      <td>0</td>\n",
       "      <td>6.4375</td>\n",
       "      <td>C</td>\n",
       "      <td>Third</td>\n",
       "      <td>man</td>\n",
       "      <td>True</td>\n",
       "      <td>NaN</td>\n",
       "      <td>Cherbourg</td>\n",
       "      <td>no</td>\n",
       "      <td>True</td>\n",
       "    </tr>\n",
       "    <tr>\n",
       "      <th>142</th>\n",
       "      <td>1</td>\n",
       "      <td>3</td>\n",
       "      <td>female</td>\n",
       "      <td>24.0</td>\n",
       "      <td>1</td>\n",
       "      <td>0</td>\n",
       "      <td>15.8500</td>\n",
       "      <td>S</td>\n",
       "      <td>Third</td>\n",
       "      <td>woman</td>\n",
       "      <td>False</td>\n",
       "      <td>NaN</td>\n",
       "      <td>Southampton</td>\n",
       "      <td>yes</td>\n",
       "      <td>False</td>\n",
       "    </tr>\n",
       "    <tr>\n",
       "      <th>838</th>\n",
       "      <td>1</td>\n",
       "      <td>3</td>\n",
       "      <td>male</td>\n",
       "      <td>32.0</td>\n",
       "      <td>0</td>\n",
       "      <td>0</td>\n",
       "      <td>56.4958</td>\n",
       "      <td>S</td>\n",
       "      <td>Third</td>\n",
       "      <td>man</td>\n",
       "      <td>True</td>\n",
       "      <td>NaN</td>\n",
       "      <td>Southampton</td>\n",
       "      <td>yes</td>\n",
       "      <td>True</td>\n",
       "    </tr>\n",
       "  </tbody>\n",
       "</table>\n",
       "</div>"
      ],
      "text/plain": [
       "     survived  pclass     sex   age  sibsp  parch     fare embarked  class  \\\n",
       "19          1       3  female   NaN      0      0   7.2250        C  Third   \n",
       "878         0       3    male   NaN      0      0   7.8958        S  Third   \n",
       "843         0       3    male  34.5      0      0   6.4375        C  Third   \n",
       "142         1       3  female  24.0      1      0  15.8500        S  Third   \n",
       "838         1       3    male  32.0      0      0  56.4958        S  Third   \n",
       "\n",
       "       who  adult_male deck  embark_town alive  alone  \n",
       "19   woman       False  NaN    Cherbourg   yes   True  \n",
       "878    man        True  NaN  Southampton    no   True  \n",
       "843    man        True  NaN    Cherbourg    no   True  \n",
       "142  woman       False  NaN  Southampton   yes  False  \n",
       "838    man        True  NaN  Southampton   yes   True  "
      ]
     },
     "execution_count": 92,
     "metadata": {},
     "output_type": "execute_result"
    }
   ],
   "source": [
    "#échantillon aléatoire de la dataframe\n",
    "titanic.sample(5)"
   ]
  },
  {
   "cell_type": "code",
   "execution_count": 93,
   "id": "3fe2754f-65f3-475d-b491-393d1084cc9e",
   "metadata": {},
   "outputs": [
    {
     "data": {
      "text/plain": [
       "array(['Southampton', 'Cherbourg', 'Queenstown', nan], dtype=object)"
      ]
     },
     "execution_count": 93,
     "metadata": {},
     "output_type": "execute_result"
    }
   ],
   "source": [
    "#modalités distinctes d'une variable\n",
    "titanic['embark_town'].unique()"
   ]
  },
  {
   "cell_type": "code",
   "execution_count": 94,
   "id": "9ba72453-2172-4f28-9f99-50590b034203",
   "metadata": {},
   "outputs": [
    {
     "data": {
      "text/html": [
       "<div>\n",
       "<style scoped>\n",
       "    .dataframe tbody tr th:only-of-type {\n",
       "        vertical-align: middle;\n",
       "    }\n",
       "\n",
       "    .dataframe tbody tr th {\n",
       "        vertical-align: top;\n",
       "    }\n",
       "\n",
       "    .dataframe thead th {\n",
       "        text-align: right;\n",
       "    }\n",
       "</style>\n",
       "<table border=\"1\" class=\"dataframe\">\n",
       "  <thead>\n",
       "    <tr style=\"text-align: right;\">\n",
       "      <th></th>\n",
       "      <th>survived</th>\n",
       "      <th>pclass</th>\n",
       "      <th>age</th>\n",
       "      <th>sibsp</th>\n",
       "      <th>parch</th>\n",
       "      <th>fare</th>\n",
       "    </tr>\n",
       "  </thead>\n",
       "  <tbody>\n",
       "    <tr>\n",
       "      <th>count</th>\n",
       "      <td>891.000000</td>\n",
       "      <td>891.000000</td>\n",
       "      <td>714.000000</td>\n",
       "      <td>891.000000</td>\n",
       "      <td>891.000000</td>\n",
       "      <td>891.000000</td>\n",
       "    </tr>\n",
       "    <tr>\n",
       "      <th>mean</th>\n",
       "      <td>0.383838</td>\n",
       "      <td>2.308642</td>\n",
       "      <td>29.699118</td>\n",
       "      <td>0.523008</td>\n",
       "      <td>0.381594</td>\n",
       "      <td>32.204208</td>\n",
       "    </tr>\n",
       "    <tr>\n",
       "      <th>std</th>\n",
       "      <td>0.486592</td>\n",
       "      <td>0.836071</td>\n",
       "      <td>14.526497</td>\n",
       "      <td>1.102743</td>\n",
       "      <td>0.806057</td>\n",
       "      <td>49.693429</td>\n",
       "    </tr>\n",
       "    <tr>\n",
       "      <th>min</th>\n",
       "      <td>0.000000</td>\n",
       "      <td>1.000000</td>\n",
       "      <td>0.420000</td>\n",
       "      <td>0.000000</td>\n",
       "      <td>0.000000</td>\n",
       "      <td>0.000000</td>\n",
       "    </tr>\n",
       "    <tr>\n",
       "      <th>25%</th>\n",
       "      <td>0.000000</td>\n",
       "      <td>2.000000</td>\n",
       "      <td>20.125000</td>\n",
       "      <td>0.000000</td>\n",
       "      <td>0.000000</td>\n",
       "      <td>7.910400</td>\n",
       "    </tr>\n",
       "    <tr>\n",
       "      <th>50%</th>\n",
       "      <td>0.000000</td>\n",
       "      <td>3.000000</td>\n",
       "      <td>28.000000</td>\n",
       "      <td>0.000000</td>\n",
       "      <td>0.000000</td>\n",
       "      <td>14.454200</td>\n",
       "    </tr>\n",
       "    <tr>\n",
       "      <th>75%</th>\n",
       "      <td>1.000000</td>\n",
       "      <td>3.000000</td>\n",
       "      <td>38.000000</td>\n",
       "      <td>1.000000</td>\n",
       "      <td>0.000000</td>\n",
       "      <td>31.000000</td>\n",
       "    </tr>\n",
       "    <tr>\n",
       "      <th>max</th>\n",
       "      <td>1.000000</td>\n",
       "      <td>3.000000</td>\n",
       "      <td>80.000000</td>\n",
       "      <td>8.000000</td>\n",
       "      <td>6.000000</td>\n",
       "      <td>512.329200</td>\n",
       "    </tr>\n",
       "  </tbody>\n",
       "</table>\n",
       "</div>"
      ],
      "text/plain": [
       "         survived      pclass         age       sibsp       parch        fare\n",
       "count  891.000000  891.000000  714.000000  891.000000  891.000000  891.000000\n",
       "mean     0.383838    2.308642   29.699118    0.523008    0.381594   32.204208\n",
       "std      0.486592    0.836071   14.526497    1.102743    0.806057   49.693429\n",
       "min      0.000000    1.000000    0.420000    0.000000    0.000000    0.000000\n",
       "25%      0.000000    2.000000   20.125000    0.000000    0.000000    7.910400\n",
       "50%      0.000000    3.000000   28.000000    0.000000    0.000000   14.454200\n",
       "75%      1.000000    3.000000   38.000000    1.000000    0.000000   31.000000\n",
       "max      1.000000    3.000000   80.000000    8.000000    6.000000  512.329200"
      ]
     },
     "execution_count": 94,
     "metadata": {},
     "output_type": "execute_result"
    }
   ],
   "source": [
    "#statistiques\n",
    "titanic.describe()"
   ]
  },
  {
   "cell_type": "code",
   "execution_count": 96,
   "id": "00027fb0-a4b9-4cc7-9304-1e5664e3213f",
   "metadata": {},
   "outputs": [
    {
     "data": {
      "text/plain": [
       "survived         0\n",
       "pclass           0\n",
       "sex              0\n",
       "age            177\n",
       "sibsp            0\n",
       "parch            0\n",
       "fare             0\n",
       "embarked         2\n",
       "class            0\n",
       "who              0\n",
       "adult_male       0\n",
       "deck           688\n",
       "embark_town      2\n",
       "alive            0\n",
       "alone            0\n",
       "dtype: int64"
      ]
     },
     "execution_count": 96,
     "metadata": {},
     "output_type": "execute_result"
    }
   ],
   "source": [
    "#determination des colonnes avec valeurs manquantes\n",
    "titanic.isna().sum()"
   ]
  },
  {
   "cell_type": "code",
   "execution_count": 97,
   "id": "bc52e3a7-594f-4915-8c6d-84bd01960907",
   "metadata": {},
   "outputs": [],
   "source": [
    "#remplacement colonnes manquantes dans colonne âge\n",
    "titanic_age=titanic.fillna(value={'age':0})"
   ]
  },
  {
   "cell_type": "code",
   "execution_count": 98,
   "id": "2e41da64-5c24-4cbd-9c10-31a4b5223639",
   "metadata": {},
   "outputs": [
    {
     "data": {
      "text/plain": [
       "survived         0\n",
       "pclass           0\n",
       "sex              0\n",
       "age            177\n",
       "sibsp            0\n",
       "parch            0\n",
       "fare             0\n",
       "embarked         2\n",
       "class            0\n",
       "who              0\n",
       "adult_male       0\n",
       "deck           688\n",
       "embark_town      2\n",
       "alive            0\n",
       "alone            0\n",
       "dtype: int64"
      ]
     },
     "execution_count": 98,
     "metadata": {},
     "output_type": "execute_result"
    }
   ],
   "source": [
    "titanic.isna().sum()"
   ]
  },
  {
   "cell_type": "code",
   "execution_count": 99,
   "id": "cec3d003-5b0b-41ca-8cb9-d03948078b77",
   "metadata": {},
   "outputs": [
    {
     "data": {
      "text/plain": [
       "survived         0\n",
       "pclass           0\n",
       "sex              0\n",
       "age              0\n",
       "sibsp            0\n",
       "parch            0\n",
       "fare             0\n",
       "embarked         2\n",
       "class            0\n",
       "who              0\n",
       "adult_male       0\n",
       "deck           688\n",
       "embark_town      2\n",
       "alive            0\n",
       "alone            0\n",
       "dtype: int64"
      ]
     },
     "execution_count": 99,
     "metadata": {},
     "output_type": "execute_result"
    }
   ],
   "source": [
    "titanic_age.isna().sum()"
   ]
  },
  {
   "cell_type": "code",
   "execution_count": 100,
   "id": "b0f30afa-ea84-48f3-b661-63f44678677d",
   "metadata": {},
   "outputs": [],
   "source": [
    "#remplacement par moyenne\n",
    "titanic_age2=titanic.fillna(value={'age':titanic['age'].mean()})"
   ]
  },
  {
   "cell_type": "code",
   "execution_count": 101,
   "id": "6d4d5a7d-2acf-4370-b273-5a876b709126",
   "metadata": {},
   "outputs": [
    {
     "data": {
      "text/plain": [
       "survived         0\n",
       "pclass           0\n",
       "sex              0\n",
       "age              0\n",
       "sibsp            0\n",
       "parch            0\n",
       "fare             0\n",
       "embarked         2\n",
       "class            0\n",
       "who              0\n",
       "adult_male       0\n",
       "deck           688\n",
       "embark_town      2\n",
       "alive            0\n",
       "alone            0\n",
       "dtype: int64"
      ]
     },
     "execution_count": 101,
     "metadata": {},
     "output_type": "execute_result"
    }
   ],
   "source": [
    "titanic_age2.isna().sum()"
   ]
  },
  {
   "cell_type": "code",
   "execution_count": 102,
   "id": "36c6e0bc-99eb-4f36-b96b-858283b76435",
   "metadata": {},
   "outputs": [],
   "source": [
    "#suppression lignes avec valeurs manquantes\n",
    "titanic_sans_na=titanic.dropna()"
   ]
  },
  {
   "cell_type": "code",
   "execution_count": 104,
   "id": "24285f70-7c40-466c-b184-1a2a12885308",
   "metadata": {},
   "outputs": [
    {
     "data": {
      "text/plain": [
       "survived       0\n",
       "pclass         0\n",
       "sex            0\n",
       "age            0\n",
       "sibsp          0\n",
       "parch          0\n",
       "fare           0\n",
       "embarked       0\n",
       "class          0\n",
       "who            0\n",
       "adult_male     0\n",
       "deck           0\n",
       "embark_town    0\n",
       "alive          0\n",
       "alone          0\n",
       "dtype: int64"
      ]
     },
     "execution_count": 104,
     "metadata": {},
     "output_type": "execute_result"
    }
   ],
   "source": [
    "titanic_sans_na.isna().sum()"
   ]
  },
  {
   "cell_type": "code",
   "execution_count": 107,
   "id": "37ac9028-94b4-47b0-9186-fc2e5aa26a26",
   "metadata": {},
   "outputs": [
    {
     "data": {
      "text/plain": [
       "(182, 15)"
      ]
     },
     "execution_count": 107,
     "metadata": {},
     "output_type": "execute_result"
    }
   ],
   "source": [
    "#pplication méthode shape pour savoir le nombre de lignes et colonnes qui restent\n",
    "titanic_sans_na.shape\n"
   ]
  },
  {
   "cell_type": "code",
   "execution_count": 108,
   "id": "37725056-77d0-4359-8e00-208931d6be47",
   "metadata": {},
   "outputs": [],
   "source": [
    "#suppression colonnes manquantes\n",
    "titanic_colonnes_sans_na=titanic.drop(['age','embarked','deck','embark_town'],\n",
    "                                     axis=1)"
   ]
  },
  {
   "cell_type": "code",
   "execution_count": 109,
   "id": "f9db8139-3d13-4f84-ada4-b7431b63503a",
   "metadata": {},
   "outputs": [
    {
     "data": {
      "text/html": [
       "<div>\n",
       "<style scoped>\n",
       "    .dataframe tbody tr th:only-of-type {\n",
       "        vertical-align: middle;\n",
       "    }\n",
       "\n",
       "    .dataframe tbody tr th {\n",
       "        vertical-align: top;\n",
       "    }\n",
       "\n",
       "    .dataframe thead th {\n",
       "        text-align: right;\n",
       "    }\n",
       "</style>\n",
       "<table border=\"1\" class=\"dataframe\">\n",
       "  <thead>\n",
       "    <tr style=\"text-align: right;\">\n",
       "      <th></th>\n",
       "      <th>survived</th>\n",
       "      <th>pclass</th>\n",
       "      <th>sex</th>\n",
       "      <th>sibsp</th>\n",
       "      <th>parch</th>\n",
       "      <th>fare</th>\n",
       "      <th>class</th>\n",
       "      <th>who</th>\n",
       "      <th>adult_male</th>\n",
       "      <th>alive</th>\n",
       "      <th>alone</th>\n",
       "    </tr>\n",
       "  </thead>\n",
       "  <tbody>\n",
       "    <tr>\n",
       "      <th>0</th>\n",
       "      <td>0</td>\n",
       "      <td>3</td>\n",
       "      <td>male</td>\n",
       "      <td>1</td>\n",
       "      <td>0</td>\n",
       "      <td>7.2500</td>\n",
       "      <td>Third</td>\n",
       "      <td>man</td>\n",
       "      <td>True</td>\n",
       "      <td>no</td>\n",
       "      <td>False</td>\n",
       "    </tr>\n",
       "    <tr>\n",
       "      <th>1</th>\n",
       "      <td>1</td>\n",
       "      <td>1</td>\n",
       "      <td>female</td>\n",
       "      <td>1</td>\n",
       "      <td>0</td>\n",
       "      <td>71.2833</td>\n",
       "      <td>First</td>\n",
       "      <td>woman</td>\n",
       "      <td>False</td>\n",
       "      <td>yes</td>\n",
       "      <td>False</td>\n",
       "    </tr>\n",
       "    <tr>\n",
       "      <th>2</th>\n",
       "      <td>1</td>\n",
       "      <td>3</td>\n",
       "      <td>female</td>\n",
       "      <td>0</td>\n",
       "      <td>0</td>\n",
       "      <td>7.9250</td>\n",
       "      <td>Third</td>\n",
       "      <td>woman</td>\n",
       "      <td>False</td>\n",
       "      <td>yes</td>\n",
       "      <td>True</td>\n",
       "    </tr>\n",
       "    <tr>\n",
       "      <th>3</th>\n",
       "      <td>1</td>\n",
       "      <td>1</td>\n",
       "      <td>female</td>\n",
       "      <td>1</td>\n",
       "      <td>0</td>\n",
       "      <td>53.1000</td>\n",
       "      <td>First</td>\n",
       "      <td>woman</td>\n",
       "      <td>False</td>\n",
       "      <td>yes</td>\n",
       "      <td>False</td>\n",
       "    </tr>\n",
       "    <tr>\n",
       "      <th>4</th>\n",
       "      <td>0</td>\n",
       "      <td>3</td>\n",
       "      <td>male</td>\n",
       "      <td>0</td>\n",
       "      <td>0</td>\n",
       "      <td>8.0500</td>\n",
       "      <td>Third</td>\n",
       "      <td>man</td>\n",
       "      <td>True</td>\n",
       "      <td>no</td>\n",
       "      <td>True</td>\n",
       "    </tr>\n",
       "    <tr>\n",
       "      <th>...</th>\n",
       "      <td>...</td>\n",
       "      <td>...</td>\n",
       "      <td>...</td>\n",
       "      <td>...</td>\n",
       "      <td>...</td>\n",
       "      <td>...</td>\n",
       "      <td>...</td>\n",
       "      <td>...</td>\n",
       "      <td>...</td>\n",
       "      <td>...</td>\n",
       "      <td>...</td>\n",
       "    </tr>\n",
       "    <tr>\n",
       "      <th>886</th>\n",
       "      <td>0</td>\n",
       "      <td>2</td>\n",
       "      <td>male</td>\n",
       "      <td>0</td>\n",
       "      <td>0</td>\n",
       "      <td>13.0000</td>\n",
       "      <td>Second</td>\n",
       "      <td>man</td>\n",
       "      <td>True</td>\n",
       "      <td>no</td>\n",
       "      <td>True</td>\n",
       "    </tr>\n",
       "    <tr>\n",
       "      <th>887</th>\n",
       "      <td>1</td>\n",
       "      <td>1</td>\n",
       "      <td>female</td>\n",
       "      <td>0</td>\n",
       "      <td>0</td>\n",
       "      <td>30.0000</td>\n",
       "      <td>First</td>\n",
       "      <td>woman</td>\n",
       "      <td>False</td>\n",
       "      <td>yes</td>\n",
       "      <td>True</td>\n",
       "    </tr>\n",
       "    <tr>\n",
       "      <th>888</th>\n",
       "      <td>0</td>\n",
       "      <td>3</td>\n",
       "      <td>female</td>\n",
       "      <td>1</td>\n",
       "      <td>2</td>\n",
       "      <td>23.4500</td>\n",
       "      <td>Third</td>\n",
       "      <td>woman</td>\n",
       "      <td>False</td>\n",
       "      <td>no</td>\n",
       "      <td>False</td>\n",
       "    </tr>\n",
       "    <tr>\n",
       "      <th>889</th>\n",
       "      <td>1</td>\n",
       "      <td>1</td>\n",
       "      <td>male</td>\n",
       "      <td>0</td>\n",
       "      <td>0</td>\n",
       "      <td>30.0000</td>\n",
       "      <td>First</td>\n",
       "      <td>man</td>\n",
       "      <td>True</td>\n",
       "      <td>yes</td>\n",
       "      <td>True</td>\n",
       "    </tr>\n",
       "    <tr>\n",
       "      <th>890</th>\n",
       "      <td>0</td>\n",
       "      <td>3</td>\n",
       "      <td>male</td>\n",
       "      <td>0</td>\n",
       "      <td>0</td>\n",
       "      <td>7.7500</td>\n",
       "      <td>Third</td>\n",
       "      <td>man</td>\n",
       "      <td>True</td>\n",
       "      <td>no</td>\n",
       "      <td>True</td>\n",
       "    </tr>\n",
       "  </tbody>\n",
       "</table>\n",
       "<p>891 rows × 11 columns</p>\n",
       "</div>"
      ],
      "text/plain": [
       "     survived  pclass     sex  sibsp  parch     fare   class    who  \\\n",
       "0           0       3    male      1      0   7.2500   Third    man   \n",
       "1           1       1  female      1      0  71.2833   First  woman   \n",
       "2           1       3  female      0      0   7.9250   Third  woman   \n",
       "3           1       1  female      1      0  53.1000   First  woman   \n",
       "4           0       3    male      0      0   8.0500   Third    man   \n",
       "..        ...     ...     ...    ...    ...      ...     ...    ...   \n",
       "886         0       2    male      0      0  13.0000  Second    man   \n",
       "887         1       1  female      0      0  30.0000   First  woman   \n",
       "888         0       3  female      1      2  23.4500   Third  woman   \n",
       "889         1       1    male      0      0  30.0000   First    man   \n",
       "890         0       3    male      0      0   7.7500   Third    man   \n",
       "\n",
       "     adult_male alive  alone  \n",
       "0          True    no  False  \n",
       "1         False   yes  False  \n",
       "2         False   yes   True  \n",
       "3         False   yes  False  \n",
       "4          True    no   True  \n",
       "..          ...   ...    ...  \n",
       "886        True    no   True  \n",
       "887       False   yes   True  \n",
       "888       False    no  False  \n",
       "889        True   yes   True  \n",
       "890        True    no   True  \n",
       "\n",
       "[891 rows x 11 columns]"
      ]
     },
     "execution_count": 109,
     "metadata": {},
     "output_type": "execute_result"
    }
   ],
   "source": [
    "titanic_colonnes_sans_na"
   ]
  },
  {
   "cell_type": "code",
   "execution_count": 110,
   "id": "6ea35ed2-08f9-4138-8ce3-967d201d4ab2",
   "metadata": {},
   "outputs": [],
   "source": [
    "titanic_colonnes_sans_na2=titanic.dropna(axis=1)"
   ]
  },
  {
   "cell_type": "code",
   "execution_count": 111,
   "id": "48a36ea2-0ca8-4c2a-a35d-b06d30a28be9",
   "metadata": {},
   "outputs": [
    {
     "data": {
      "text/html": [
       "<div>\n",
       "<style scoped>\n",
       "    .dataframe tbody tr th:only-of-type {\n",
       "        vertical-align: middle;\n",
       "    }\n",
       "\n",
       "    .dataframe tbody tr th {\n",
       "        vertical-align: top;\n",
       "    }\n",
       "\n",
       "    .dataframe thead th {\n",
       "        text-align: right;\n",
       "    }\n",
       "</style>\n",
       "<table border=\"1\" class=\"dataframe\">\n",
       "  <thead>\n",
       "    <tr style=\"text-align: right;\">\n",
       "      <th></th>\n",
       "      <th>survived</th>\n",
       "      <th>pclass</th>\n",
       "      <th>sex</th>\n",
       "      <th>sibsp</th>\n",
       "      <th>parch</th>\n",
       "      <th>fare</th>\n",
       "      <th>class</th>\n",
       "      <th>who</th>\n",
       "      <th>adult_male</th>\n",
       "      <th>alive</th>\n",
       "      <th>alone</th>\n",
       "    </tr>\n",
       "  </thead>\n",
       "  <tbody>\n",
       "    <tr>\n",
       "      <th>0</th>\n",
       "      <td>0</td>\n",
       "      <td>3</td>\n",
       "      <td>male</td>\n",
       "      <td>1</td>\n",
       "      <td>0</td>\n",
       "      <td>7.2500</td>\n",
       "      <td>Third</td>\n",
       "      <td>man</td>\n",
       "      <td>True</td>\n",
       "      <td>no</td>\n",
       "      <td>False</td>\n",
       "    </tr>\n",
       "    <tr>\n",
       "      <th>1</th>\n",
       "      <td>1</td>\n",
       "      <td>1</td>\n",
       "      <td>female</td>\n",
       "      <td>1</td>\n",
       "      <td>0</td>\n",
       "      <td>71.2833</td>\n",
       "      <td>First</td>\n",
       "      <td>woman</td>\n",
       "      <td>False</td>\n",
       "      <td>yes</td>\n",
       "      <td>False</td>\n",
       "    </tr>\n",
       "    <tr>\n",
       "      <th>2</th>\n",
       "      <td>1</td>\n",
       "      <td>3</td>\n",
       "      <td>female</td>\n",
       "      <td>0</td>\n",
       "      <td>0</td>\n",
       "      <td>7.9250</td>\n",
       "      <td>Third</td>\n",
       "      <td>woman</td>\n",
       "      <td>False</td>\n",
       "      <td>yes</td>\n",
       "      <td>True</td>\n",
       "    </tr>\n",
       "    <tr>\n",
       "      <th>3</th>\n",
       "      <td>1</td>\n",
       "      <td>1</td>\n",
       "      <td>female</td>\n",
       "      <td>1</td>\n",
       "      <td>0</td>\n",
       "      <td>53.1000</td>\n",
       "      <td>First</td>\n",
       "      <td>woman</td>\n",
       "      <td>False</td>\n",
       "      <td>yes</td>\n",
       "      <td>False</td>\n",
       "    </tr>\n",
       "    <tr>\n",
       "      <th>4</th>\n",
       "      <td>0</td>\n",
       "      <td>3</td>\n",
       "      <td>male</td>\n",
       "      <td>0</td>\n",
       "      <td>0</td>\n",
       "      <td>8.0500</td>\n",
       "      <td>Third</td>\n",
       "      <td>man</td>\n",
       "      <td>True</td>\n",
       "      <td>no</td>\n",
       "      <td>True</td>\n",
       "    </tr>\n",
       "    <tr>\n",
       "      <th>...</th>\n",
       "      <td>...</td>\n",
       "      <td>...</td>\n",
       "      <td>...</td>\n",
       "      <td>...</td>\n",
       "      <td>...</td>\n",
       "      <td>...</td>\n",
       "      <td>...</td>\n",
       "      <td>...</td>\n",
       "      <td>...</td>\n",
       "      <td>...</td>\n",
       "      <td>...</td>\n",
       "    </tr>\n",
       "    <tr>\n",
       "      <th>886</th>\n",
       "      <td>0</td>\n",
       "      <td>2</td>\n",
       "      <td>male</td>\n",
       "      <td>0</td>\n",
       "      <td>0</td>\n",
       "      <td>13.0000</td>\n",
       "      <td>Second</td>\n",
       "      <td>man</td>\n",
       "      <td>True</td>\n",
       "      <td>no</td>\n",
       "      <td>True</td>\n",
       "    </tr>\n",
       "    <tr>\n",
       "      <th>887</th>\n",
       "      <td>1</td>\n",
       "      <td>1</td>\n",
       "      <td>female</td>\n",
       "      <td>0</td>\n",
       "      <td>0</td>\n",
       "      <td>30.0000</td>\n",
       "      <td>First</td>\n",
       "      <td>woman</td>\n",
       "      <td>False</td>\n",
       "      <td>yes</td>\n",
       "      <td>True</td>\n",
       "    </tr>\n",
       "    <tr>\n",
       "      <th>888</th>\n",
       "      <td>0</td>\n",
       "      <td>3</td>\n",
       "      <td>female</td>\n",
       "      <td>1</td>\n",
       "      <td>2</td>\n",
       "      <td>23.4500</td>\n",
       "      <td>Third</td>\n",
       "      <td>woman</td>\n",
       "      <td>False</td>\n",
       "      <td>no</td>\n",
       "      <td>False</td>\n",
       "    </tr>\n",
       "    <tr>\n",
       "      <th>889</th>\n",
       "      <td>1</td>\n",
       "      <td>1</td>\n",
       "      <td>male</td>\n",
       "      <td>0</td>\n",
       "      <td>0</td>\n",
       "      <td>30.0000</td>\n",
       "      <td>First</td>\n",
       "      <td>man</td>\n",
       "      <td>True</td>\n",
       "      <td>yes</td>\n",
       "      <td>True</td>\n",
       "    </tr>\n",
       "    <tr>\n",
       "      <th>890</th>\n",
       "      <td>0</td>\n",
       "      <td>3</td>\n",
       "      <td>male</td>\n",
       "      <td>0</td>\n",
       "      <td>0</td>\n",
       "      <td>7.7500</td>\n",
       "      <td>Third</td>\n",
       "      <td>man</td>\n",
       "      <td>True</td>\n",
       "      <td>no</td>\n",
       "      <td>True</td>\n",
       "    </tr>\n",
       "  </tbody>\n",
       "</table>\n",
       "<p>891 rows × 11 columns</p>\n",
       "</div>"
      ],
      "text/plain": [
       "     survived  pclass     sex  sibsp  parch     fare   class    who  \\\n",
       "0           0       3    male      1      0   7.2500   Third    man   \n",
       "1           1       1  female      1      0  71.2833   First  woman   \n",
       "2           1       3  female      0      0   7.9250   Third  woman   \n",
       "3           1       1  female      1      0  53.1000   First  woman   \n",
       "4           0       3    male      0      0   8.0500   Third    man   \n",
       "..        ...     ...     ...    ...    ...      ...     ...    ...   \n",
       "886         0       2    male      0      0  13.0000  Second    man   \n",
       "887         1       1  female      0      0  30.0000   First  woman   \n",
       "888         0       3  female      1      2  23.4500   Third  woman   \n",
       "889         1       1    male      0      0  30.0000   First    man   \n",
       "890         0       3    male      0      0   7.7500   Third    man   \n",
       "\n",
       "     adult_male alive  alone  \n",
       "0          True    no  False  \n",
       "1         False   yes  False  \n",
       "2         False   yes   True  \n",
       "3         False   yes  False  \n",
       "4          True    no   True  \n",
       "..          ...   ...    ...  \n",
       "886        True    no   True  \n",
       "887       False   yes   True  \n",
       "888       False    no  False  \n",
       "889        True   yes   True  \n",
       "890        True    no   True  \n",
       "\n",
       "[891 rows x 11 columns]"
      ]
     },
     "execution_count": 111,
     "metadata": {},
     "output_type": "execute_result"
    }
   ],
   "source": [
    "titanic_colonnes_sans_na2"
   ]
  },
  {
   "cell_type": "code",
   "execution_count": 114,
   "id": "8baa3920-c084-4342-a434-7009efac2ab9",
   "metadata": {},
   "outputs": [],
   "source": [
    "#renommer colonne\n",
    "titanic.rename(columns={'sex':'sexe'},inplace=True)"
   ]
  },
  {
   "cell_type": "code",
   "execution_count": 115,
   "id": "efcf830f-d56f-4bae-87a2-5c60bc5489c4",
   "metadata": {},
   "outputs": [
    {
     "data": {
      "text/html": [
       "<div>\n",
       "<style scoped>\n",
       "    .dataframe tbody tr th:only-of-type {\n",
       "        vertical-align: middle;\n",
       "    }\n",
       "\n",
       "    .dataframe tbody tr th {\n",
       "        vertical-align: top;\n",
       "    }\n",
       "\n",
       "    .dataframe thead th {\n",
       "        text-align: right;\n",
       "    }\n",
       "</style>\n",
       "<table border=\"1\" class=\"dataframe\">\n",
       "  <thead>\n",
       "    <tr style=\"text-align: right;\">\n",
       "      <th></th>\n",
       "      <th>survived</th>\n",
       "      <th>pclass</th>\n",
       "      <th>sexe</th>\n",
       "      <th>age</th>\n",
       "      <th>sibsp</th>\n",
       "      <th>parch</th>\n",
       "      <th>fare</th>\n",
       "      <th>embarked</th>\n",
       "      <th>class</th>\n",
       "      <th>who</th>\n",
       "      <th>adult_male</th>\n",
       "      <th>deck</th>\n",
       "      <th>embark_town</th>\n",
       "      <th>alive</th>\n",
       "      <th>alone</th>\n",
       "    </tr>\n",
       "  </thead>\n",
       "  <tbody>\n",
       "    <tr>\n",
       "      <th>0</th>\n",
       "      <td>0</td>\n",
       "      <td>3</td>\n",
       "      <td>male</td>\n",
       "      <td>22.0</td>\n",
       "      <td>1</td>\n",
       "      <td>0</td>\n",
       "      <td>7.2500</td>\n",
       "      <td>S</td>\n",
       "      <td>Third</td>\n",
       "      <td>man</td>\n",
       "      <td>True</td>\n",
       "      <td>NaN</td>\n",
       "      <td>Southampton</td>\n",
       "      <td>no</td>\n",
       "      <td>False</td>\n",
       "    </tr>\n",
       "    <tr>\n",
       "      <th>1</th>\n",
       "      <td>1</td>\n",
       "      <td>1</td>\n",
       "      <td>female</td>\n",
       "      <td>38.0</td>\n",
       "      <td>1</td>\n",
       "      <td>0</td>\n",
       "      <td>71.2833</td>\n",
       "      <td>C</td>\n",
       "      <td>First</td>\n",
       "      <td>woman</td>\n",
       "      <td>False</td>\n",
       "      <td>C</td>\n",
       "      <td>Cherbourg</td>\n",
       "      <td>yes</td>\n",
       "      <td>False</td>\n",
       "    </tr>\n",
       "    <tr>\n",
       "      <th>2</th>\n",
       "      <td>1</td>\n",
       "      <td>3</td>\n",
       "      <td>female</td>\n",
       "      <td>26.0</td>\n",
       "      <td>0</td>\n",
       "      <td>0</td>\n",
       "      <td>7.9250</td>\n",
       "      <td>S</td>\n",
       "      <td>Third</td>\n",
       "      <td>woman</td>\n",
       "      <td>False</td>\n",
       "      <td>NaN</td>\n",
       "      <td>Southampton</td>\n",
       "      <td>yes</td>\n",
       "      <td>True</td>\n",
       "    </tr>\n",
       "    <tr>\n",
       "      <th>3</th>\n",
       "      <td>1</td>\n",
       "      <td>1</td>\n",
       "      <td>female</td>\n",
       "      <td>35.0</td>\n",
       "      <td>1</td>\n",
       "      <td>0</td>\n",
       "      <td>53.1000</td>\n",
       "      <td>S</td>\n",
       "      <td>First</td>\n",
       "      <td>woman</td>\n",
       "      <td>False</td>\n",
       "      <td>C</td>\n",
       "      <td>Southampton</td>\n",
       "      <td>yes</td>\n",
       "      <td>False</td>\n",
       "    </tr>\n",
       "    <tr>\n",
       "      <th>4</th>\n",
       "      <td>0</td>\n",
       "      <td>3</td>\n",
       "      <td>male</td>\n",
       "      <td>35.0</td>\n",
       "      <td>0</td>\n",
       "      <td>0</td>\n",
       "      <td>8.0500</td>\n",
       "      <td>S</td>\n",
       "      <td>Third</td>\n",
       "      <td>man</td>\n",
       "      <td>True</td>\n",
       "      <td>NaN</td>\n",
       "      <td>Southampton</td>\n",
       "      <td>no</td>\n",
       "      <td>True</td>\n",
       "    </tr>\n",
       "    <tr>\n",
       "      <th>...</th>\n",
       "      <td>...</td>\n",
       "      <td>...</td>\n",
       "      <td>...</td>\n",
       "      <td>...</td>\n",
       "      <td>...</td>\n",
       "      <td>...</td>\n",
       "      <td>...</td>\n",
       "      <td>...</td>\n",
       "      <td>...</td>\n",
       "      <td>...</td>\n",
       "      <td>...</td>\n",
       "      <td>...</td>\n",
       "      <td>...</td>\n",
       "      <td>...</td>\n",
       "      <td>...</td>\n",
       "    </tr>\n",
       "    <tr>\n",
       "      <th>886</th>\n",
       "      <td>0</td>\n",
       "      <td>2</td>\n",
       "      <td>male</td>\n",
       "      <td>27.0</td>\n",
       "      <td>0</td>\n",
       "      <td>0</td>\n",
       "      <td>13.0000</td>\n",
       "      <td>S</td>\n",
       "      <td>Second</td>\n",
       "      <td>man</td>\n",
       "      <td>True</td>\n",
       "      <td>NaN</td>\n",
       "      <td>Southampton</td>\n",
       "      <td>no</td>\n",
       "      <td>True</td>\n",
       "    </tr>\n",
       "    <tr>\n",
       "      <th>887</th>\n",
       "      <td>1</td>\n",
       "      <td>1</td>\n",
       "      <td>female</td>\n",
       "      <td>19.0</td>\n",
       "      <td>0</td>\n",
       "      <td>0</td>\n",
       "      <td>30.0000</td>\n",
       "      <td>S</td>\n",
       "      <td>First</td>\n",
       "      <td>woman</td>\n",
       "      <td>False</td>\n",
       "      <td>B</td>\n",
       "      <td>Southampton</td>\n",
       "      <td>yes</td>\n",
       "      <td>True</td>\n",
       "    </tr>\n",
       "    <tr>\n",
       "      <th>888</th>\n",
       "      <td>0</td>\n",
       "      <td>3</td>\n",
       "      <td>female</td>\n",
       "      <td>NaN</td>\n",
       "      <td>1</td>\n",
       "      <td>2</td>\n",
       "      <td>23.4500</td>\n",
       "      <td>S</td>\n",
       "      <td>Third</td>\n",
       "      <td>woman</td>\n",
       "      <td>False</td>\n",
       "      <td>NaN</td>\n",
       "      <td>Southampton</td>\n",
       "      <td>no</td>\n",
       "      <td>False</td>\n",
       "    </tr>\n",
       "    <tr>\n",
       "      <th>889</th>\n",
       "      <td>1</td>\n",
       "      <td>1</td>\n",
       "      <td>male</td>\n",
       "      <td>26.0</td>\n",
       "      <td>0</td>\n",
       "      <td>0</td>\n",
       "      <td>30.0000</td>\n",
       "      <td>C</td>\n",
       "      <td>First</td>\n",
       "      <td>man</td>\n",
       "      <td>True</td>\n",
       "      <td>C</td>\n",
       "      <td>Cherbourg</td>\n",
       "      <td>yes</td>\n",
       "      <td>True</td>\n",
       "    </tr>\n",
       "    <tr>\n",
       "      <th>890</th>\n",
       "      <td>0</td>\n",
       "      <td>3</td>\n",
       "      <td>male</td>\n",
       "      <td>32.0</td>\n",
       "      <td>0</td>\n",
       "      <td>0</td>\n",
       "      <td>7.7500</td>\n",
       "      <td>Q</td>\n",
       "      <td>Third</td>\n",
       "      <td>man</td>\n",
       "      <td>True</td>\n",
       "      <td>NaN</td>\n",
       "      <td>Queenstown</td>\n",
       "      <td>no</td>\n",
       "      <td>True</td>\n",
       "    </tr>\n",
       "  </tbody>\n",
       "</table>\n",
       "<p>891 rows × 15 columns</p>\n",
       "</div>"
      ],
      "text/plain": [
       "     survived  pclass    sexe   age  sibsp  parch     fare embarked   class  \\\n",
       "0           0       3    male  22.0      1      0   7.2500        S   Third   \n",
       "1           1       1  female  38.0      1      0  71.2833        C   First   \n",
       "2           1       3  female  26.0      0      0   7.9250        S   Third   \n",
       "3           1       1  female  35.0      1      0  53.1000        S   First   \n",
       "4           0       3    male  35.0      0      0   8.0500        S   Third   \n",
       "..        ...     ...     ...   ...    ...    ...      ...      ...     ...   \n",
       "886         0       2    male  27.0      0      0  13.0000        S  Second   \n",
       "887         1       1  female  19.0      0      0  30.0000        S   First   \n",
       "888         0       3  female   NaN      1      2  23.4500        S   Third   \n",
       "889         1       1    male  26.0      0      0  30.0000        C   First   \n",
       "890         0       3    male  32.0      0      0   7.7500        Q   Third   \n",
       "\n",
       "       who  adult_male deck  embark_town alive  alone  \n",
       "0      man        True  NaN  Southampton    no  False  \n",
       "1    woman       False    C    Cherbourg   yes  False  \n",
       "2    woman       False  NaN  Southampton   yes   True  \n",
       "3    woman       False    C  Southampton   yes  False  \n",
       "4      man        True  NaN  Southampton    no   True  \n",
       "..     ...         ...  ...          ...   ...    ...  \n",
       "886    man        True  NaN  Southampton    no   True  \n",
       "887  woman       False    B  Southampton   yes   True  \n",
       "888  woman       False  NaN  Southampton    no  False  \n",
       "889    man        True    C    Cherbourg   yes   True  \n",
       "890    man        True  NaN   Queenstown    no   True  \n",
       "\n",
       "[891 rows x 15 columns]"
      ]
     },
     "execution_count": 115,
     "metadata": {},
     "output_type": "execute_result"
    }
   ],
   "source": [
    "titanic"
   ]
  },
  {
   "cell_type": "code",
   "execution_count": 116,
   "id": "b49d9d52-fc33-4da7-801e-b65db0397cc9",
   "metadata": {},
   "outputs": [
    {
     "data": {
      "text/html": [
       "<div>\n",
       "<style scoped>\n",
       "    .dataframe tbody tr th:only-of-type {\n",
       "        vertical-align: middle;\n",
       "    }\n",
       "\n",
       "    .dataframe tbody tr th {\n",
       "        vertical-align: top;\n",
       "    }\n",
       "\n",
       "    .dataframe thead th {\n",
       "        text-align: right;\n",
       "    }\n",
       "</style>\n",
       "<table border=\"1\" class=\"dataframe\">\n",
       "  <thead>\n",
       "    <tr style=\"text-align: right;\">\n",
       "      <th></th>\n",
       "      <th>survived</th>\n",
       "      <th>pclass</th>\n",
       "      <th>sexe</th>\n",
       "      <th>age</th>\n",
       "      <th>sibsp</th>\n",
       "      <th>parch</th>\n",
       "      <th>fare</th>\n",
       "      <th>embarked</th>\n",
       "      <th>class</th>\n",
       "      <th>who</th>\n",
       "      <th>adult_male</th>\n",
       "      <th>deck</th>\n",
       "      <th>embark_town</th>\n",
       "      <th>alive</th>\n",
       "      <th>alone</th>\n",
       "    </tr>\n",
       "  </thead>\n",
       "  <tbody>\n",
       "    <tr>\n",
       "      <th>1</th>\n",
       "      <td>1</td>\n",
       "      <td>1</td>\n",
       "      <td>female</td>\n",
       "      <td>38.0</td>\n",
       "      <td>1</td>\n",
       "      <td>0</td>\n",
       "      <td>71.2833</td>\n",
       "      <td>C</td>\n",
       "      <td>First</td>\n",
       "      <td>woman</td>\n",
       "      <td>False</td>\n",
       "      <td>C</td>\n",
       "      <td>Cherbourg</td>\n",
       "      <td>yes</td>\n",
       "      <td>False</td>\n",
       "    </tr>\n",
       "    <tr>\n",
       "      <th>2</th>\n",
       "      <td>1</td>\n",
       "      <td>3</td>\n",
       "      <td>female</td>\n",
       "      <td>26.0</td>\n",
       "      <td>0</td>\n",
       "      <td>0</td>\n",
       "      <td>7.9250</td>\n",
       "      <td>S</td>\n",
       "      <td>Third</td>\n",
       "      <td>woman</td>\n",
       "      <td>False</td>\n",
       "      <td>NaN</td>\n",
       "      <td>Southampton</td>\n",
       "      <td>yes</td>\n",
       "      <td>True</td>\n",
       "    </tr>\n",
       "    <tr>\n",
       "      <th>3</th>\n",
       "      <td>1</td>\n",
       "      <td>1</td>\n",
       "      <td>female</td>\n",
       "      <td>35.0</td>\n",
       "      <td>1</td>\n",
       "      <td>0</td>\n",
       "      <td>53.1000</td>\n",
       "      <td>S</td>\n",
       "      <td>First</td>\n",
       "      <td>woman</td>\n",
       "      <td>False</td>\n",
       "      <td>C</td>\n",
       "      <td>Southampton</td>\n",
       "      <td>yes</td>\n",
       "      <td>False</td>\n",
       "    </tr>\n",
       "    <tr>\n",
       "      <th>4</th>\n",
       "      <td>0</td>\n",
       "      <td>3</td>\n",
       "      <td>male</td>\n",
       "      <td>35.0</td>\n",
       "      <td>0</td>\n",
       "      <td>0</td>\n",
       "      <td>8.0500</td>\n",
       "      <td>S</td>\n",
       "      <td>Third</td>\n",
       "      <td>man</td>\n",
       "      <td>True</td>\n",
       "      <td>NaN</td>\n",
       "      <td>Southampton</td>\n",
       "      <td>no</td>\n",
       "      <td>True</td>\n",
       "    </tr>\n",
       "    <tr>\n",
       "      <th>5</th>\n",
       "      <td>0</td>\n",
       "      <td>3</td>\n",
       "      <td>male</td>\n",
       "      <td>NaN</td>\n",
       "      <td>0</td>\n",
       "      <td>0</td>\n",
       "      <td>8.4583</td>\n",
       "      <td>Q</td>\n",
       "      <td>Third</td>\n",
       "      <td>man</td>\n",
       "      <td>True</td>\n",
       "      <td>NaN</td>\n",
       "      <td>Queenstown</td>\n",
       "      <td>no</td>\n",
       "      <td>True</td>\n",
       "    </tr>\n",
       "  </tbody>\n",
       "</table>\n",
       "</div>"
      ],
      "text/plain": [
       "   survived  pclass    sexe   age  sibsp  parch     fare embarked  class  \\\n",
       "1         1       1  female  38.0      1      0  71.2833        C  First   \n",
       "2         1       3  female  26.0      0      0   7.9250        S  Third   \n",
       "3         1       1  female  35.0      1      0  53.1000        S  First   \n",
       "4         0       3    male  35.0      0      0   8.0500        S  Third   \n",
       "5         0       3    male   NaN      0      0   8.4583        Q  Third   \n",
       "\n",
       "     who  adult_male deck  embark_town alive  alone  \n",
       "1  woman       False    C    Cherbourg   yes  False  \n",
       "2  woman       False  NaN  Southampton   yes   True  \n",
       "3  woman       False    C  Southampton   yes  False  \n",
       "4    man        True  NaN  Southampton    no   True  \n",
       "5    man        True  NaN   Queenstown    no   True  "
      ]
     },
     "execution_count": 116,
     "metadata": {},
     "output_type": "execute_result"
    }
   ],
   "source": [
    "#supprimer lignes dont l'index est égal à 0\n",
    "titanic.drop(0).head()"
   ]
  },
  {
   "cell_type": "code",
   "execution_count": 117,
   "id": "609fb447-68f1-4ef1-8f8b-3484a6bda8c5",
   "metadata": {},
   "outputs": [
    {
     "data": {
      "text/html": [
       "<div>\n",
       "<style scoped>\n",
       "    .dataframe tbody tr th:only-of-type {\n",
       "        vertical-align: middle;\n",
       "    }\n",
       "\n",
       "    .dataframe tbody tr th {\n",
       "        vertical-align: top;\n",
       "    }\n",
       "\n",
       "    .dataframe thead th {\n",
       "        text-align: right;\n",
       "    }\n",
       "</style>\n",
       "<table border=\"1\" class=\"dataframe\">\n",
       "  <thead>\n",
       "    <tr style=\"text-align: right;\">\n",
       "      <th></th>\n",
       "      <th>survived</th>\n",
       "      <th>pclass</th>\n",
       "      <th>sibsp</th>\n",
       "      <th>parch</th>\n",
       "      <th>fare</th>\n",
       "      <th>embarked</th>\n",
       "      <th>class</th>\n",
       "      <th>who</th>\n",
       "      <th>adult_male</th>\n",
       "      <th>deck</th>\n",
       "      <th>embark_town</th>\n",
       "      <th>alive</th>\n",
       "      <th>alone</th>\n",
       "    </tr>\n",
       "  </thead>\n",
       "  <tbody>\n",
       "    <tr>\n",
       "      <th>0</th>\n",
       "      <td>0</td>\n",
       "      <td>3</td>\n",
       "      <td>1</td>\n",
       "      <td>0</td>\n",
       "      <td>7.2500</td>\n",
       "      <td>S</td>\n",
       "      <td>Third</td>\n",
       "      <td>man</td>\n",
       "      <td>True</td>\n",
       "      <td>NaN</td>\n",
       "      <td>Southampton</td>\n",
       "      <td>no</td>\n",
       "      <td>False</td>\n",
       "    </tr>\n",
       "    <tr>\n",
       "      <th>1</th>\n",
       "      <td>1</td>\n",
       "      <td>1</td>\n",
       "      <td>1</td>\n",
       "      <td>0</td>\n",
       "      <td>71.2833</td>\n",
       "      <td>C</td>\n",
       "      <td>First</td>\n",
       "      <td>woman</td>\n",
       "      <td>False</td>\n",
       "      <td>C</td>\n",
       "      <td>Cherbourg</td>\n",
       "      <td>yes</td>\n",
       "      <td>False</td>\n",
       "    </tr>\n",
       "    <tr>\n",
       "      <th>2</th>\n",
       "      <td>1</td>\n",
       "      <td>3</td>\n",
       "      <td>0</td>\n",
       "      <td>0</td>\n",
       "      <td>7.9250</td>\n",
       "      <td>S</td>\n",
       "      <td>Third</td>\n",
       "      <td>woman</td>\n",
       "      <td>False</td>\n",
       "      <td>NaN</td>\n",
       "      <td>Southampton</td>\n",
       "      <td>yes</td>\n",
       "      <td>True</td>\n",
       "    </tr>\n",
       "    <tr>\n",
       "      <th>3</th>\n",
       "      <td>1</td>\n",
       "      <td>1</td>\n",
       "      <td>1</td>\n",
       "      <td>0</td>\n",
       "      <td>53.1000</td>\n",
       "      <td>S</td>\n",
       "      <td>First</td>\n",
       "      <td>woman</td>\n",
       "      <td>False</td>\n",
       "      <td>C</td>\n",
       "      <td>Southampton</td>\n",
       "      <td>yes</td>\n",
       "      <td>False</td>\n",
       "    </tr>\n",
       "    <tr>\n",
       "      <th>4</th>\n",
       "      <td>0</td>\n",
       "      <td>3</td>\n",
       "      <td>0</td>\n",
       "      <td>0</td>\n",
       "      <td>8.0500</td>\n",
       "      <td>S</td>\n",
       "      <td>Third</td>\n",
       "      <td>man</td>\n",
       "      <td>True</td>\n",
       "      <td>NaN</td>\n",
       "      <td>Southampton</td>\n",
       "      <td>no</td>\n",
       "      <td>True</td>\n",
       "    </tr>\n",
       "  </tbody>\n",
       "</table>\n",
       "</div>"
      ],
      "text/plain": [
       "   survived  pclass  sibsp  parch     fare embarked  class    who  adult_male  \\\n",
       "0         0       3      1      0   7.2500        S  Third    man        True   \n",
       "1         1       1      1      0  71.2833        C  First  woman       False   \n",
       "2         1       3      0      0   7.9250        S  Third  woman       False   \n",
       "3         1       1      1      0  53.1000        S  First  woman       False   \n",
       "4         0       3      0      0   8.0500        S  Third    man        True   \n",
       "\n",
       "  deck  embark_town alive  alone  \n",
       "0  NaN  Southampton    no  False  \n",
       "1    C    Cherbourg   yes  False  \n",
       "2  NaN  Southampton   yes   True  \n",
       "3    C  Southampton   yes  False  \n",
       "4  NaN  Southampton    no   True  "
      ]
     },
     "execution_count": 117,
     "metadata": {},
     "output_type": "execute_result"
    }
   ],
   "source": [
    "#supprimer lcolonne age\n",
    "titanic.drop(['age','sexe'],axis=1).head()"
   ]
  },
  {
   "cell_type": "code",
   "execution_count": 120,
   "id": "b2652e11-b521-4642-9c96-b987725eb301",
   "metadata": {},
   "outputs": [
    {
     "data": {
      "text/html": [
       "<div>\n",
       "<style scoped>\n",
       "    .dataframe tbody tr th:only-of-type {\n",
       "        vertical-align: middle;\n",
       "    }\n",
       "\n",
       "    .dataframe tbody tr th {\n",
       "        vertical-align: top;\n",
       "    }\n",
       "\n",
       "    .dataframe thead th {\n",
       "        text-align: right;\n",
       "    }\n",
       "</style>\n",
       "<table border=\"1\" class=\"dataframe\">\n",
       "  <thead>\n",
       "    <tr style=\"text-align: right;\">\n",
       "      <th></th>\n",
       "      <th></th>\n",
       "      <th>mean</th>\n",
       "      <th>median</th>\n",
       "    </tr>\n",
       "    <tr>\n",
       "      <th>pclass</th>\n",
       "      <th>sexe</th>\n",
       "      <th></th>\n",
       "      <th></th>\n",
       "    </tr>\n",
       "  </thead>\n",
       "  <tbody>\n",
       "    <tr>\n",
       "      <th rowspan=\"2\" valign=\"top\">1</th>\n",
       "      <th>female</th>\n",
       "      <td>34.611765</td>\n",
       "      <td>35.0</td>\n",
       "    </tr>\n",
       "    <tr>\n",
       "      <th>male</th>\n",
       "      <td>41.281386</td>\n",
       "      <td>40.0</td>\n",
       "    </tr>\n",
       "    <tr>\n",
       "      <th rowspan=\"2\" valign=\"top\">2</th>\n",
       "      <th>female</th>\n",
       "      <td>28.722973</td>\n",
       "      <td>28.0</td>\n",
       "    </tr>\n",
       "    <tr>\n",
       "      <th>male</th>\n",
       "      <td>30.740707</td>\n",
       "      <td>30.0</td>\n",
       "    </tr>\n",
       "    <tr>\n",
       "      <th rowspan=\"2\" valign=\"top\">3</th>\n",
       "      <th>female</th>\n",
       "      <td>21.750000</td>\n",
       "      <td>21.5</td>\n",
       "    </tr>\n",
       "    <tr>\n",
       "      <th>male</th>\n",
       "      <td>26.507589</td>\n",
       "      <td>25.0</td>\n",
       "    </tr>\n",
       "  </tbody>\n",
       "</table>\n",
       "</div>"
      ],
      "text/plain": [
       "                    mean  median\n",
       "pclass sexe                     \n",
       "1      female  34.611765    35.0\n",
       "       male    41.281386    40.0\n",
       "2      female  28.722973    28.0\n",
       "       male    30.740707    30.0\n",
       "3      female  21.750000    21.5\n",
       "       male    26.507589    25.0"
      ]
     },
     "execution_count": 120,
     "metadata": {},
     "output_type": "execute_result"
    }
   ],
   "source": [
    "#Aggrégation\n",
    "#Exemple d'aggréation\n",
    "titanic.groupby(['pclass','sexe'])['age'].agg(['mean','median'])"
   ]
  },
  {
   "cell_type": "code",
   "execution_count": 121,
   "id": "03faa9d3-d492-4aca-b530-a97449fbb2a1",
   "metadata": {},
   "outputs": [],
   "source": [
    "#Exercice sur pandas: analyse des caractéristiques d'une voiture\n",
    "#importer pandas et numpy"
   ]
  },
  {
   "cell_type": "code",
   "execution_count": 162,
   "id": "786236f2-f570-4774-af3d-f5c6dca1785b",
   "metadata": {},
   "outputs": [],
   "source": [
    "import pandas as pd\n",
    "import numpy as np\n",
    "#executer cette celule\n",
    "file='https://raw.githubusercontent.com/JosueAfouda/TUTORIALS/main/FuelConsumptionCo2.csv'"
   ]
  },
  {
   "cell_type": "code",
   "execution_count": 163,
   "id": "97b7e85c-450c-4366-b9e7-7539f579a110",
   "metadata": {},
   "outputs": [],
   "source": [
    "#importation des données\n",
    "df=pd.read_csv(file)"
   ]
  },
  {
   "cell_type": "code",
   "execution_count": 164,
   "id": "b80cc947-d6b2-4f74-8dc6-dd9a91239804",
   "metadata": {},
   "outputs": [
    {
     "data": {
      "text/html": [
       "<div>\n",
       "<style scoped>\n",
       "    .dataframe tbody tr th:only-of-type {\n",
       "        vertical-align: middle;\n",
       "    }\n",
       "\n",
       "    .dataframe tbody tr th {\n",
       "        vertical-align: top;\n",
       "    }\n",
       "\n",
       "    .dataframe thead th {\n",
       "        text-align: right;\n",
       "    }\n",
       "</style>\n",
       "<table border=\"1\" class=\"dataframe\">\n",
       "  <thead>\n",
       "    <tr style=\"text-align: right;\">\n",
       "      <th></th>\n",
       "      <th>MODELYEAR</th>\n",
       "      <th>MAKE</th>\n",
       "      <th>MODEL</th>\n",
       "      <th>VEHICLECLASS</th>\n",
       "      <th>ENGINESIZE</th>\n",
       "      <th>CYLINDERS</th>\n",
       "      <th>TRANSMISSION</th>\n",
       "      <th>FUELTYPE</th>\n",
       "      <th>FUELCONSUMPTION_CITY</th>\n",
       "      <th>FUELCONSUMPTION_HWY</th>\n",
       "      <th>FUELCONSUMPTION_COMB</th>\n",
       "      <th>FUELCONSUMPTION_COMB_MPG</th>\n",
       "      <th>CO2EMISSIONS</th>\n",
       "    </tr>\n",
       "  </thead>\n",
       "  <tbody>\n",
       "    <tr>\n",
       "      <th>0</th>\n",
       "      <td>2014</td>\n",
       "      <td>ACURA</td>\n",
       "      <td>ILX</td>\n",
       "      <td>COMPACT</td>\n",
       "      <td>2.0</td>\n",
       "      <td>4</td>\n",
       "      <td>AS5</td>\n",
       "      <td>Z</td>\n",
       "      <td>9.9</td>\n",
       "      <td>6.7</td>\n",
       "      <td>8.5</td>\n",
       "      <td>33</td>\n",
       "      <td>196</td>\n",
       "    </tr>\n",
       "    <tr>\n",
       "      <th>1</th>\n",
       "      <td>2014</td>\n",
       "      <td>ACURA</td>\n",
       "      <td>ILX</td>\n",
       "      <td>COMPACT</td>\n",
       "      <td>2.4</td>\n",
       "      <td>4</td>\n",
       "      <td>M6</td>\n",
       "      <td>Z</td>\n",
       "      <td>11.2</td>\n",
       "      <td>7.7</td>\n",
       "      <td>9.6</td>\n",
       "      <td>29</td>\n",
       "      <td>221</td>\n",
       "    </tr>\n",
       "    <tr>\n",
       "      <th>2</th>\n",
       "      <td>2014</td>\n",
       "      <td>ACURA</td>\n",
       "      <td>ILX HYBRID</td>\n",
       "      <td>COMPACT</td>\n",
       "      <td>1.5</td>\n",
       "      <td>4</td>\n",
       "      <td>AV7</td>\n",
       "      <td>Z</td>\n",
       "      <td>6.0</td>\n",
       "      <td>5.8</td>\n",
       "      <td>5.9</td>\n",
       "      <td>48</td>\n",
       "      <td>136</td>\n",
       "    </tr>\n",
       "    <tr>\n",
       "      <th>3</th>\n",
       "      <td>2014</td>\n",
       "      <td>ACURA</td>\n",
       "      <td>MDX 4WD</td>\n",
       "      <td>SUV - SMALL</td>\n",
       "      <td>3.5</td>\n",
       "      <td>6</td>\n",
       "      <td>AS6</td>\n",
       "      <td>Z</td>\n",
       "      <td>12.7</td>\n",
       "      <td>9.1</td>\n",
       "      <td>11.1</td>\n",
       "      <td>25</td>\n",
       "      <td>255</td>\n",
       "    </tr>\n",
       "    <tr>\n",
       "      <th>4</th>\n",
       "      <td>2014</td>\n",
       "      <td>ACURA</td>\n",
       "      <td>RDX AWD</td>\n",
       "      <td>SUV - SMALL</td>\n",
       "      <td>3.5</td>\n",
       "      <td>6</td>\n",
       "      <td>AS6</td>\n",
       "      <td>Z</td>\n",
       "      <td>12.1</td>\n",
       "      <td>8.7</td>\n",
       "      <td>10.6</td>\n",
       "      <td>27</td>\n",
       "      <td>244</td>\n",
       "    </tr>\n",
       "    <tr>\n",
       "      <th>...</th>\n",
       "      <td>...</td>\n",
       "      <td>...</td>\n",
       "      <td>...</td>\n",
       "      <td>...</td>\n",
       "      <td>...</td>\n",
       "      <td>...</td>\n",
       "      <td>...</td>\n",
       "      <td>...</td>\n",
       "      <td>...</td>\n",
       "      <td>...</td>\n",
       "      <td>...</td>\n",
       "      <td>...</td>\n",
       "      <td>...</td>\n",
       "    </tr>\n",
       "    <tr>\n",
       "      <th>1062</th>\n",
       "      <td>2014</td>\n",
       "      <td>VOLVO</td>\n",
       "      <td>XC60 AWD</td>\n",
       "      <td>SUV - SMALL</td>\n",
       "      <td>3.0</td>\n",
       "      <td>6</td>\n",
       "      <td>AS6</td>\n",
       "      <td>X</td>\n",
       "      <td>13.4</td>\n",
       "      <td>9.8</td>\n",
       "      <td>11.8</td>\n",
       "      <td>24</td>\n",
       "      <td>271</td>\n",
       "    </tr>\n",
       "    <tr>\n",
       "      <th>1063</th>\n",
       "      <td>2014</td>\n",
       "      <td>VOLVO</td>\n",
       "      <td>XC60 AWD</td>\n",
       "      <td>SUV - SMALL</td>\n",
       "      <td>3.2</td>\n",
       "      <td>6</td>\n",
       "      <td>AS6</td>\n",
       "      <td>X</td>\n",
       "      <td>13.2</td>\n",
       "      <td>9.5</td>\n",
       "      <td>11.5</td>\n",
       "      <td>25</td>\n",
       "      <td>264</td>\n",
       "    </tr>\n",
       "    <tr>\n",
       "      <th>1064</th>\n",
       "      <td>2014</td>\n",
       "      <td>VOLVO</td>\n",
       "      <td>XC70 AWD</td>\n",
       "      <td>SUV - SMALL</td>\n",
       "      <td>3.0</td>\n",
       "      <td>6</td>\n",
       "      <td>AS6</td>\n",
       "      <td>X</td>\n",
       "      <td>13.4</td>\n",
       "      <td>9.8</td>\n",
       "      <td>11.8</td>\n",
       "      <td>24</td>\n",
       "      <td>271</td>\n",
       "    </tr>\n",
       "    <tr>\n",
       "      <th>1065</th>\n",
       "      <td>2014</td>\n",
       "      <td>VOLVO</td>\n",
       "      <td>XC70 AWD</td>\n",
       "      <td>SUV - SMALL</td>\n",
       "      <td>3.2</td>\n",
       "      <td>6</td>\n",
       "      <td>AS6</td>\n",
       "      <td>X</td>\n",
       "      <td>12.9</td>\n",
       "      <td>9.3</td>\n",
       "      <td>11.3</td>\n",
       "      <td>25</td>\n",
       "      <td>260</td>\n",
       "    </tr>\n",
       "    <tr>\n",
       "      <th>1066</th>\n",
       "      <td>2014</td>\n",
       "      <td>VOLVO</td>\n",
       "      <td>XC90 AWD</td>\n",
       "      <td>SUV - STANDARD</td>\n",
       "      <td>3.2</td>\n",
       "      <td>6</td>\n",
       "      <td>AS6</td>\n",
       "      <td>X</td>\n",
       "      <td>14.9</td>\n",
       "      <td>10.2</td>\n",
       "      <td>12.8</td>\n",
       "      <td>22</td>\n",
       "      <td>294</td>\n",
       "    </tr>\n",
       "  </tbody>\n",
       "</table>\n",
       "<p>1067 rows × 13 columns</p>\n",
       "</div>"
      ],
      "text/plain": [
       "      MODELYEAR   MAKE       MODEL    VEHICLECLASS  ENGINESIZE  CYLINDERS  \\\n",
       "0          2014  ACURA         ILX         COMPACT         2.0          4   \n",
       "1          2014  ACURA         ILX         COMPACT         2.4          4   \n",
       "2          2014  ACURA  ILX HYBRID         COMPACT         1.5          4   \n",
       "3          2014  ACURA     MDX 4WD     SUV - SMALL         3.5          6   \n",
       "4          2014  ACURA     RDX AWD     SUV - SMALL         3.5          6   \n",
       "...         ...    ...         ...             ...         ...        ...   \n",
       "1062       2014  VOLVO    XC60 AWD     SUV - SMALL         3.0          6   \n",
       "1063       2014  VOLVO    XC60 AWD     SUV - SMALL         3.2          6   \n",
       "1064       2014  VOLVO    XC70 AWD     SUV - SMALL         3.0          6   \n",
       "1065       2014  VOLVO    XC70 AWD     SUV - SMALL         3.2          6   \n",
       "1066       2014  VOLVO    XC90 AWD  SUV - STANDARD         3.2          6   \n",
       "\n",
       "     TRANSMISSION FUELTYPE  FUELCONSUMPTION_CITY  FUELCONSUMPTION_HWY  \\\n",
       "0             AS5        Z                   9.9                  6.7   \n",
       "1              M6        Z                  11.2                  7.7   \n",
       "2             AV7        Z                   6.0                  5.8   \n",
       "3             AS6        Z                  12.7                  9.1   \n",
       "4             AS6        Z                  12.1                  8.7   \n",
       "...           ...      ...                   ...                  ...   \n",
       "1062          AS6        X                  13.4                  9.8   \n",
       "1063          AS6        X                  13.2                  9.5   \n",
       "1064          AS6        X                  13.4                  9.8   \n",
       "1065          AS6        X                  12.9                  9.3   \n",
       "1066          AS6        X                  14.9                 10.2   \n",
       "\n",
       "      FUELCONSUMPTION_COMB  FUELCONSUMPTION_COMB_MPG  CO2EMISSIONS  \n",
       "0                      8.5                        33           196  \n",
       "1                      9.6                        29           221  \n",
       "2                      5.9                        48           136  \n",
       "3                     11.1                        25           255  \n",
       "4                     10.6                        27           244  \n",
       "...                    ...                       ...           ...  \n",
       "1062                  11.8                        24           271  \n",
       "1063                  11.5                        25           264  \n",
       "1064                  11.8                        24           271  \n",
       "1065                  11.3                        25           260  \n",
       "1066                  12.8                        22           294  \n",
       "\n",
       "[1067 rows x 13 columns]"
      ]
     },
     "execution_count": 164,
     "metadata": {},
     "output_type": "execute_result"
    }
   ],
   "source": [
    "df"
   ]
  },
  {
   "cell_type": "code",
   "execution_count": 165,
   "id": "9caf3497-5f5f-4812-abeb-b8356bec99b5",
   "metadata": {},
   "outputs": [
    {
     "data": {
      "text/html": [
       "<div>\n",
       "<style scoped>\n",
       "    .dataframe tbody tr th:only-of-type {\n",
       "        vertical-align: middle;\n",
       "    }\n",
       "\n",
       "    .dataframe tbody tr th {\n",
       "        vertical-align: top;\n",
       "    }\n",
       "\n",
       "    .dataframe thead th {\n",
       "        text-align: right;\n",
       "    }\n",
       "</style>\n",
       "<table border=\"1\" class=\"dataframe\">\n",
       "  <thead>\n",
       "    <tr style=\"text-align: right;\">\n",
       "      <th></th>\n",
       "      <th>MODELYEAR</th>\n",
       "      <th>MAKE</th>\n",
       "      <th>MODEL</th>\n",
       "      <th>VEHICLECLASS</th>\n",
       "      <th>ENGINESIZE</th>\n",
       "      <th>CYLINDERS</th>\n",
       "      <th>TRANSMISSION</th>\n",
       "      <th>FUELTYPE</th>\n",
       "      <th>FUELCONSUMPTION_CITY</th>\n",
       "      <th>FUELCONSUMPTION_HWY</th>\n",
       "      <th>FUELCONSUMPTION_COMB</th>\n",
       "      <th>FUELCONSUMPTION_COMB_MPG</th>\n",
       "      <th>CO2EMISSIONS</th>\n",
       "    </tr>\n",
       "  </thead>\n",
       "  <tbody>\n",
       "    <tr>\n",
       "      <th>0</th>\n",
       "      <td>2014</td>\n",
       "      <td>ACURA</td>\n",
       "      <td>ILX</td>\n",
       "      <td>COMPACT</td>\n",
       "      <td>2.0</td>\n",
       "      <td>4</td>\n",
       "      <td>AS5</td>\n",
       "      <td>Z</td>\n",
       "      <td>9.9</td>\n",
       "      <td>6.7</td>\n",
       "      <td>8.5</td>\n",
       "      <td>33</td>\n",
       "      <td>196</td>\n",
       "    </tr>\n",
       "    <tr>\n",
       "      <th>1</th>\n",
       "      <td>2014</td>\n",
       "      <td>ACURA</td>\n",
       "      <td>ILX</td>\n",
       "      <td>COMPACT</td>\n",
       "      <td>2.4</td>\n",
       "      <td>4</td>\n",
       "      <td>M6</td>\n",
       "      <td>Z</td>\n",
       "      <td>11.2</td>\n",
       "      <td>7.7</td>\n",
       "      <td>9.6</td>\n",
       "      <td>29</td>\n",
       "      <td>221</td>\n",
       "    </tr>\n",
       "    <tr>\n",
       "      <th>2</th>\n",
       "      <td>2014</td>\n",
       "      <td>ACURA</td>\n",
       "      <td>ILX HYBRID</td>\n",
       "      <td>COMPACT</td>\n",
       "      <td>1.5</td>\n",
       "      <td>4</td>\n",
       "      <td>AV7</td>\n",
       "      <td>Z</td>\n",
       "      <td>6.0</td>\n",
       "      <td>5.8</td>\n",
       "      <td>5.9</td>\n",
       "      <td>48</td>\n",
       "      <td>136</td>\n",
       "    </tr>\n",
       "    <tr>\n",
       "      <th>3</th>\n",
       "      <td>2014</td>\n",
       "      <td>ACURA</td>\n",
       "      <td>MDX 4WD</td>\n",
       "      <td>SUV - SMALL</td>\n",
       "      <td>3.5</td>\n",
       "      <td>6</td>\n",
       "      <td>AS6</td>\n",
       "      <td>Z</td>\n",
       "      <td>12.7</td>\n",
       "      <td>9.1</td>\n",
       "      <td>11.1</td>\n",
       "      <td>25</td>\n",
       "      <td>255</td>\n",
       "    </tr>\n",
       "    <tr>\n",
       "      <th>4</th>\n",
       "      <td>2014</td>\n",
       "      <td>ACURA</td>\n",
       "      <td>RDX AWD</td>\n",
       "      <td>SUV - SMALL</td>\n",
       "      <td>3.5</td>\n",
       "      <td>6</td>\n",
       "      <td>AS6</td>\n",
       "      <td>Z</td>\n",
       "      <td>12.1</td>\n",
       "      <td>8.7</td>\n",
       "      <td>10.6</td>\n",
       "      <td>27</td>\n",
       "      <td>244</td>\n",
       "    </tr>\n",
       "  </tbody>\n",
       "</table>\n",
       "</div>"
      ],
      "text/plain": [
       "   MODELYEAR   MAKE       MODEL VEHICLECLASS  ENGINESIZE  CYLINDERS  \\\n",
       "0       2014  ACURA         ILX      COMPACT         2.0          4   \n",
       "1       2014  ACURA         ILX      COMPACT         2.4          4   \n",
       "2       2014  ACURA  ILX HYBRID      COMPACT         1.5          4   \n",
       "3       2014  ACURA     MDX 4WD  SUV - SMALL         3.5          6   \n",
       "4       2014  ACURA     RDX AWD  SUV - SMALL         3.5          6   \n",
       "\n",
       "  TRANSMISSION FUELTYPE  FUELCONSUMPTION_CITY  FUELCONSUMPTION_HWY  \\\n",
       "0          AS5        Z                   9.9                  6.7   \n",
       "1           M6        Z                  11.2                  7.7   \n",
       "2          AV7        Z                   6.0                  5.8   \n",
       "3          AS6        Z                  12.7                  9.1   \n",
       "4          AS6        Z                  12.1                  8.7   \n",
       "\n",
       "   FUELCONSUMPTION_COMB  FUELCONSUMPTION_COMB_MPG  CO2EMISSIONS  \n",
       "0                   8.5                        33           196  \n",
       "1                   9.6                        29           221  \n",
       "2                   5.9                        48           136  \n",
       "3                  11.1                        25           255  \n",
       "4                  10.6                        27           244  "
      ]
     },
     "execution_count": 165,
     "metadata": {},
     "output_type": "execute_result"
    }
   ],
   "source": [
    "#afficher les 5 premieres lignes de df\n",
    "df.head()"
   ]
  },
  {
   "cell_type": "code",
   "execution_count": 166,
   "id": "7d2b3c9c-eaca-48da-bbb6-7825264d93f7",
   "metadata": {},
   "outputs": [
    {
     "data": {
      "text/html": [
       "<div>\n",
       "<style scoped>\n",
       "    .dataframe tbody tr th:only-of-type {\n",
       "        vertical-align: middle;\n",
       "    }\n",
       "\n",
       "    .dataframe tbody tr th {\n",
       "        vertical-align: top;\n",
       "    }\n",
       "\n",
       "    .dataframe thead th {\n",
       "        text-align: right;\n",
       "    }\n",
       "</style>\n",
       "<table border=\"1\" class=\"dataframe\">\n",
       "  <thead>\n",
       "    <tr style=\"text-align: right;\">\n",
       "      <th></th>\n",
       "      <th>MODELYEAR</th>\n",
       "      <th>MAKE</th>\n",
       "      <th>MODEL</th>\n",
       "      <th>VEHICLECLASS</th>\n",
       "      <th>ENGINESIZE</th>\n",
       "      <th>CYLINDERS</th>\n",
       "      <th>TRANSMISSION</th>\n",
       "      <th>FUELTYPE</th>\n",
       "      <th>FUELCONSUMPTION_CITY</th>\n",
       "      <th>FUELCONSUMPTION_HWY</th>\n",
       "      <th>FUELCONSUMPTION_COMB</th>\n",
       "      <th>FUELCONSUMPTION_COMB_MPG</th>\n",
       "      <th>CO2EMISSIONS</th>\n",
       "    </tr>\n",
       "  </thead>\n",
       "  <tbody>\n",
       "    <tr>\n",
       "      <th>1062</th>\n",
       "      <td>2014</td>\n",
       "      <td>VOLVO</td>\n",
       "      <td>XC60 AWD</td>\n",
       "      <td>SUV - SMALL</td>\n",
       "      <td>3.0</td>\n",
       "      <td>6</td>\n",
       "      <td>AS6</td>\n",
       "      <td>X</td>\n",
       "      <td>13.4</td>\n",
       "      <td>9.8</td>\n",
       "      <td>11.8</td>\n",
       "      <td>24</td>\n",
       "      <td>271</td>\n",
       "    </tr>\n",
       "    <tr>\n",
       "      <th>1063</th>\n",
       "      <td>2014</td>\n",
       "      <td>VOLVO</td>\n",
       "      <td>XC60 AWD</td>\n",
       "      <td>SUV - SMALL</td>\n",
       "      <td>3.2</td>\n",
       "      <td>6</td>\n",
       "      <td>AS6</td>\n",
       "      <td>X</td>\n",
       "      <td>13.2</td>\n",
       "      <td>9.5</td>\n",
       "      <td>11.5</td>\n",
       "      <td>25</td>\n",
       "      <td>264</td>\n",
       "    </tr>\n",
       "    <tr>\n",
       "      <th>1064</th>\n",
       "      <td>2014</td>\n",
       "      <td>VOLVO</td>\n",
       "      <td>XC70 AWD</td>\n",
       "      <td>SUV - SMALL</td>\n",
       "      <td>3.0</td>\n",
       "      <td>6</td>\n",
       "      <td>AS6</td>\n",
       "      <td>X</td>\n",
       "      <td>13.4</td>\n",
       "      <td>9.8</td>\n",
       "      <td>11.8</td>\n",
       "      <td>24</td>\n",
       "      <td>271</td>\n",
       "    </tr>\n",
       "    <tr>\n",
       "      <th>1065</th>\n",
       "      <td>2014</td>\n",
       "      <td>VOLVO</td>\n",
       "      <td>XC70 AWD</td>\n",
       "      <td>SUV - SMALL</td>\n",
       "      <td>3.2</td>\n",
       "      <td>6</td>\n",
       "      <td>AS6</td>\n",
       "      <td>X</td>\n",
       "      <td>12.9</td>\n",
       "      <td>9.3</td>\n",
       "      <td>11.3</td>\n",
       "      <td>25</td>\n",
       "      <td>260</td>\n",
       "    </tr>\n",
       "    <tr>\n",
       "      <th>1066</th>\n",
       "      <td>2014</td>\n",
       "      <td>VOLVO</td>\n",
       "      <td>XC90 AWD</td>\n",
       "      <td>SUV - STANDARD</td>\n",
       "      <td>3.2</td>\n",
       "      <td>6</td>\n",
       "      <td>AS6</td>\n",
       "      <td>X</td>\n",
       "      <td>14.9</td>\n",
       "      <td>10.2</td>\n",
       "      <td>12.8</td>\n",
       "      <td>22</td>\n",
       "      <td>294</td>\n",
       "    </tr>\n",
       "  </tbody>\n",
       "</table>\n",
       "</div>"
      ],
      "text/plain": [
       "      MODELYEAR   MAKE     MODEL    VEHICLECLASS  ENGINESIZE  CYLINDERS  \\\n",
       "1062       2014  VOLVO  XC60 AWD     SUV - SMALL         3.0          6   \n",
       "1063       2014  VOLVO  XC60 AWD     SUV - SMALL         3.2          6   \n",
       "1064       2014  VOLVO  XC70 AWD     SUV - SMALL         3.0          6   \n",
       "1065       2014  VOLVO  XC70 AWD     SUV - SMALL         3.2          6   \n",
       "1066       2014  VOLVO  XC90 AWD  SUV - STANDARD         3.2          6   \n",
       "\n",
       "     TRANSMISSION FUELTYPE  FUELCONSUMPTION_CITY  FUELCONSUMPTION_HWY  \\\n",
       "1062          AS6        X                  13.4                  9.8   \n",
       "1063          AS6        X                  13.2                  9.5   \n",
       "1064          AS6        X                  13.4                  9.8   \n",
       "1065          AS6        X                  12.9                  9.3   \n",
       "1066          AS6        X                  14.9                 10.2   \n",
       "\n",
       "      FUELCONSUMPTION_COMB  FUELCONSUMPTION_COMB_MPG  CO2EMISSIONS  \n",
       "1062                  11.8                        24           271  \n",
       "1063                  11.5                        25           264  \n",
       "1064                  11.8                        24           271  \n",
       "1065                  11.3                        25           260  \n",
       "1066                  12.8                        22           294  "
      ]
     },
     "execution_count": 166,
     "metadata": {},
     "output_type": "execute_result"
    }
   ],
   "source": [
    "#afficher les 5 dernières lignes\n",
    "df.tail()\n"
   ]
  },
  {
   "cell_type": "code",
   "execution_count": 168,
   "id": "0bb67a14-e8bd-413e-a26b-cd7554295ba5",
   "metadata": {},
   "outputs": [
    {
     "name": "stdout",
     "output_type": "stream",
     "text": [
      "<class 'pandas.core.frame.DataFrame'>\n",
      "RangeIndex: 1067 entries, 0 to 1066\n",
      "Data columns (total 13 columns):\n",
      " #   Column                    Non-Null Count  Dtype  \n",
      "---  ------                    --------------  -----  \n",
      " 0   MODELYEAR                 1067 non-null   int64  \n",
      " 1   MAKE                      1067 non-null   object \n",
      " 2   MODEL                     1067 non-null   object \n",
      " 3   VEHICLECLASS              1067 non-null   object \n",
      " 4   ENGINESIZE                1067 non-null   float64\n",
      " 5   CYLINDERS                 1067 non-null   int64  \n",
      " 6   TRANSMISSION              1067 non-null   object \n",
      " 7   FUELTYPE                  1067 non-null   object \n",
      " 8   FUELCONSUMPTION_CITY      1067 non-null   float64\n",
      " 9   FUELCONSUMPTION_HWY       1067 non-null   float64\n",
      " 10  FUELCONSUMPTION_COMB      1067 non-null   float64\n",
      " 11  FUELCONSUMPTION_COMB_MPG  1067 non-null   int64  \n",
      " 12  CO2EMISSIONS              1067 non-null   int64  \n",
      "dtypes: float64(4), int64(4), object(5)\n",
      "memory usage: 108.5+ KB\n"
     ]
    }
   ],
   "source": [
    "#Afficher les infos sur df\n",
    "df.info()"
   ]
  },
  {
   "cell_type": "code",
   "execution_count": 169,
   "id": "24cb4014-5619-49aa-8b4f-90bc0f7e0e1b",
   "metadata": {},
   "outputs": [
    {
     "data": {
      "text/html": [
       "<div>\n",
       "<style scoped>\n",
       "    .dataframe tbody tr th:only-of-type {\n",
       "        vertical-align: middle;\n",
       "    }\n",
       "\n",
       "    .dataframe tbody tr th {\n",
       "        vertical-align: top;\n",
       "    }\n",
       "\n",
       "    .dataframe thead th {\n",
       "        text-align: right;\n",
       "    }\n",
       "</style>\n",
       "<table border=\"1\" class=\"dataframe\">\n",
       "  <thead>\n",
       "    <tr style=\"text-align: right;\">\n",
       "      <th></th>\n",
       "      <th>MODELYEAR</th>\n",
       "      <th>ENGINESIZE</th>\n",
       "      <th>CYLINDERS</th>\n",
       "      <th>FUELCONSUMPTION_CITY</th>\n",
       "      <th>FUELCONSUMPTION_HWY</th>\n",
       "      <th>FUELCONSUMPTION_COMB</th>\n",
       "      <th>FUELCONSUMPTION_COMB_MPG</th>\n",
       "      <th>CO2EMISSIONS</th>\n",
       "    </tr>\n",
       "  </thead>\n",
       "  <tbody>\n",
       "    <tr>\n",
       "      <th>count</th>\n",
       "      <td>1067.0</td>\n",
       "      <td>1067.000000</td>\n",
       "      <td>1067.000000</td>\n",
       "      <td>1067.000000</td>\n",
       "      <td>1067.000000</td>\n",
       "      <td>1067.000000</td>\n",
       "      <td>1067.000000</td>\n",
       "      <td>1067.000000</td>\n",
       "    </tr>\n",
       "    <tr>\n",
       "      <th>mean</th>\n",
       "      <td>2014.0</td>\n",
       "      <td>3.346298</td>\n",
       "      <td>5.794752</td>\n",
       "      <td>13.296532</td>\n",
       "      <td>9.474602</td>\n",
       "      <td>11.580881</td>\n",
       "      <td>26.441425</td>\n",
       "      <td>256.228679</td>\n",
       "    </tr>\n",
       "    <tr>\n",
       "      <th>std</th>\n",
       "      <td>0.0</td>\n",
       "      <td>1.415895</td>\n",
       "      <td>1.797447</td>\n",
       "      <td>4.101253</td>\n",
       "      <td>2.794510</td>\n",
       "      <td>3.485595</td>\n",
       "      <td>7.468702</td>\n",
       "      <td>63.372304</td>\n",
       "    </tr>\n",
       "    <tr>\n",
       "      <th>min</th>\n",
       "      <td>2014.0</td>\n",
       "      <td>1.000000</td>\n",
       "      <td>3.000000</td>\n",
       "      <td>4.600000</td>\n",
       "      <td>4.900000</td>\n",
       "      <td>4.700000</td>\n",
       "      <td>11.000000</td>\n",
       "      <td>108.000000</td>\n",
       "    </tr>\n",
       "    <tr>\n",
       "      <th>25%</th>\n",
       "      <td>2014.0</td>\n",
       "      <td>2.000000</td>\n",
       "      <td>4.000000</td>\n",
       "      <td>10.250000</td>\n",
       "      <td>7.500000</td>\n",
       "      <td>9.000000</td>\n",
       "      <td>21.000000</td>\n",
       "      <td>207.000000</td>\n",
       "    </tr>\n",
       "    <tr>\n",
       "      <th>50%</th>\n",
       "      <td>2014.0</td>\n",
       "      <td>3.400000</td>\n",
       "      <td>6.000000</td>\n",
       "      <td>12.600000</td>\n",
       "      <td>8.800000</td>\n",
       "      <td>10.900000</td>\n",
       "      <td>26.000000</td>\n",
       "      <td>251.000000</td>\n",
       "    </tr>\n",
       "    <tr>\n",
       "      <th>75%</th>\n",
       "      <td>2014.0</td>\n",
       "      <td>4.300000</td>\n",
       "      <td>8.000000</td>\n",
       "      <td>15.550000</td>\n",
       "      <td>10.850000</td>\n",
       "      <td>13.350000</td>\n",
       "      <td>31.000000</td>\n",
       "      <td>294.000000</td>\n",
       "    </tr>\n",
       "    <tr>\n",
       "      <th>max</th>\n",
       "      <td>2014.0</td>\n",
       "      <td>8.400000</td>\n",
       "      <td>12.000000</td>\n",
       "      <td>30.200000</td>\n",
       "      <td>20.500000</td>\n",
       "      <td>25.800000</td>\n",
       "      <td>60.000000</td>\n",
       "      <td>488.000000</td>\n",
       "    </tr>\n",
       "  </tbody>\n",
       "</table>\n",
       "</div>"
      ],
      "text/plain": [
       "       MODELYEAR   ENGINESIZE    CYLINDERS  FUELCONSUMPTION_CITY  \\\n",
       "count     1067.0  1067.000000  1067.000000           1067.000000   \n",
       "mean      2014.0     3.346298     5.794752             13.296532   \n",
       "std          0.0     1.415895     1.797447              4.101253   \n",
       "min       2014.0     1.000000     3.000000              4.600000   \n",
       "25%       2014.0     2.000000     4.000000             10.250000   \n",
       "50%       2014.0     3.400000     6.000000             12.600000   \n",
       "75%       2014.0     4.300000     8.000000             15.550000   \n",
       "max       2014.0     8.400000    12.000000             30.200000   \n",
       "\n",
       "       FUELCONSUMPTION_HWY  FUELCONSUMPTION_COMB  FUELCONSUMPTION_COMB_MPG  \\\n",
       "count          1067.000000           1067.000000               1067.000000   \n",
       "mean              9.474602             11.580881                 26.441425   \n",
       "std               2.794510              3.485595                  7.468702   \n",
       "min               4.900000              4.700000                 11.000000   \n",
       "25%               7.500000              9.000000                 21.000000   \n",
       "50%               8.800000             10.900000                 26.000000   \n",
       "75%              10.850000             13.350000                 31.000000   \n",
       "max              20.500000             25.800000                 60.000000   \n",
       "\n",
       "       CO2EMISSIONS  \n",
       "count   1067.000000  \n",
       "mean     256.228679  \n",
       "std       63.372304  \n",
       "min      108.000000  \n",
       "25%      207.000000  \n",
       "50%      251.000000  \n",
       "75%      294.000000  \n",
       "max      488.000000  "
      ]
     },
     "execution_count": 169,
     "metadata": {},
     "output_type": "execute_result"
    }
   ],
   "source": [
    "#faites un résumé statistique des données n'incluant que\n",
    "#les variables quantitatives\n",
    "df.describe()\n"
   ]
  },
  {
   "cell_type": "code",
   "execution_count": 172,
   "id": "c068df87-6c8a-4b9d-881c-a54bf0ecbb4b",
   "metadata": {},
   "outputs": [],
   "source": [
    "#déterminez les valeurs distinctes de chaque variable qualitative de df\n",
    "variables_qualitatives=df.select_dtypes(include='object').columns"
   ]
  },
  {
   "cell_type": "code",
   "execution_count": 175,
   "id": "c9972516-efe3-497c-b7ad-c3ac22f36c02",
   "metadata": {},
   "outputs": [
    {
     "data": {
      "text/plain": [
       "Index(['MAKE', 'MODEL', 'VEHICLECLASS', 'TRANSMISSION', 'FUELTYPE'], dtype='object')"
      ]
     },
     "execution_count": 175,
     "metadata": {},
     "output_type": "execute_result"
    }
   ],
   "source": [
    "variables_qualitatives"
   ]
  },
  {
   "cell_type": "code",
   "execution_count": 176,
   "id": "e8266541-28de-4528-bb9b-e053ea48d5ba",
   "metadata": {},
   "outputs": [
    {
     "name": "stdout",
     "output_type": "stream",
     "text": [
      "Colonne MAKE : ['ACURA' 'ASTON MARTIN' 'AUDI' 'BENTLEY' 'BMW' 'BUICK' 'CADILLAC'\n",
      " 'CHEVROLET' 'CHRYSLER' 'DODGE' 'FIAT' 'FORD' 'GMC' 'HONDA' 'HYUNDAI'\n",
      " 'INFINITI' 'JAGUAR' 'JEEP' 'KIA' 'LAMBORGHINI' 'LAND ROVER' 'LEXUS'\n",
      " 'LINCOLN' 'MASERATI' 'MAZDA' 'MERCEDES-BENZ' 'MINI' 'MITSUBISHI' 'NISSAN'\n",
      " 'PORSCHE' 'RAM' 'ROLLS-ROYCE' 'SCION' 'SMART' 'SRT' 'SUBARU' 'TOYOTA'\n",
      " 'VOLKSWAGEN' 'VOLVO']\n",
      "------------------------------------------------------------------------------------------------------------------------------------------------------\n",
      "Colonne MODEL : ['ILX' 'ILX HYBRID' 'MDX 4WD' 'RDX AWD' 'RLX' 'TL' 'TL AWD' 'TSX' 'DB9'\n",
      " 'RAPIDE' 'V8 VANTAGE' 'V8 VANTAGE S' 'VANQUISH' 'A4' 'A4 QUATTRO'\n",
      " 'A5 CABRIOLET QUATTRO' 'A5 QUATTRO' 'A6 QUATTRO'\n",
      " 'A6 QUATTRO TDI CLEAN DIESEL' 'A7 QUATTRO' 'A7 QUATTRO TDI CLEAN DIESEL'\n",
      " 'A8' 'A8 TDI CLEAN DIESEL' 'A8L' 'A8L TDI CLEAN DIESEL' 'ALLROAD QUATTRO'\n",
      " 'Q5' 'Q5 HYBRID' 'Q5 TDI CLEAN DIESEL' 'Q7' 'Q7 TDI CLEAN DIESEL' 'R8'\n",
      " 'R8 SPYDER' 'RS5' 'RS5 CABRIOLET' 'RS7' 'S4' 'S5' 'S5 CABRIOLET' 'S6'\n",
      " 'S7' 'S8' 'SQ5' 'TT COUPE QUATTRO' 'TT ROADSTER QUATTRO'\n",
      " 'TTS COUPE QUATTRO' 'TTS ROADSTER QUATTRO' 'CONTINENTAL GT'\n",
      " 'CONTINENTAL GT CONVERTIBLE' 'CONTINENTAL GT SPEED CONVERTIBLE'\n",
      " 'CONTINENTAL GTC' 'FLYING SPUR' 'MULSANNE' '320i' '320i xDRIVE'\n",
      " '328d xDRIVE' '328d xDRIVE TOURING' '328i' '328i xDRIVE'\n",
      " '328i xDRIVE GRAN TURISMO' '328i xDRIVE TOURING' '335i' '335i xDRIVE'\n",
      " '335i xDRIVE GRAN TURISMO' '428i COUPE' '428i xDRIVE COUPE' '435i COUPE'\n",
      " '435i xDRIVE COUPE' '528i' '528i xDRIVE' '535d xDRIVE' '535i xDRIVE'\n",
      " '535i xDRIVE GRAN TURISMO' '550i xDRIVE' '550i xDRIVE GRAN TURISMO'\n",
      " '640i xDRIVE GRAN COUPE' '650i xDRIVE CABRIOLET' '650i xDRIVE COUPE'\n",
      " '650i xDRIVE GRAN COUPE' '740Li xDRIVE' '750i xDRIVE' '750Li xDRIVE'\n",
      " '760Li' 'ACTIVEHYBRID 3' 'ACTIVEHYBRID 5' 'ACTIVEHYBRID 7L'\n",
      " 'ALPINA B7 xDRIVE LWB' 'ALPINA B7 xDRIVE SWB' 'M5' 'M6' 'M6 CABRIOLET'\n",
      " 'M6 GRAN COUPE' 'X1 xDRIVE28i' 'X1 xDRIVE35i' 'X3 xDRIVE28i'\n",
      " 'X3 xDRIVE35i' 'X5 xDRIVE35i' 'X5 xDRIVE50i' 'X6 M' 'X6 xDRIVE35i'\n",
      " 'X6 xDRIVE50i' 'Z4 sDRIVE28i' 'Z4 sDRIVE35i' 'Z4 sDRIVE35is' 'ENCLAVE'\n",
      " 'ENCLAVE AWD' 'ENCORE' 'ENCORE AWD' 'LACROSSE' 'LACROSSE AWD'\n",
      " 'LACROSSE eASSIST' 'REGAL' 'REGAL AWD' 'REGAL eASSIST' 'VERANO' 'ATS'\n",
      " 'ATS AWD' 'CTS COUPE' 'CTS COUPE AWD' 'CTS SEDAN' 'CTS SEDAN AWD'\n",
      " 'CTS SEDAN Vsport' 'CTS SPORT WAGON' 'CTS SPORT WAGON AWD' 'CTS-V COUPE'\n",
      " 'CTS-V SEDAN' 'CTS-V SPORT WAGON' 'ESCALADE AWD' 'ESCALADE ESV AWD' 'SRX'\n",
      " 'SRX AWD' 'XTS' 'XTS AWD' 'XTS Vsport AWD' 'CAMARO' 'CAMARO 2LS'\n",
      " 'CAMARO SS' 'CAMARO ZL1' 'CORVETTE' 'CRUZE' 'CRUZE DIESEL' 'CRUZE ECO'\n",
      " 'EQUINOX' 'EQUINOX AWD' 'EXPRESS 1500 CARGO' 'EXPRESS 1500 CARGO AWD'\n",
      " 'EXPRESS 1500 CARGO CONV' 'EXPRESS 1500 CARGO CONV AWD'\n",
      " 'EXPRESS 1500 PASSENGER' 'EXPRESS 1500 PASSENGER AWD'\n",
      " 'EXPRESS 2500 PASSENGER' 'EXPRESS 3500 PASSENGER' 'IMPALA' 'IMPALA ECO'\n",
      " 'MALIBU' 'ORLANDO' 'SILVERADO' 'SILVERADO 4WD' 'SONIC' 'SONIC 5'\n",
      " 'SONIC 5 RS' 'SONIC RS' 'SPARK' 'SUBURBAN' 'SUBURBAN 4WD' 'TAHOE'\n",
      " 'TAHOE 4WD' 'TRAVERSE' 'TRAVERSE AWD' 'TRAX' 'TRAX AWD' '300'\n",
      " '200 CONVERTIBLE' '200 CONVERTIBLE FFV' '200 SEDAN' '200 SEDAN FFV'\n",
      " '300 (MDS)' '300 AWD' '300 AWD (MDS)' '300 AWD FFV' '300 FFV'\n",
      " '300 SRT (MDS)' 'TOWN & COUNTRY FFV' 'AVENGER' 'AVENGER FFV' 'CHALLENGER'\n",
      " 'CHALLENGER (MDS)' 'CHALLENGER SRT' 'CHALLENGER SRT (MDS)' 'CHARGER'\n",
      " 'CHARGER (MDS)' 'CHARGER AWD' 'CHARGER AWD (MDS)' 'CHARGER AWD FFV'\n",
      " 'CHARGER FFV' 'CHARGER SRT (MDS)' 'DART' 'DART FFV' 'DART GT'\n",
      " 'DART TURBO AERO' 'DURANGO AWD (MDS)' 'DURANGO AWD FFV'\n",
      " 'GRAND CARAVAN FFV' 'JOURNEY' 'JOURNEY AWD' 'JOURNEY FFV'\n",
      " '500 ABARTH CABRIO' '500 ABARTH HATCHBACK' '500 CABRIO'\n",
      " '500 CABRIO TURBO' '500 HATCHBACK' '500 HATCHBACK TURBO' '500L TURBO'\n",
      " 'C-MAX HYBRID' 'E150 VAN FFV' 'E150 WAGON FFV' 'E350 WAGON'\n",
      " 'E350 WAGON FFV' 'EDGE' 'EDGE AWD' 'ESCAPE' 'ESCAPE AWD'\n",
      " 'EXPEDITION 4X4 FFV' 'EXPLORER' 'EXPLORER AWD' 'EXPLORER FFV'\n",
      " 'EXPLORER FFV AWD' 'F150' 'F150 4X4' 'F150 FFV' 'F150 FFV 4X4'\n",
      " 'F150 RAPTOR 4X4' 'FIESTA' 'FIESTA SFE' 'FIESTA ST' 'FLEX' 'FLEX AWD'\n",
      " 'FLEX AWD (EcoBoost)' 'FOCUS' 'FOCUS FFV' 'FOCUS SFE FFV' 'FUSION'\n",
      " 'FUSION (Start/Stop)' 'FUSION AWD' 'FUSION HYBRID' 'MUSTANG'\n",
      " 'MUSTANG CONVERTIBLE' 'TAURUS' 'TAURUS AWD' 'TAURUS FFV' 'TAURUS FFV AWD'\n",
      " 'TRANSIT CONNECT' 'TRANSIT CONNECT TAXI' 'TRANSIT CONNECT WAGON' 'ACADIA'\n",
      " 'ACADIA AWD' 'SAVANA 1500 CARGO' 'SAVANA 1500 CARGO AWD'\n",
      " 'SAVANA 1500 CARGO CONV' 'SAVANA 1500 CARGO CONV AWD'\n",
      " 'SAVANA 1500 PASSENGER' 'SAVANA 1500 PASSENGER AWD'\n",
      " 'SAVANA 2500 PASSENGER' 'SAVANA 3500 PASSENGER' 'SIERRA' 'SIERRA 4WD'\n",
      " 'TERRAIN' 'TERRAIN AWD' 'YUKON' 'YUKON 4WD' 'YUKON DENALI AWD'\n",
      " 'YUKON DENALI XL AWD' 'YUKON XL' 'YUKON XL 4WD' 'ACCORD' 'ACCORD HYBRID'\n",
      " 'CIVIC' 'CROSSTOUR AWD' 'CR-V' 'CR-V AWD' 'CR-Z' 'FIT' 'ODYSSEY' 'PILOT'\n",
      " 'PILOT AWD' 'RIDGELINE AWD' 'ACCENT' 'ELANTRA GT' 'EQUUS' 'GENESIS'\n",
      " 'SANTA FE' 'SANTA FE 4WD' 'SANTA FE SPORT' 'SANTA FE SPORT 4WD' 'SONATA'\n",
      " 'SONATA HYBRID' 'SONATA HYBRID LIMITED' 'TUCSON' 'TUCSON 4WD' 'VELOSTER'\n",
      " 'VELOSTER TURBO' 'Q50' 'Q50 AWD' 'Q50 HYBRID' 'Q50 HYBRID AWD'\n",
      " 'Q60 AWD COUPE' 'Q60 CONVERTIBLE' 'Q60 COUPE' 'Q70' 'Q70 AWD'\n",
      " 'Q70 HYBRID' 'QX50 AWD' 'QX60' 'QX60 AWD' 'QX60 HYBRID AWD' 'QX70 AWD'\n",
      " 'QX80 4WD' 'F-TYPE CONVERTIBLE' 'F-TYPE S CONVERTIBLE'\n",
      " 'F-TYPE V8 S CONVERTIBLE' 'XF' 'XF 3.0L AWD' 'XFR' 'XFR-S' 'XJ AWD'\n",
      " 'XJ SUPERCHARGED' 'XJL AWD PORTFOLIO' 'XJL SUPERCHARGED' 'XJR' 'XJR LWB'\n",
      " 'XK CONVERTIBLE' 'XK COUPE' 'XKR CONVERTIBLE' 'XKR COUPE'\n",
      " 'XKR-S CONVERTIBLE' 'XKR-S COUPE' 'CHEROKEE' 'CHEROKEE 4X4'\n",
      " 'CHEROKEE 4X4 Active Drive II' 'CHEROKEE TRAILHAWK 4X4' 'COMPASS'\n",
      " 'COMPASS 4X4' 'COMPASS 4X4 TRAIL RATED' 'GRAND CHEROKEE 4X4 (MDS)'\n",
      " 'GRAND CHEROKEE 4X4 DIESEL' 'GRAND CHEROKEE 4X4 FFV'\n",
      " 'GRAND CHEROKEE 4X4 SRT (MDS)' 'PATRIOT' 'PATRIOT 4X4'\n",
      " 'PATRIOT 4X4 TRAIL RATED' 'WRANGLER 4X4 (2-DOOR)'\n",
      " 'WRANGLER UNLIMITED 4X4 (4-DOOR)' 'CADENZA' 'FORTE' 'FORTE 5'\n",
      " 'FORTE KOUP' 'OPTIMA' 'RIO' 'RIO ECO' 'RONDO' 'SEDONA' 'SORENTO'\n",
      " 'SORENTO 4WD' 'SOUL' 'SOUL ECO Dynamics' 'SPORTAGE' 'SPORTAGE AWD'\n",
      " 'AVENTADOR COUPE' 'GALLARDO COUPE' 'LR2' 'LR4' 'RANGE ROVER EVOQUE'\n",
      " 'RANGE ROVER EVOQUE COUPE' 'RANGE ROVER LWB V8 5.0 SC'\n",
      " 'RANGE ROVER LWB V8 5.0 SC FFV' 'RANGE ROVER SPORT V6 3.0 SC'\n",
      " 'RANGE ROVER SPORT V6 3.0 SC FFV' 'RANGE ROVER SPORT V8 5.0 SC'\n",
      " 'RANGE ROVER SPORT V8 5.0 SC FFV' 'RANGE ROVER V6 3.0 SC'\n",
      " 'RANGE ROVER V6 3.0 SC FFV' 'RANGE ROVER V8 5.0 SC'\n",
      " 'RANGE ROVER V8 5.0 SC FFV' 'CT 200h' 'ES 300h' 'ES 350' 'GS 350'\n",
      " 'GS 350 AWD' 'GS 450h' 'GX 460' 'IS 250' 'IS 250 AWD' 'IS 250 C' 'IS 350'\n",
      " 'IS 350 AWD' 'IS 350 C' 'IS F' 'LS 460' 'LS 460 AWD' 'LS 460 L AWD'\n",
      " 'LS 600h L' 'LX 570' 'RX 350 AWD' 'RX 450h AWD' 'MKS AWD' 'MKT AWD'\n",
      " 'MKT LIVERY' 'MKT LIVERY AWD' 'MKX AWD' 'MKZ' 'MKZ AWD' 'MKZ HYBRID'\n",
      " 'NAVIGATOR 4X4 FFV' 'GHIBLI' 'GHIBLI AWD' 'GRANTURISMO'\n",
      " 'GRANTURISMO CONVERTIBLE' 'QUATTROPORTE GTS' 'QUATTROPORTE SQ4' 'CX-5'\n",
      " 'CX-5 4WD' 'CX-9' 'CX-9 4WD' 'MAZDA2' 'MAZDA3 4-DOOR'\n",
      " 'MAZDA3 4-DOOR (i-ELOOP)' 'MAZDA3 4-DOOR (SIL)' 'MAZDA3 5-DOOR'\n",
      " 'MAZDA3 5-DOOR (i-ELOOP)' 'MAZDA3 5-DOOR (SIL)' 'MAZDA5' 'MAZDA6'\n",
      " 'MAZDA6 (i-ELOOP)' 'MX-5' 'B 250' 'C 250' 'C 250 COUPE'\n",
      " 'C 300 4MATIC FFV' 'C 350' 'C 350 4MATIC' 'C 350 4MATIC COUPE'\n",
      " 'C 350 COUPE' 'C 63 AMG' 'C 63 AMG COUPE' 'CL 550 4MATIC' 'CL 63 AMG'\n",
      " 'CLA 250' 'CLA 45 AMG 4MATIC' 'CLS 550 4MATIC' 'CLS 63 AMG 4MATIC'\n",
      " 'CLS 63 AMG S 4MATIC' 'E 250 BLUETEC 4MATIC' 'E 300 4MATIC'\n",
      " 'E 350 4MATIC' 'E 350 4MATIC COUPE' 'E 350 4MATIC WAGON'\n",
      " 'E 350 CABRIOLET' 'E 350 COUPE' 'E 400 HYBRID' 'E 550 4MATIC'\n",
      " 'E 550 CABRIOLET' 'E 550 COUPE' 'E 63 AMG 4MATIC' 'E 63 AMG 4MATIC WAGON'\n",
      " 'E 63 AMG S 4MATIC' 'E 63 AMG S 4MATIC WAGON' 'G 550' 'G 63 AMG'\n",
      " 'GL 350 BLUETEC 4MATIC' 'GL 450 4MATIC' 'GL 550 4MATIC' 'GL 63 AMG'\n",
      " 'GLK 250 BLUETEC 4MATIC' 'GLK 350 4MATIC' 'ML 350 4MATIC FFV'\n",
      " 'ML 350 BLUETEC 4MATIC' 'ML 550 4MATIC' 'ML 63 AMG 4MATIC'\n",
      " 'S 550 4MATIC LWB' 'S 550 4MATIC SWB' 'S 63 AMG 4MATIC' 'SL 550'\n",
      " 'SL 63 AMG' 'SL 65 AMG' 'SLK 250' 'SLK 350' 'SLK 55 AMG'\n",
      " 'SLS AMG BLACK SERIES COUPE' 'SLS AMG GT COUPE' 'SLS AMG ROADSTER'\n",
      " 'COOPER CLUBMAN' 'COOPER CONVERTIBLE' 'COOPER COUNTRYMAN' 'COOPER COUPE'\n",
      " 'COOPER PACEMAN' 'COOPER ROADSTER' 'COOPER S CLUBMAN'\n",
      " 'COOPER S CONVERTIBLE' 'COOPER S COUNTRYMAN ALL4' 'COOPER S COUPE'\n",
      " 'COOPER S PACEMAN ALL4' 'COOPER S ROADSTER' 'JOHN COOPER WORKS CLUBMAN'\n",
      " 'JOHN COOPER WORKS CONVERTIBLE' 'JOHN COOPER WORKS COUNTRYMAN ALL4'\n",
      " 'JOHN COOPER WORKS COUPE' 'JOHN COOPER WORKS PACEMAN ALL4'\n",
      " 'JOHN COOPER WORKS ROADSTER' 'LANCER' 'LANCER AWD' 'LANCER EVOLUTION'\n",
      " 'LANCER RALLIART' 'LANCER SPORTBACK' 'MIRAGE' 'OUTLANDER' 'OUTLANDER 4WD'\n",
      " 'RVR' 'RVR 4WD' '370Z' '370Z ROADSTER' 'ALTIMA' 'ARMADA 4WD' 'FRONTIER'\n",
      " 'FRONTIER 4WD' 'GT-R' 'JUKE' 'JUKE AWD' 'MAXIMA' 'MURANO AWD'\n",
      " 'NV200 CARGO VAN' 'PATHFINDER' 'PATHFINDER 4WD' 'PATHFINDER HYBRID 4WD'\n",
      " 'QUEST' 'ROGUE' 'ROGUE AWD' 'SENTRA' 'TITAN' 'TITAN 4WD' 'VERSA'\n",
      " 'XTERRA 4WD' '911 CARRERA' '911 CARRERA 4' '911 CARRERA 4 CABRIOLET'\n",
      " '911 CARRERA 4S' '911 CARRERA 4S CABRIOLET' '911 CARRERA CABRIOLET'\n",
      " '911 CARRERA S' '911 CARRERA S CABRIOLET' '911 GT3' '911 TURBO'\n",
      " '911 TURBO CABRIOLET' '911 TURBO S' '911 TURBO S CABRIOLET' 'BOXSTER'\n",
      " 'BOXSTER S' 'CAYENNE' 'CAYENNE DIESEL' 'CAYENNE GTS' 'CAYENNE S'\n",
      " 'CAYENNE S HYBRID' 'CAYENNE TURBO' 'CAYMAN' 'CAYMAN S' 'PANAMERA'\n",
      " 'PANAMERA 4' 'PANAMERA 4S' 'PANAMERA 4S EXECUTIVE' 'PANAMERA GTS'\n",
      " 'PANAMERA S' 'PANAMERA TURBO' 'PANAMERA TURBO EXECUTIVE' '1500 (MDS)'\n",
      " '1500 4X4 (MDS)' '1500 4X4 DIESEL' '1500 4X4 FFV' '1500 DIESEL'\n",
      " '1500 FFV' '1500 HFE' 'CARGO VAN FFV' 'GHOST' 'GHOST EWB' 'PHANTOM'\n",
      " 'PHANTOM COUPE' 'PHANTOM DROPHEAD COUPE' 'PHANTOM EWB' 'WRAITH' 'FR-S'\n",
      " 'iQ' 'tC' 'xB' 'xD' 'FORTWO CABRIOLET' 'FORTWO COUPE' 'VIPER COUPE'\n",
      " 'VIPER GTS COUPE' 'BRZ' 'FORESTER AWD' 'IMPREZA AWD' 'IMPREZA WAGON AWD'\n",
      " 'LEGACY AWD' 'OUTBACK AWD' 'TRIBECA AWD' 'XV CROSSTREK AWD'\n",
      " 'XV CROSSTREK HYBRID AWD' '4RUNNER (Part-Time 4WD)' '4RUNNER 4WD'\n",
      " 'AVALON' 'CAMRY' 'CAMRY HYBRID LE' 'CAMRY HYBRID XLE/SE' 'COROLLA'\n",
      " 'COROLLA LE ECO (1-mode)' 'COROLLA LE ECO (2-mode)' 'COROLLA MATRIX'\n",
      " 'FJ CRUISER 4WD' 'HIGHLANDER' 'HIGHLANDER AWD' 'HIGHLANDER HYBRID AWD'\n",
      " 'HIGHLANDER HYBRID AWD LE' 'PRIUS' 'PRIUS c' 'PRIUS v' 'RAV4' 'RAV4 AWD'\n",
      " 'RAV4 LIMITED AWD' 'SEQUOIA 4WD' 'SIENNA' 'SIENNA AWD' 'TACOMA'\n",
      " 'TACOMA 4WD' 'TUNDRA' 'TUNDRA 4WD' 'VENZA' 'VENZA 4WD' 'YARIS' 'BEETLE'\n",
      " 'BEETLE CONVERTIBLE' 'BEETLE TDI CLEAN DIESEL' 'CC' 'CC 4MOTION' 'EOS'\n",
      " 'GOLF WAGON' 'GOLF WAGON TDI CLEAN DIESEL' 'JETTA' 'JETTA GLI'\n",
      " 'JETTA TDI CLEAN DIESEL' 'JETTA TURBO HYBRID' 'PASSAT'\n",
      " 'PASSAT TDI CLEAN DIESEL' 'ROUTAN' 'TIGUAN' 'TIGUAN 4MOTION' 'TOUAREG'\n",
      " 'TOUAREG TDI CLEAN DIESEL' 'S60' 'S60 AWD' 'S80' 'S80 AWD' 'XC60'\n",
      " 'XC60 AWD' 'XC70 AWD' 'XC90 AWD']\n",
      "------------------------------------------------------------------------------------------------------------------------------------------------------\n",
      "Colonne VEHICLECLASS : ['COMPACT' 'SUV - SMALL' 'MID-SIZE' 'MINICOMPACT' 'SUBCOMPACT'\n",
      " 'TWO-SEATER' 'FULL-SIZE' 'STATION WAGON - SMALL' 'SUV - STANDARD'\n",
      " 'VAN - CARGO' 'VAN - PASSENGER' 'PICKUP TRUCK - STANDARD' 'MINIVAN'\n",
      " 'SPECIAL PURPOSE VEHICLE' 'STATION WAGON - MID-SIZE'\n",
      " 'PICKUP TRUCK - SMALL']\n",
      "------------------------------------------------------------------------------------------------------------------------------------------------------\n",
      "Colonne TRANSMISSION : ['AS5' 'M6' 'AV7' 'AS6' 'A6' 'AM7' 'AV8' 'AS8' 'A7' 'A8' 'M7' 'A4' 'M5'\n",
      " 'AV' 'A5' 'AM6' 'AS7' 'A9' 'AS9' 'AV6' 'AS4' 'AM5']\n",
      "------------------------------------------------------------------------------------------------------------------------------------------------------\n",
      "Colonne FUELTYPE : ['Z' 'D' 'X' 'E']\n",
      "------------------------------------------------------------------------------------------------------------------------------------------------------\n"
     ]
    }
   ],
   "source": [
    "for i in variables_qualitatives:\n",
    "    print(\"Colonne\",i,\":\", df[i].unique())\n",
    "    print('-'*150)"
   ]
  },
  {
   "cell_type": "code",
   "execution_count": null,
   "id": "ac5def7c-cede-4e21-a337-f8de9ae74956",
   "metadata": {},
   "outputs": [],
   "source": []
  }
 ],
 "metadata": {
  "kernelspec": {
   "display_name": "Python 3 (ipykernel)",
   "language": "python",
   "name": "python3"
  },
  "language_info": {
   "codemirror_mode": {
    "name": "ipython",
    "version": 3
   },
   "file_extension": ".py",
   "mimetype": "text/x-python",
   "name": "python",
   "nbconvert_exporter": "python",
   "pygments_lexer": "ipython3",
   "version": "3.12.4"
  }
 },
 "nbformat": 4,
 "nbformat_minor": 5
}
